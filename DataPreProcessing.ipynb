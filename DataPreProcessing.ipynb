{
 "cells": [
  {
   "cell_type": "markdown",
   "id": "f9085f0a-a3aa-4771-a2c8-5a8ddb59ca96",
   "metadata": {},
   "source": [
    "# Preprocessing Data"
   ]
  },
  {
   "cell_type": "markdown",
   "id": "44bd2e80-3463-4c20-ac90-50bbeaf852e6",
   "metadata": {},
   "source": [
    "## Processing a raw data given a rules"
   ]
  },
  {
   "cell_type": "code",
   "execution_count": 477,
   "id": "3b3f3763-0052-4bfc-893a-1fefeea4463b",
   "metadata": {},
   "outputs": [],
   "source": [
    "import numpy as np"
   ]
  },
  {
   "cell_type": "code",
   "execution_count": 478,
   "id": "be2f6e7d-5b57-4bbb-9d05-93d9cf9dc773",
   "metadata": {},
   "outputs": [],
   "source": [
    "np.set_printoptions(suppress=True , linewidth=100, precision=2)"
   ]
  },
  {
   "cell_type": "markdown",
   "id": "b8a594e9-7f70-4d41-b8d9-da28aa5493da",
   "metadata": {},
   "source": [
    "> Suppress is for disable a simplified out of bonds digit like `123e+`\n",
    "<br>\n",
    "> Linewidth is t set a width in a roow to a `100`\n",
    "<br>\n",
    "> Precision is used for a display 2 digit decimalals"
   ]
  },
  {
   "cell_type": "markdown",
   "id": "71ea11e4-42b1-4330-b1d4-a9398e8a8641",
   "metadata": {},
   "source": [
    "### Loading a csv data and generate it using `genfromtxt`"
   ]
  },
  {
   "cell_type": "code",
   "execution_count": 479,
   "id": "337538b9-96da-4b61-813d-451f5e83de03",
   "metadata": {},
   "outputs": [],
   "source": [
    "pre_data = \"dataset/loan-data.csv\""
   ]
  },
  {
   "cell_type": "code",
   "execution_count": 480,
   "id": "5427a108-9159-4c06-abfe-9ea9374b0540",
   "metadata": {},
   "outputs": [
    {
     "data": {
      "text/plain": [
       "array([[        nan,         nan,         nan, ...,         nan,         nan,         nan],\n",
       "       [48010226.  ,         nan,    35000.  , ...,         nan,         nan,     9452.96],\n",
       "       [57693261.  ,         nan,    30000.  , ...,         nan,         nan,     4679.7 ],\n",
       "       ...,\n",
       "       [50415990.  ,         nan,    10000.  , ...,         nan,         nan,     2185.64],\n",
       "       [46154151.  ,         nan,         nan, ...,         nan,         nan,     3199.4 ],\n",
       "       [66055249.  ,         nan,    10000.  , ...,         nan,         nan,      301.9 ]])"
      ]
     },
     "execution_count": 480,
     "metadata": {},
     "output_type": "execute_result"
    }
   ],
   "source": [
    "raw_data = np.genfromtxt(pre_data, delimiter=';', encoding='latin1')\n",
    "raw_data"
   ]
  },
  {
   "cell_type": "code",
   "execution_count": null,
   "id": "3dbceba0",
   "metadata": {},
   "outputs": [],
   "source": [
    "\n"
   ]
  },
  {
   "cell_type": "markdown",
   "id": "cbae7de9-fb1d-4bf8-a310-81f1c84d0dcd",
   "metadata": {},
   "source": [
    "### Formatting the data with `skip_header` and `autostrip`"
   ]
  },
  {
   "cell_type": "code",
   "execution_count": 481,
   "id": "0538650b-35b5-4117-9a38-7696f1db41d0",
   "metadata": {},
   "outputs": [
    {
     "data": {
      "text/plain": [
       "array([[48010226.  ,         nan,    35000.  , ...,         nan,         nan,     9452.96],\n",
       "       [57693261.  ,         nan,    30000.  , ...,         nan,         nan,     4679.7 ],\n",
       "       [59432726.  ,         nan,    15000.  , ...,         nan,         nan,     1969.83],\n",
       "       ...,\n",
       "       [50415990.  ,         nan,    10000.  , ...,         nan,         nan,     2185.64],\n",
       "       [46154151.  ,         nan,         nan, ...,         nan,         nan,     3199.4 ],\n",
       "       [66055249.  ,         nan,    10000.  , ...,         nan,         nan,      301.9 ]])"
      ]
     },
     "execution_count": 481,
     "metadata": {},
     "output_type": "execute_result"
    }
   ],
   "source": [
    "raw_data_frmt = np.genfromtxt(pre_data, delimiter=';', skip_header=1, autostrip=True,encoding='latin1')\n",
    "raw_data_frmt"
   ]
  },
  {
   "cell_type": "markdown",
   "id": "4b885467-3aac-4303-9fc9-d0eb83e370be",
   "metadata": {},
   "source": [
    "> Skip the header of the data and the `autostrip` parameter is used to automatically remove (strip) leading and trailing whitespace from the data fields while reading the input text file."
   ]
  },
  {
   "cell_type": "markdown",
   "id": "783bafc8-ebf7-484e-9b25-e72bd0548935",
   "metadata": {},
   "source": [
    "### Checking a nan in a dataset"
   ]
  },
  {
   "cell_type": "code",
   "execution_count": 482,
   "id": "c4e1aef0-3c2e-45c8-b6be-9b6f0e9ee99f",
   "metadata": {},
   "outputs": [
    {
     "data": {
      "text/plain": [
       "array([[False,  True, False, ...,  True,  True, False],\n",
       "       [False,  True, False, ...,  True,  True, False],\n",
       "       [False,  True, False, ...,  True,  True, False],\n",
       "       ...,\n",
       "       [False,  True, False, ...,  True,  True, False],\n",
       "       [False,  True,  True, ...,  True,  True, False],\n",
       "       [False,  True, False, ...,  True,  True, False]])"
      ]
     },
     "execution_count": 482,
     "metadata": {},
     "output_type": "execute_result"
    }
   ],
   "source": [
    "np.isnan(raw_data_frmt)"
   ]
  },
  {
   "cell_type": "markdown",
   "id": "0fcb1429-b2fe-4948-8315-bb6230fdd7b8",
   "metadata": {},
   "source": [
    "> From the output we know where is the data is nan or not by seeing it as a boolean value"
   ]
  },
  {
   "cell_type": "markdown",
   "id": "952b993a-5725-40ab-8e44-85248c684161",
   "metadata": {},
   "source": [
    "### Checking howw many nan data is "
   ]
  },
  {
   "cell_type": "code",
   "execution_count": 483,
   "id": "e4c49df2-fdbb-42b1-b290-fdc424e145b7",
   "metadata": {},
   "outputs": [
    {
     "data": {
      "text/plain": [
       "88005"
      ]
     },
     "execution_count": 483,
     "metadata": {},
     "output_type": "execute_result"
    }
   ],
   "source": [
    "np.isnan(raw_data_frmt).sum()"
   ]
  },
  {
   "cell_type": "markdown",
   "id": "472ce901-9f8b-4e81-8511-60fe3ab0870f",
   "metadata": {},
   "source": [
    "> From the output we know how many Nan data in a dataset"
   ]
  },
  {
   "cell_type": "code",
   "execution_count": 484,
   "id": "4350e23a-d1fb-4d87-a375-a2ad513a6706",
   "metadata": {},
   "outputs": [
    {
     "name": "stderr",
     "output_type": "stream",
     "text": [
      "C:\\Users\\rafly.wicaksana\\AppData\\Local\\Temp\\ipykernel_12028\\2555478099.py:2: RuntimeWarning: Mean of empty slice\n",
      "  temp_mean = np.nanmean(raw_data_frmt, axis=0)\n"
     ]
    }
   ],
   "source": [
    "temp_fill = np.nanmax(raw_data_frmt) + 1\n",
    "temp_mean = np.nanmean(raw_data_frmt, axis=0)"
   ]
  },
  {
   "cell_type": "code",
   "execution_count": 485,
   "id": "be4db514-6d88-4b0f-b5fe-158cbee69eef",
   "metadata": {},
   "outputs": [
    {
     "data": {
      "text/plain": [
       "array([54015809.19,         nan,    15273.46,         nan,    15311.04,         nan,       16.62,\n",
       "            440.92,         nan,         nan,         nan,         nan,         nan,     3143.85])"
      ]
     },
     "execution_count": 485,
     "metadata": {},
     "output_type": "execute_result"
    }
   ],
   "source": [
    "temp_mean"
   ]
  },
  {
   "cell_type": "markdown",
   "id": "c51012cf-e2e0-4889-bc04-84981fdf2f2d",
   "metadata": {},
   "source": [
    "> From the output we know where is the col/row that contains a nan (all the row/col is not contain a single number)\n",
    "<br>\n",
    "> The output that display a number, it col/row is containing atleast one numbers"
   ]
  },
  {
   "cell_type": "code",
   "execution_count": 486,
   "id": "1a8e0442-723c-453d-b5bc-a49f8028e531",
   "metadata": {},
   "outputs": [
    {
     "name": "stderr",
     "output_type": "stream",
     "text": [
      "C:\\Users\\rafly.wicaksana\\AppData\\Local\\Temp\\ipykernel_12028\\4043172921.py:1: RuntimeWarning: All-NaN slice encountered\n",
      "  temp_stats = np.array([np.nanmin(raw_data_frmt, axis=0),\n",
      "C:\\Users\\rafly.wicaksana\\AppData\\Local\\Temp\\ipykernel_12028\\4043172921.py:3: RuntimeWarning: All-NaN slice encountered\n",
      "  np.nanmax(raw_data_frmt, axis=0)])\n"
     ]
    }
   ],
   "source": [
    "temp_stats = np.array([np.nanmin(raw_data_frmt, axis=0),\n",
    "                        temp_mean,\n",
    "                       np.nanmax(raw_data_frmt, axis=0)])"
   ]
  },
  {
   "cell_type": "code",
   "execution_count": null,
   "id": "4385f4c7",
   "metadata": {},
   "outputs": [],
   "source": []
  },
  {
   "cell_type": "code",
   "execution_count": 487,
   "id": "b478cb57-52fe-4894-866f-caced4db8a5a",
   "metadata": {},
   "outputs": [
    {
     "data": {
      "text/plain": [
       "array([[  373332.  ,         nan,     1000.  ,         nan,     1000.  ,         nan,        6.  ,\n",
       "              31.42,         nan,         nan,         nan,         nan,         nan,        0.  ],\n",
       "       [54015809.19,         nan,    15273.46,         nan,    15311.04,         nan,       16.62,\n",
       "             440.92,         nan,         nan,         nan,         nan,         nan,     3143.85],\n",
       "       [68616519.  ,         nan,    35000.  ,         nan,    35000.  ,         nan,       28.99,\n",
       "            1372.97,         nan,         nan,         nan,         nan,         nan,    41913.62]])"
      ]
     },
     "execution_count": 487,
     "metadata": {},
     "output_type": "execute_result"
    }
   ],
   "source": [
    "temp_stats"
   ]
  },
  {
   "cell_type": "markdown",
   "id": "33a6dcf4-9b01-4968-a5c2-f5e4cc661837",
   "metadata": {},
   "source": [
    "#### Splitting Dataset"
   ]
  },
  {
   "cell_type": "markdown",
   "id": "6126cd53-7482-4d84-8b85-ebf7bc988f4a",
   "metadata": {},
   "source": [
    "##### Searching where is the nan located"
   ]
  },
  {
   "cell_type": "code",
   "execution_count": 488,
   "id": "bdf132c4-2aa0-4745-8f54-0ac1feb74ba8",
   "metadata": {},
   "outputs": [
    {
     "data": {
      "text/plain": [
       "array([[ 1],\n",
       "       [ 3],\n",
       "       [ 5],\n",
       "       [ 8],\n",
       "       [ 9],\n",
       "       [10],\n",
       "       [11],\n",
       "       [12]], dtype=int64)"
      ]
     },
     "execution_count": 488,
     "metadata": {},
     "output_type": "execute_result"
    }
   ],
   "source": [
    "col_strings = np.argwhere(np.isnan(temp_mean))\n",
    "col_strings\n"
   ]
  },
  {
   "cell_type": "markdown",
   "id": "6334578f-c1ab-4cf3-827b-2faca3bb93b1",
   "metadata": {},
   "source": [
    "> Display the column that contains a string values based on the `temp_mean` type data"
   ]
  },
  {
   "cell_type": "code",
   "execution_count": 489,
   "id": "43a428e3-6c82-4748-956d-4fe0e88af292",
   "metadata": {},
   "outputs": [
    {
     "data": {
      "text/plain": [
       "array([ 1,  3,  5,  8,  9, 10, 11, 12], dtype=int64)"
      ]
     },
     "execution_count": 489,
     "metadata": {},
     "output_type": "execute_result"
    }
   ],
   "source": [
    "col_strings = np.argwhere(np.isnan(temp_mean)).squeeze()\n",
    "col_strings"
   ]
  },
  {
   "cell_type": "markdown",
   "id": "0e322269-a87a-414a-9c06-faa519d14ccd",
   "metadata": {},
   "source": [
    "> Squeeze will a uniform the array shape based on what slicing we use"
   ]
  },
  {
   "cell_type": "code",
   "execution_count": 490,
   "id": "a8c83482-5e29-48c8-b85f-330e391027e4",
   "metadata": {},
   "outputs": [
    {
     "data": {
      "text/plain": [
       "array([ 0,  2,  4,  6,  7, 13], dtype=int64)"
      ]
     },
     "execution_count": 490,
     "metadata": {},
     "output_type": "execute_result"
    }
   ],
   "source": [
    "col_numeric = np.argwhere(np.isnan(temp_mean) == False).squeeze()\n",
    "col_numeric"
   ]
  },
  {
   "cell_type": "markdown",
   "id": "f8c57c6b-82f1-41f5-b7fd-d1c5ae604658",
   "metadata": {},
   "source": [
    "> Display the column that contains a numeric values based on the ! `temp_mean` data"
   ]
  },
  {
   "cell_type": "code",
   "execution_count": 491,
   "id": "f8e1998b-8f67-4bbe-903d-b93dd242c89e",
   "metadata": {},
   "outputs": [
    {
     "data": {
      "text/plain": [
       "array([['May-15', 'Current', '36 months', ..., 'Verified',\n",
       "        'https://www.lendingclub.com/browse/loanDetail.action?loan_id=48010226', 'CA'],\n",
       "       ['', 'Current', '36 months', ..., 'Source Verified',\n",
       "        'https://www.lendingclub.com/browse/loanDetail.action?loan_id=57693261', 'NY'],\n",
       "       ['Sep-15', 'Current', '36 months', ..., 'Verified',\n",
       "        'https://www.lendingclub.com/browse/loanDetail.action?loan_id=59432726', 'PA'],\n",
       "       ...,\n",
       "       ['Jun-15', 'Current', '36 months', ..., 'Source Verified',\n",
       "        'https://www.lendingclub.com/browse/loanDetail.action?loan_id=50415990', 'CA'],\n",
       "       ['Apr-15', 'Current', '36 months', ..., 'Source Verified',\n",
       "        'https://www.lendingclub.com/browse/loanDetail.action?loan_id=46154151', 'OH'],\n",
       "       ['Dec-15', 'Current', '36 months', ..., '',\n",
       "        'https://www.lendingclub.com/browse/loanDetail.action?loan_id=66055249', 'IL']],\n",
       "      dtype='<U69')"
      ]
     },
     "execution_count": 491,
     "metadata": {},
     "output_type": "execute_result"
    }
   ],
   "source": [
    "loan_data_strings = np.genfromtxt(pre_data, delimiter=';', skip_header=1, autostrip=True, usecols=col_strings, dtype=str, encoding='latin1')\n",
    "loan_data_strings"
   ]
  },
  {
   "cell_type": "code",
   "execution_count": 492,
   "id": "df0360cb-3fcb-4deb-b802-ece4ff1ce2fa",
   "metadata": {},
   "outputs": [
    {
     "data": {
      "text/plain": [
       "array([[48010226.  ,    35000.  ,    35000.  ,       13.33,     1184.86,     9452.96],\n",
       "       [57693261.  ,    30000.  ,    30000.  , 68616520.  ,      938.57,     4679.7 ],\n",
       "       [59432726.  ,    15000.  ,    15000.  , 68616520.  ,      494.86,     1969.83],\n",
       "       ...,\n",
       "       [50415990.  ,    10000.  ,    10000.  , 68616520.  , 68616520.  ,     2185.64],\n",
       "       [46154151.  , 68616520.  ,    10000.  ,       16.55,      354.3 ,     3199.4 ],\n",
       "       [66055249.  ,    10000.  ,    10000.  , 68616520.  ,      309.97,      301.9 ]])"
      ]
     },
     "execution_count": 492,
     "metadata": {},
     "output_type": "execute_result"
    }
   ],
   "source": [
    "loan_data_numeric = np.genfromtxt(pre_data, \n",
    "                               delimiter=';', \n",
    "                               skip_header=1, \n",
    "                               autostrip=True, \n",
    "                               usecols=col_numeric,\n",
    "                               filling_values=temp_fill, encoding='latin1')\n",
    "loan_data_numeric"
   ]
  },
  {
   "cell_type": "markdown",
   "id": "e178eaae-fe83-4832-9e15-e3fac76848d9",
   "metadata": {},
   "source": [
    "#### Define the header"
   ]
  },
  {
   "cell_type": "code",
   "execution_count": 493,
   "id": "af551a32-4107-43cf-86fa-6611adda6733",
   "metadata": {},
   "outputs": [
    {
     "data": {
      "text/plain": [
       "array(['id', 'issue_d', 'loan_amnt', 'loan_status', 'funded_amnt', 'term', 'int_rate',\n",
       "       'installment', 'grade', 'sub_grade', 'verification_status', 'url', 'addr_state',\n",
       "       'total_pymnt'], dtype='<U19')"
      ]
     },
     "execution_count": 493,
     "metadata": {},
     "output_type": "execute_result"
    }
   ],
   "source": [
    "header_full = np.genfromtxt(pre_data, \n",
    "                               delimiter=';', \n",
    "                               skip_footer= raw_data_frmt.shape[0],\n",
    "                               autostrip=True, \n",
    "                               dtype=str,\n",
    "                               encoding='latin1')\n",
    "header_full"
   ]
  },
  {
   "cell_type": "markdown",
   "id": "7fef2cf5-9cf0-4227-b5b5-4350a7b3d0f0",
   "metadata": {},
   "source": [
    "#### Define the header based on the `col_string` and `col_numeric`"
   ]
  },
  {
   "cell_type": "code",
   "execution_count": 494,
   "id": "282b5b2c-017a-46b9-9c51-e8547526c683",
   "metadata": {},
   "outputs": [
    {
     "data": {
      "text/plain": [
       "array(['issue_d', 'loan_status', 'term', 'grade', 'sub_grade', 'verification_status', 'url',\n",
       "       'addr_state'], dtype='<U19')"
      ]
     },
     "execution_count": 494,
     "metadata": {},
     "output_type": "execute_result"
    }
   ],
   "source": [
    "header_string, header_numeric = header_full[col_strings], header_full[col_numeric]\n",
    "header_string"
   ]
  },
  {
   "cell_type": "code",
   "execution_count": 495,
   "id": "dc80e861-ab78-46ad-91d3-9bba73440e5d",
   "metadata": {},
   "outputs": [
    {
     "data": {
      "text/plain": [
       "array(['id', 'loan_amnt', 'funded_amnt', 'int_rate', 'installment', 'total_pymnt'], dtype='<U19')"
      ]
     },
     "execution_count": 495,
     "metadata": {},
     "output_type": "execute_result"
    }
   ],
   "source": [
    "header_numeric"
   ]
  },
  {
   "cell_type": "code",
   "execution_count": 496,
   "id": "cf0e03b1-7d91-4575-8e1e-145995fbd4a7",
   "metadata": {},
   "outputs": [],
   "source": [
    "def checkpoint(file_name, checkpoint_header, checkpoint_data):\n",
    "    np.savez(file_name, header = checkpoint_header, data = checkpoint_data)\n",
    "    checkpoint_variable = np.load(file_name + '.npz')\n",
    "    return (checkpoint_variable)"
   ]
  },
  {
   "cell_type": "code",
   "execution_count": 497,
   "id": "72a8df64-014e-4e0c-8c0a-f049308293bb",
   "metadata": {},
   "outputs": [],
   "source": [
    "checkpoint_numeric =  checkpoint('checkpointNumeric', header_numeric, loan_data_numeric)\n",
    "checkpoint_string = checkpoint('checkpointString', header_string, loan_data_strings)"
   ]
  },
  {
   "cell_type": "code",
   "execution_count": 498,
   "id": "82892ff7-63ea-4f01-8f03-65bbbe319a82",
   "metadata": {},
   "outputs": [
    {
     "data": {
      "text/plain": [
       "True"
      ]
     },
     "execution_count": 498,
     "metadata": {},
     "output_type": "execute_result"
    }
   ],
   "source": [
    "np.array_equal(checkpoint_string['data'], loan_data_strings)"
   ]
  },
  {
   "cell_type": "code",
   "execution_count": 499,
   "id": "a260c3cd-cee7-4dc7-abf6-8d7060a17e53",
   "metadata": {},
   "outputs": [
    {
     "data": {
      "text/plain": [
       "True"
      ]
     },
     "execution_count": 499,
     "metadata": {},
     "output_type": "execute_result"
    }
   ],
   "source": [
    "np.array_equal(checkpoint_numeric['data'], loan_data_numeric)"
   ]
  },
  {
   "cell_type": "code",
   "execution_count": 500,
   "id": "09362b97-6a41-4057-9118-0ac03fd4840a",
   "metadata": {},
   "outputs": [],
   "source": [
    "npz_data = 'checkpointData.npz'\n",
    "load_npz = np.load(npz_data)\n",
    "lst = load_npz.files\n",
    "# for item in lst:\n",
    "#     print('this is item',item)\n",
    "#     print(load_npz[item])\n"
   ]
  },
  {
   "cell_type": "markdown",
   "id": "a0e4bae8-a475-4b42-a21c-1ce989570fd4",
   "metadata": {},
   "source": [
    "# Manipulating Data"
   ]
  },
  {
   "cell_type": "markdown",
   "id": "c02bd233-ff05-424b-85bc-2360a95fecaf",
   "metadata": {},
   "source": [
    "## Issue Date "
   ]
  },
  {
   "cell_type": "code",
   "execution_count": 501,
   "id": "3cca1501-fc61-4410-b136-721aee3cbeeb",
   "metadata": {},
   "outputs": [
    {
     "data": {
      "text/plain": [
       "array(['issue_d', 'loan_status', 'term', 'grade', 'sub_grade', 'verification_status', 'url',\n",
       "       'addr_state'], dtype='<U19')"
      ]
     },
     "execution_count": 501,
     "metadata": {},
     "output_type": "execute_result"
    }
   ],
   "source": [
    "header_string"
   ]
  },
  {
   "cell_type": "code",
   "execution_count": 502,
   "id": "9fba7e17-dce7-41af-9ec9-4d7820319d78",
   "metadata": {},
   "outputs": [
    {
     "data": {
      "text/plain": [
       "array(['issue_date', 'loan_status', 'term', 'grade', 'sub_grade', 'verification_status', 'url',\n",
       "       'addr_state'], dtype='<U19')"
      ]
     },
     "execution_count": 502,
     "metadata": {},
     "output_type": "execute_result"
    }
   ],
   "source": [
    "header_string[0] = 'issue_date'\n",
    "header_string"
   ]
  },
  {
   "cell_type": "code",
   "execution_count": 503,
   "id": "2b4afe53-6518-476b-8aa9-d69074cba823",
   "metadata": {},
   "outputs": [
    {
     "data": {
      "text/plain": [
       "array([['May-15', 'Current', '36 months', ..., 'Verified',\n",
       "        'https://www.lendingclub.com/browse/loanDetail.action?loan_id=48010226', 'CA'],\n",
       "       ['', 'Current', '36 months', ..., 'Source Verified',\n",
       "        'https://www.lendingclub.com/browse/loanDetail.action?loan_id=57693261', 'NY'],\n",
       "       ['Sep-15', 'Current', '36 months', ..., 'Verified',\n",
       "        'https://www.lendingclub.com/browse/loanDetail.action?loan_id=59432726', 'PA'],\n",
       "       ...,\n",
       "       ['Jun-15', 'Current', '36 months', ..., 'Source Verified',\n",
       "        'https://www.lendingclub.com/browse/loanDetail.action?loan_id=50415990', 'CA'],\n",
       "       ['Apr-15', 'Current', '36 months', ..., 'Source Verified',\n",
       "        'https://www.lendingclub.com/browse/loanDetail.action?loan_id=46154151', 'OH'],\n",
       "       ['Dec-15', 'Current', '36 months', ..., '',\n",
       "        'https://www.lendingclub.com/browse/loanDetail.action?loan_id=66055249', 'IL']],\n",
       "      dtype='<U69')"
      ]
     },
     "execution_count": 503,
     "metadata": {},
     "output_type": "execute_result"
    }
   ],
   "source": [
    "loan_data_strings"
   ]
  },
  {
   "cell_type": "code",
   "execution_count": 504,
   "id": "d73fdb41-e51d-49d4-9cf6-b4fbf0201f54",
   "metadata": {},
   "outputs": [
    {
     "data": {
      "text/plain": [
       "array(['', 'Apr-15', 'Aug-15', 'Dec-15', 'Feb-15', 'Jan-15', 'Jul-15', 'Jun-15', 'Mar-15',\n",
       "       'May-15', 'Nov-15', 'Oct-15', 'Sep-15'], dtype='<U69')"
      ]
     },
     "execution_count": 504,
     "metadata": {},
     "output_type": "execute_result"
    }
   ],
   "source": [
    "np.unique(loan_data_strings[:,0])"
   ]
  },
  {
   "cell_type": "code",
   "execution_count": 505,
   "id": "b4d3b830-df51-41ae-8913-0312446043f1",
   "metadata": {},
   "outputs": [],
   "source": [
    "stripped_year = np.chararray.strip(loan_data_strings[:,0],'-15')"
   ]
  },
  {
   "cell_type": "code",
   "execution_count": 506,
   "id": "6ebcbb07-8e92-4b88-8e5e-6dd464512092",
   "metadata": {},
   "outputs": [],
   "source": [
    "loan_data_strings[:,0] = stripped_year"
   ]
  },
  {
   "cell_type": "code",
   "execution_count": 507,
   "id": "36eedc30-ea63-4e2c-8ec0-c810ca6cdb8d",
   "metadata": {},
   "outputs": [
    {
     "data": {
      "text/plain": [
       "array(['May', '', 'Sep', ..., 'Jun', 'Apr', 'Dec'], dtype='<U69')"
      ]
     },
     "execution_count": 507,
     "metadata": {},
     "output_type": "execute_result"
    }
   ],
   "source": [
    "loan_data_strings[:,0]"
   ]
  },
  {
   "cell_type": "code",
   "execution_count": 508,
   "id": "d1e83680-38dd-4500-82fa-7408dcb54582",
   "metadata": {},
   "outputs": [],
   "source": [
    "months = np.array(['','Jan','Feb','Mar','Apr','May','Jun','Jul','Aug','Sep','Oct','Nov','Dec'])"
   ]
  },
  {
   "cell_type": "code",
   "execution_count": 509,
   "id": "12ed7586-cf4c-401a-a9ca-66abeaac70f4",
   "metadata": {},
   "outputs": [],
   "source": [
    "for i in range(13):\n",
    "    loan_data_strings[:,0] = np.where(loan_data_strings[:,0] == months[i],\n",
    "                                     i,\n",
    "                                     loan_data_strings[:,0])"
   ]
  },
  {
   "cell_type": "code",
   "execution_count": 510,
   "id": "32671840-ad70-4986-a23f-61d8397bb097",
   "metadata": {},
   "outputs": [
    {
     "name": "stdout",
     "output_type": "stream",
     "text": [
      "[['0']\n",
      " ['1']\n",
      " ['10']\n",
      " ['11']\n",
      " ['12']\n",
      " ['2']\n",
      " ['3']\n",
      " ['4']\n",
      " ['5']\n",
      " ['6']\n",
      " ['7']\n",
      " ['8']\n",
      " ['9']]\n"
     ]
    }
   ],
   "source": [
    "display_T_issued_date = np.unique(loan_data_strings[:,0])\n",
    "print(display_T_issued_date[np.newaxis].T)"
   ]
  },
  {
   "cell_type": "code",
   "execution_count": 511,
   "id": "6721b199-740e-4f25-8ecd-881eabfbe67d",
   "metadata": {},
   "outputs": [
    {
     "data": {
      "text/plain": [
       "array([['5'],\n",
       "       ['0'],\n",
       "       ['9'],\n",
       "       ...,\n",
       "       ['6'],\n",
       "       ['4'],\n",
       "       ['12']], dtype='<U69')"
      ]
     },
     "execution_count": 511,
     "metadata": {},
     "output_type": "execute_result"
    }
   ],
   "source": [
    "np.transpose(loan_data_strings[:,0][np.newaxis])"
   ]
  },
  {
   "cell_type": "code",
   "execution_count": 512,
   "id": "1222319c-77bb-4e35-b1fc-94eb97a14b69",
   "metadata": {},
   "outputs": [
    {
     "name": "stdout",
     "output_type": "stream",
     "text": [
      "[['0']\n",
      " ['1']\n",
      " ['10']\n",
      " ['11']\n",
      " ['12']\n",
      " ['2']\n",
      " ['3']\n",
      " ['4']\n",
      " ['5']\n",
      " ['6']\n",
      " ['7']\n",
      " ['8']\n",
      " ['9']]\n"
     ]
    }
   ],
   "source": [
    "manipulated_T_issued_date = np.unique(loan_data_strings[:,0])\n",
    "print(manipulated_T_issued_date[np.newaxis].T)"
   ]
  },
  {
   "cell_type": "code",
   "execution_count": 513,
   "id": "80cf94c8-de47-4b2b-b467-33bda204a6e8",
   "metadata": {},
   "outputs": [
    {
     "data": {
      "text/plain": [
       "array(['0', '1', '10', '11', '12', '2', '3', '4', '5', '6', '7', '8', '9'], dtype='<U69')"
      ]
     },
     "execution_count": 513,
     "metadata": {},
     "output_type": "execute_result"
    }
   ],
   "source": [
    "np.unique(loan_data_strings[:,0])"
   ]
  },
  {
   "cell_type": "markdown",
   "id": "89ddd44c-55a1-4226-bc3c-f6fd884f605b",
   "metadata": {},
   "source": [
    "## Loan Status"
   ]
  },
  {
   "cell_type": "code",
   "execution_count": 514,
   "id": "903dae13-d3d4-48c6-a5d6-f17ff5febe2f",
   "metadata": {},
   "outputs": [
    {
     "name": "stdout",
     "output_type": "stream",
     "text": [
      "[['']\n",
      " ['Charged Off']\n",
      " ['Current']\n",
      " ['Default']\n",
      " ['Fully Paid']\n",
      " ['In Grace Period']\n",
      " ['Issued']\n",
      " ['Late (16-30 days)']\n",
      " ['Late (31-120 days)']]\n"
     ]
    }
   ],
   "source": [
    "display_T_loan_status =  np.unique(loan_data_strings[:,1])\n",
    "print(display_T_loan_status[np.newaxis].T)"
   ]
  },
  {
   "cell_type": "code",
   "execution_count": 515,
   "id": "164491a3-d173-403c-bfa3-212c3843db04",
   "metadata": {},
   "outputs": [],
   "source": [
    "status_bad = np.array(['','Charged Off','Default','Late (31-120 days)'])"
   ]
  },
  {
   "cell_type": "code",
   "execution_count": 516,
   "id": "28b64562-a663-499c-926f-1ef7c626abac",
   "metadata": {},
   "outputs": [],
   "source": [
    "loan_data_strings[:,1] = np.where(np.isin(loan_data_strings[:,1], status_bad),\n",
    "                                  0,1)"
   ]
  },
  {
   "cell_type": "code",
   "execution_count": 517,
   "id": "7cc7761b-d4bc-443c-b82b-9bfcc2d9eb21",
   "metadata": {},
   "outputs": [
    {
     "data": {
      "text/plain": [
       "array(['0', '1'], dtype='<U69')"
      ]
     },
     "execution_count": 517,
     "metadata": {},
     "output_type": "execute_result"
    }
   ],
   "source": [
    "np.unique(loan_data_strings[:,1])"
   ]
  },
  {
   "cell_type": "code",
   "execution_count": 518,
   "id": "0e94cd8b-6281-40b7-abde-2f5823ce1dbd",
   "metadata": {},
   "outputs": [
    {
     "name": "stdout",
     "output_type": "stream",
     "text": [
      "[['0']\n",
      " ['1']]\n"
     ]
    }
   ],
   "source": [
    "manipulated_T_loan_status =  np.unique(loan_data_strings[:,1])\n",
    "print(manipulated_T_loan_status[np.newaxis].T)"
   ]
  },
  {
   "cell_type": "markdown",
   "id": "dd67265d-923d-4737-ad21-61259a448c01",
   "metadata": {},
   "source": [
    "## Term Months"
   ]
  },
  {
   "cell_type": "code",
   "execution_count": 519,
   "id": "64052018-6bcd-4b1e-9da5-d98ed56f7ff6",
   "metadata": {},
   "outputs": [
    {
     "data": {
      "text/plain": [
       "array(['issue_date', 'loan_status', 'term_months', 'grade', 'sub_grade', 'verification_status',\n",
       "       'url', 'addr_state'], dtype='<U19')"
      ]
     },
     "execution_count": 519,
     "metadata": {},
     "output_type": "execute_result"
    }
   ],
   "source": [
    "header_string[2] = 'term_months'\n",
    "header_string"
   ]
  },
  {
   "cell_type": "code",
   "execution_count": 520,
   "id": "9d1610aa-5983-46da-b899-61094a55c6ec",
   "metadata": {},
   "outputs": [
    {
     "name": "stdout",
     "output_type": "stream",
     "text": [
      "['36 months' '36 months' '36 months' ... '36 months' '36 months' '36 months']\n",
      "[['']\n",
      " ['36 months']\n",
      " ['60 months']]\n"
     ]
    }
   ],
   "source": [
    "display_T_terms = np.unique(loan_data_strings[:,2])\n",
    "print(loan_data_strings[:,2])\n",
    "print(display_T_terms[np.newaxis].T)"
   ]
  },
  {
   "cell_type": "code",
   "execution_count": 521,
   "id": "5c6d457f-e285-430b-a835-517aaa9a0e5c",
   "metadata": {},
   "outputs": [],
   "source": [
    "stripped_month = np.chararray.strip(loan_data_strings[:,2],' months')\n",
    "loan_data_strings[:,2] = stripped_month"
   ]
  },
  {
   "cell_type": "code",
   "execution_count": 522,
   "id": "bc3fd51e-cfbb-4c5c-b646-beda927aa750",
   "metadata": {},
   "outputs": [],
   "source": [
    "loan_data_strings[:,2] = np.where(loan_data_strings[:,2] == '',\n",
    "                                 '60',\n",
    "                                 loan_data_strings[:,2])"
   ]
  },
  {
   "cell_type": "code",
   "execution_count": 523,
   "id": "7982cf4d-a0b9-4e1c-b730-76e8eb8510f0",
   "metadata": {},
   "outputs": [
    {
     "name": "stdout",
     "output_type": "stream",
     "text": [
      "['36' '36' '36' ... '36' '36' '36']\n",
      "[['36']\n",
      " ['60']]\n"
     ]
    }
   ],
   "source": [
    "manipulated_T_terms = np.unique(loan_data_strings[:,2])\n",
    "print(loan_data_strings[:,2])\n",
    "print(manipulated_T_terms[np.newaxis].T)"
   ]
  },
  {
   "cell_type": "markdown",
   "id": "a1857d3f-96a1-4851-bb3d-c1a4518be2a9",
   "metadata": {},
   "source": [
    "## Grade"
   ]
  },
  {
   "cell_type": "code",
   "execution_count": 524,
   "id": "4e262261-5afb-49e5-a885-23bf334db813",
   "metadata": {},
   "outputs": [
    {
     "data": {
      "text/plain": [
       "array(['issue_date', 'loan_status', 'term_months', 'grade', 'sub_grade', 'verification_status',\n",
       "       'url', 'addr_state'], dtype='<U19')"
      ]
     },
     "execution_count": 524,
     "metadata": {},
     "output_type": "execute_result"
    }
   ],
   "source": [
    "header_string"
   ]
  },
  {
   "cell_type": "code",
   "execution_count": 525,
   "id": "5330feff-f1ba-4a08-b6b9-8920fbfacc2d",
   "metadata": {},
   "outputs": [
    {
     "name": "stdout",
     "output_type": "stream",
     "text": [
      "['C' 'A' 'B' ... 'A' 'D' 'A']\n",
      "['' 'A' 'B' 'C' 'D' 'E' 'F' 'G']\n"
     ]
    }
   ],
   "source": [
    "print(loan_data_strings[:,3])\n",
    "print(np.unique(loan_data_strings[:,3]))"
   ]
  },
  {
   "cell_type": "code",
   "execution_count": 526,
   "id": "686b4164-f748-449a-9a1c-1c075a44d53b",
   "metadata": {},
   "outputs": [],
   "source": [
    "for i in np.unique(loan_data_strings[:,3])[1:]:\n",
    "    loan_data_strings[:,4] = np.where((loan_data_strings[:,4] == '') & (loan_data_strings[:,3] == i),\n",
    "                                      i+'5',\n",
    "                                      loan_data_strings[:,4])"
   ]
  },
  {
   "cell_type": "markdown",
   "id": "b03762e5-e7d1-4c71-a9ee-3388ad7b4d3e",
   "metadata": {},
   "source": [
    "> Changing the lowest data of subgrade from `''` to readable data like `[grade]5`"
   ]
  },
  {
   "cell_type": "code",
   "execution_count": 527,
   "id": "595fa6f0-1c54-4a2e-934b-160c3b0a8123",
   "metadata": {},
   "outputs": [
    {
     "name": "stdout",
     "output_type": "stream",
     "text": [
      "[['' '515']\n",
      " ['A' '1632']\n",
      " ['B' '2606']\n",
      " ['C' '2766']\n",
      " ['D' '1389']\n",
      " ['E' '816']\n",
      " ['F' '236']\n",
      " ['G' '40']]\n",
      "[['' '9']\n",
      " ['A1' '285']\n",
      " ['A2' '278']\n",
      " ['A3' '239']\n",
      " ['A4' '323']\n",
      " ['A5' '592']\n",
      " ['B1' '509']\n",
      " ['B2' '517']\n",
      " ['B3' '530']\n",
      " ['B4' '553']\n",
      " ['B5' '633']\n",
      " ['C1' '629']\n",
      " ['C2' '567']\n",
      " ['C3' '586']\n",
      " ['C4' '564']\n",
      " ['C5' '577']\n",
      " ['D1' '391']\n",
      " ['D2' '267']\n",
      " ['D3' '250']\n",
      " ['D4' '255']\n",
      " ['D5' '288']\n",
      " ['E1' '235']\n",
      " ['E2' '162']\n",
      " ['E3' '171']\n",
      " ['E4' '139']\n",
      " ['E5' '160']\n",
      " ['F1' '94']\n",
      " ['F2' '52']\n",
      " ['F3' '34']\n",
      " ['F4' '43']\n",
      " ['F5' '24']\n",
      " ['G1' '19']\n",
      " ['G2' '10']\n",
      " ['G3' '3']\n",
      " ['G4' '7']\n",
      " ['G5' '5']]\n"
     ]
    }
   ],
   "source": [
    "gr = np.unique(loan_data_strings[:,3], return_counts=True)\n",
    "sb_gr = np.unique(loan_data_strings[:,4], return_counts=True)\n",
    "grade_transpose = np.concatenate((gr[0][:, np.newaxis], gr[1][:, np.newaxis]), axis=1)\n",
    "sub_grade_transpose = np.concatenate((sb_gr[0][:,np.newaxis], sb_gr[1][:,np.newaxis]), axis=1)\n",
    "print(grade_transpose)\n",
    "print(sub_grade_transpose)"
   ]
  },
  {
   "cell_type": "code",
   "execution_count": 528,
   "id": "ca7ab993-a171-4ba6-8e96-68c53fc46caf",
   "metadata": {},
   "outputs": [],
   "source": [
    "loan_data_strings[:,4] = np.where(loan_data_strings[:,4] == '',\n",
    "                                  'H1',\n",
    "                                 loan_data_strings[:,4])"
   ]
  },
  {
   "cell_type": "code",
   "execution_count": 529,
   "id": "214b5a3c-d1d2-4100-b6af-4fdb455974bb",
   "metadata": {},
   "outputs": [
    {
     "name": "stdout",
     "output_type": "stream",
     "text": [
      "[['' '515']\n",
      " ['A' '1632']\n",
      " ['B' '2606']\n",
      " ['C' '2766']\n",
      " ['D' '1389']\n",
      " ['E' '816']\n",
      " ['F' '236']\n",
      " ['G' '40']]\n",
      "[['A1' '285']\n",
      " ['A2' '278']\n",
      " ['A3' '239']\n",
      " ['A4' '323']\n",
      " ['A5' '592']\n",
      " ['B1' '509']\n",
      " ['B2' '517']\n",
      " ['B3' '530']\n",
      " ['B4' '553']\n",
      " ['B5' '633']\n",
      " ['C1' '629']\n",
      " ['C2' '567']\n",
      " ['C3' '586']\n",
      " ['C4' '564']\n",
      " ['C5' '577']\n",
      " ['D1' '391']\n",
      " ['D2' '267']\n",
      " ['D3' '250']\n",
      " ['D4' '255']\n",
      " ['D5' '288']\n",
      " ['E1' '235']\n",
      " ['E2' '162']\n",
      " ['E3' '171']\n",
      " ['E4' '139']\n",
      " ['E5' '160']\n",
      " ['F1' '94']\n",
      " ['F2' '52']\n",
      " ['F3' '34']\n",
      " ['F4' '43']\n",
      " ['F5' '24']\n",
      " ['G1' '19']\n",
      " ['G2' '10']\n",
      " ['G3' '3']\n",
      " ['G4' '7']\n",
      " ['G5' '5']\n",
      " ['H1' '9']]\n"
     ]
    }
   ],
   "source": [
    "gr = np.unique(loan_data_strings[:,3], return_counts=True)\n",
    "sb_gr = np.unique(loan_data_strings[:,4], return_counts=True)\n",
    "grade_transpose = np.concatenate((gr[0][:, np.newaxis], gr[1][:, np.newaxis]), axis=1)\n",
    "sub_grade_transpose = np.concatenate((sb_gr[0][:,np.newaxis], sb_gr[1][:,np.newaxis]), axis=1)\n",
    "print(grade_transpose)\n",
    "print(sub_grade_transpose)"
   ]
  },
  {
   "cell_type": "markdown",
   "id": "6d7aac03-d6cb-4bb7-8145-3cb0f2a6f258",
   "metadata": {},
   "source": [
    "> Displaying data as transpose data "
   ]
  },
  {
   "cell_type": "code",
   "execution_count": 530,
   "id": "b53e3c6e-2a33-463c-9e7c-89cbbaaa4fc6",
   "metadata": {},
   "outputs": [],
   "source": [
    "loan_data_strings = np.delete(loan_data_strings, 3, axis=1)"
   ]
  },
  {
   "cell_type": "code",
   "execution_count": 531,
   "id": "defd32c4-d45e-45cf-b030-d2059b48e515",
   "metadata": {},
   "outputs": [
    {
     "data": {
      "text/plain": [
       "array(['C3', 'A5', 'B5', ..., 'A5', 'D2', 'A4'], dtype='<U69')"
      ]
     },
     "execution_count": 531,
     "metadata": {},
     "output_type": "execute_result"
    }
   ],
   "source": [
    "loan_data_strings[:,3]"
   ]
  },
  {
   "cell_type": "markdown",
   "id": "31ac5e85-67af-4a60-8ced-0bb25f9e050f",
   "metadata": {},
   "source": [
    "> Deleting the unused **Grade** data"
   ]
  },
  {
   "cell_type": "code",
   "execution_count": 532,
   "id": "b53c48e9-0ea2-447c-8c28-3232712a6dba",
   "metadata": {},
   "outputs": [],
   "source": [
    "header_string = np.delete(header_string, 3)"
   ]
  },
  {
   "cell_type": "code",
   "execution_count": 533,
   "id": "fff14f65-0635-4bc9-8fc1-d97d86c78ab5",
   "metadata": {},
   "outputs": [
    {
     "data": {
      "text/plain": [
       "array(['issue_date', 'loan_status', 'term_months', 'sub_grade', 'verification_status', 'url',\n",
       "       'addr_state'], dtype='<U19')"
      ]
     },
     "execution_count": 533,
     "metadata": {},
     "output_type": "execute_result"
    }
   ],
   "source": [
    "header_string"
   ]
  },
  {
   "cell_type": "markdown",
   "id": "7633125d-362d-4f39-9f53-03a44d3f5430",
   "metadata": {},
   "source": [
    "> Deleting the unused header of the **Grade**"
   ]
  },
  {
   "cell_type": "markdown",
   "id": "4caf75db-b765-4b9b-9928-1d33ef949be3",
   "metadata": {},
   "source": [
    "> After deleting the data of grade and the header of grade, now the array index of 3 is now consisting of `sub_grade`"
   ]
  },
  {
   "cell_type": "code",
   "execution_count": 534,
   "id": "bf2bc0de-44a3-4466-8ade-7c8abb8f3a63",
   "metadata": {},
   "outputs": [
    {
     "name": "stdout",
     "output_type": "stream",
     "text": [
      "[['A1' '285']\n",
      " ['A2' '278']\n",
      " ['A3' '239']\n",
      " ['A4' '323']\n",
      " ['A5' '592']\n",
      " ['B1' '509']\n",
      " ['B2' '517']\n",
      " ['B3' '530']\n",
      " ['B4' '553']\n",
      " ['B5' '633']\n",
      " ['C1' '629']\n",
      " ['C2' '567']\n",
      " ['C3' '586']\n",
      " ['C4' '564']\n",
      " ['C5' '577']\n",
      " ['D1' '391']\n",
      " ['D2' '267']\n",
      " ['D3' '250']\n",
      " ['D4' '255']\n",
      " ['D5' '288']\n",
      " ['E1' '235']\n",
      " ['E2' '162']\n",
      " ['E3' '171']\n",
      " ['E4' '139']\n",
      " ['E5' '160']\n",
      " ['F1' '94']\n",
      " ['F2' '52']\n",
      " ['F3' '34']\n",
      " ['F4' '43']\n",
      " ['F5' '24']\n",
      " ['G1' '19']\n",
      " ['G2' '10']\n",
      " ['G3' '3']\n",
      " ['G4' '7']\n",
      " ['G5' '5']\n",
      " ['H1' '9']]\n"
     ]
    }
   ],
   "source": [
    "sb_gr_after = np.unique(loan_data_strings[:,3], return_counts=True)\n",
    "sub_grade_aftertranspose = np.concatenate((sb_gr_after[0][:,np.newaxis], sb_gr_after[1][:,np.newaxis]), axis=1)\n",
    "print(sub_grade_transpose)"
   ]
  },
  {
   "cell_type": "markdown",
   "id": "6a42e414-f72b-4da2-973e-dc7421349197",
   "metadata": {},
   "source": [
    "> Displaying the data of the array index of 3 that previously **Grade**, that now is **sub_grade**"
   ]
  },
  {
   "cell_type": "markdown",
   "id": "497b0a3a-a0ad-43b9-b997-58dad05cb2b3",
   "metadata": {},
   "source": [
    "temp_mean"
   ]
  },
  {
   "cell_type": "markdown",
   "id": "adbfee57-aaf2-4805-bf06-c3e3e218ab1a",
   "metadata": {},
   "source": [
    "#### Converting the sub_grade to an integer using a dictionary"
   ]
  },
  {
   "cell_type": "code",
   "execution_count": 535,
   "id": "f7a60b3b-c0a8-4612-88fa-fef74387e7ff",
   "metadata": {},
   "outputs": [],
   "source": [
    "keys = list(np.unique(loan_data_strings[:,3]))\n",
    "values = list(range(1, np.unique(loan_data_strings[:,3]).shape[0]+1))"
   ]
  },
  {
   "cell_type": "code",
   "execution_count": 536,
   "id": "198cad8d-5715-479b-a61e-88df65488537",
   "metadata": {},
   "outputs": [],
   "source": [
    "dict_sub_grade = dict(zip(keys,values))"
   ]
  },
  {
   "cell_type": "code",
   "execution_count": 537,
   "id": "a074c1f1-b4c9-4e4f-bc8c-99f46f1c5ff5",
   "metadata": {},
   "outputs": [
    {
     "data": {
      "text/plain": [
       "{'A1': 1,\n",
       " 'A2': 2,\n",
       " 'A3': 3,\n",
       " 'A4': 4,\n",
       " 'A5': 5,\n",
       " 'B1': 6,\n",
       " 'B2': 7,\n",
       " 'B3': 8,\n",
       " 'B4': 9,\n",
       " 'B5': 10,\n",
       " 'C1': 11,\n",
       " 'C2': 12,\n",
       " 'C3': 13,\n",
       " 'C4': 14,\n",
       " 'C5': 15,\n",
       " 'D1': 16,\n",
       " 'D2': 17,\n",
       " 'D3': 18,\n",
       " 'D4': 19,\n",
       " 'D5': 20,\n",
       " 'E1': 21,\n",
       " 'E2': 22,\n",
       " 'E3': 23,\n",
       " 'E4': 24,\n",
       " 'E5': 25,\n",
       " 'F1': 26,\n",
       " 'F2': 27,\n",
       " 'F3': 28,\n",
       " 'F4': 29,\n",
       " 'F5': 30,\n",
       " 'G1': 31,\n",
       " 'G2': 32,\n",
       " 'G3': 33,\n",
       " 'G4': 34,\n",
       " 'G5': 35,\n",
       " 'H1': 36}"
      ]
     },
     "execution_count": 537,
     "metadata": {},
     "output_type": "execute_result"
    }
   ],
   "source": [
    "dict_sub_grade"
   ]
  },
  {
   "cell_type": "markdown",
   "id": "366cc90e-d07c-4109-8cef-5d23b4fb85d2",
   "metadata": {},
   "source": [
    "> The dictionary is defined by\n",
    "> <br>\n",
    "> 1. Keys = list of the Grade value (A1,A2, etc)\n",
    "> 2. Values = list of the range/length of Grade value "
   ]
  },
  {
   "cell_type": "code",
   "execution_count": 538,
   "id": "188132db-834a-4f21-8d6e-2ad3c5d7e12f",
   "metadata": {},
   "outputs": [],
   "source": [
    "for i in np.unique(loan_data_strings[:,3]):\n",
    "    loan_data_strings[:,3] = np.where(loan_data_strings[:,3] == i, \n",
    "                                      dict_sub_grade[i],\n",
    "                                     loan_data_strings[:,3])"
   ]
  },
  {
   "cell_type": "code",
   "execution_count": 539,
   "id": "5e6458f0-fa25-4d6c-b00c-f8fa0b4e5e62",
   "metadata": {},
   "outputs": [
    {
     "data": {
      "text/plain": [
       "array([['1'],\n",
       "       ['10'],\n",
       "       ['11'],\n",
       "       ['12'],\n",
       "       ['13'],\n",
       "       ['14'],\n",
       "       ['15'],\n",
       "       ['16'],\n",
       "       ['17'],\n",
       "       ['18'],\n",
       "       ['19'],\n",
       "       ['2'],\n",
       "       ['20'],\n",
       "       ['21'],\n",
       "       ['22'],\n",
       "       ['23'],\n",
       "       ['24'],\n",
       "       ['25'],\n",
       "       ['26'],\n",
       "       ['27'],\n",
       "       ['28'],\n",
       "       ['29'],\n",
       "       ['3'],\n",
       "       ['30'],\n",
       "       ['31'],\n",
       "       ['32'],\n",
       "       ['33'],\n",
       "       ['34'],\n",
       "       ['35'],\n",
       "       ['36'],\n",
       "       ['4'],\n",
       "       ['5'],\n",
       "       ['6'],\n",
       "       ['7'],\n",
       "       ['8'],\n",
       "       ['9']], dtype='<U69')"
      ]
     },
     "execution_count": 539,
     "metadata": {},
     "output_type": "execute_result"
    }
   ],
   "source": [
    "np.unique(loan_data_strings[:,3])[np.newaxis].T"
   ]
  },
  {
   "cell_type": "code",
   "execution_count": null,
   "id": "48cbdd3f",
   "metadata": {},
   "outputs": [],
   "source": []
  },
  {
   "cell_type": "markdown",
   "id": "40a162d5-fa51-4ec9-8627-c028f376cc15",
   "metadata": {},
   "source": [
    "> Dictionary is applied to the `sub_grade` value, then displaying as a transpose"
   ]
  },
  {
   "cell_type": "markdown",
   "id": "f287f63d-33ce-4b07-b0b5-e77b713f6e06",
   "metadata": {},
   "source": [
    "## Verification Status"
   ]
  },
  {
   "cell_type": "code",
   "execution_count": 540,
   "id": "94e06b6d",
   "metadata": {},
   "outputs": [
    {
     "data": {
      "text/plain": [
       "array(['issue_date', 'loan_status', 'term_months', 'sub_grade', 'verification_status', 'url',\n",
       "       'addr_state'], dtype='<U19')"
      ]
     },
     "execution_count": 540,
     "metadata": {},
     "output_type": "execute_result"
    }
   ],
   "source": [
    "header_string"
   ]
  },
  {
   "cell_type": "code",
   "execution_count": 541,
   "id": "238e5070",
   "metadata": {},
   "outputs": [
    {
     "data": {
      "text/plain": [
       "array(['Verified', 'Source Verified', 'Verified', ..., 'Source Verified', 'Source Verified', ''],\n",
       "      dtype='<U69')"
      ]
     },
     "execution_count": 541,
     "metadata": {},
     "output_type": "execute_result"
    }
   ],
   "source": [
    "loan_data_strings[:,4]"
   ]
  },
  {
   "cell_type": "code",
   "execution_count": 542,
   "id": "78f25bee",
   "metadata": {},
   "outputs": [
    {
     "data": {
      "text/plain": [
       "array(['', 'Not Verified', 'Source Verified', 'Verified'], dtype='<U69')"
      ]
     },
     "execution_count": 542,
     "metadata": {},
     "output_type": "execute_result"
    }
   ],
   "source": [
    "np.unique(loan_data_strings[:,4])"
   ]
  },
  {
   "cell_type": "code",
   "execution_count": 543,
   "id": "5f2a6faf-2fe6-4edf-ae40-ca305b9b538b",
   "metadata": {},
   "outputs": [],
   "source": [
    "loan_data_strings[:,4] = np.where((loan_data_strings[:,4] == 'Source Verified') | (loan_data_strings[:,4] == 'Verified'),1,0\n",
    "                                  )"
   ]
  },
  {
   "cell_type": "code",
   "execution_count": 544,
   "id": "61537093-7006-468f-94bd-99627352880c",
   "metadata": {},
   "outputs": [
    {
     "data": {
      "text/plain": [
       "array(['1', '1', '1', ..., '1', '1', '0'], dtype='<U69')"
      ]
     },
     "execution_count": 544,
     "metadata": {},
     "output_type": "execute_result"
    }
   ],
   "source": [
    "loan_data_strings[:,4]"
   ]
  },
  {
   "cell_type": "code",
   "execution_count": 545,
   "id": "217564b8-85da-4daf-bf16-107a93aee57c",
   "metadata": {},
   "outputs": [
    {
     "data": {
      "text/plain": [
       "array(['0', '1'], dtype='<U69')"
      ]
     },
     "execution_count": 545,
     "metadata": {},
     "output_type": "execute_result"
    }
   ],
   "source": [
    "np.unique(loan_data_strings[:,4])"
   ]
  },
  {
   "cell_type": "markdown",
   "id": "513578d3-4419-4f95-9eca-32ac5462ba23",
   "metadata": {},
   "source": [
    "## URL"
   ]
  },
  {
   "cell_type": "code",
   "execution_count": 546,
   "id": "496d2bb9-851e-44d6-a983-0255b272a7ea",
   "metadata": {},
   "outputs": [
    {
     "data": {
      "text/plain": [
       "array(['https://www.lendingclub.com/browse/loanDetail.action?loan_id=48010226',\n",
       "       'https://www.lendingclub.com/browse/loanDetail.action?loan_id=57693261',\n",
       "       'https://www.lendingclub.com/browse/loanDetail.action?loan_id=59432726', ...,\n",
       "       'https://www.lendingclub.com/browse/loanDetail.action?loan_id=50415990',\n",
       "       'https://www.lendingclub.com/browse/loanDetail.action?loan_id=46154151',\n",
       "       'https://www.lendingclub.com/browse/loanDetail.action?loan_id=66055249'], dtype='<U69')"
      ]
     },
     "execution_count": 546,
     "metadata": {},
     "output_type": "execute_result"
    }
   ],
   "source": [
    "loan_data_strings[:,5]"
   ]
  },
  {
   "cell_type": "code",
   "execution_count": 547,
   "id": "9219c032-8e96-4346-a548-79f9d6d9b1f2",
   "metadata": {},
   "outputs": [
    {
     "data": {
      "text/plain": [
       "chararray(['48010226', '57693261', '59432726', ..., '50415990', '46154151', '66055249'],\n",
       "          dtype='<U69')"
      ]
     },
     "execution_count": 547,
     "metadata": {},
     "output_type": "execute_result"
    }
   ],
   "source": [
    "np.chararray.strip(loan_data_strings[:,5], 'https://www.lendingclub.com/browse/loanDetail.action?loan_id=')"
   ]
  },
  {
   "cell_type": "code",
   "execution_count": 548,
   "id": "2a97b696-9fd3-4d4a-a33a-e34bb374d498",
   "metadata": {},
   "outputs": [],
   "source": [
    "loan_data_strings[:,5] = np.chararray.strip(loan_data_strings[:,5], 'https://www.lendingclub.com/browse/loanDetail.action?loan_id=')"
   ]
  },
  {
   "cell_type": "code",
   "execution_count": 549,
   "id": "67e75f56-8edc-4053-be2c-d7930cf0fe26",
   "metadata": {},
   "outputs": [
    {
     "data": {
      "text/plain": [
       "array(['48010226', '57693261', '59432726', ..., '50415990', '46154151', '66055249'], dtype='<U69')"
      ]
     },
     "execution_count": 549,
     "metadata": {},
     "output_type": "execute_result"
    }
   ],
   "source": [
    "loan_data_strings[:,5]"
   ]
  },
  {
   "cell_type": "code",
   "execution_count": 550,
   "id": "1bdc6251-d611-49b7-8fd8-de9caae12265",
   "metadata": {},
   "outputs": [
    {
     "data": {
      "text/plain": [
       "array(['id', 'loan_amnt', 'funded_amnt', 'int_rate', 'installment', 'total_pymnt'], dtype='<U19')"
      ]
     },
     "execution_count": 550,
     "metadata": {},
     "output_type": "execute_result"
    }
   ],
   "source": [
    "header_numeric"
   ]
  },
  {
   "cell_type": "code",
   "execution_count": 551,
   "id": "20af47e9-0daf-4ef5-9bfe-7c766913fea7",
   "metadata": {},
   "outputs": [
    {
     "data": {
      "text/plain": [
       "array([48010226., 57693261., 59432726., ..., 50415990., 46154151., 66055249.])"
      ]
     },
     "execution_count": 551,
     "metadata": {},
     "output_type": "execute_result"
    }
   ],
   "source": [
    "loan_data_numeric[:,0]"
   ]
  },
  {
   "cell_type": "code",
   "execution_count": 552,
   "id": "202c003e-910b-44f0-a741-a3430b0d8100",
   "metadata": {},
   "outputs": [],
   "source": [
    "loan_data_strings = np.delete(loan_data_strings, 5, axis = 1)\n",
    "header_string = np.delete(header_string, 5)"
   ]
  },
  {
   "cell_type": "code",
   "execution_count": 553,
   "id": "4826e206-240f-49d1-b30e-1e484f365887",
   "metadata": {},
   "outputs": [
    {
     "data": {
      "text/plain": [
       "array(['issue_date', 'loan_status', 'term_months', 'sub_grade', 'verification_status',\n",
       "       'addr_state'], dtype='<U19')"
      ]
     },
     "execution_count": 553,
     "metadata": {},
     "output_type": "execute_result"
    }
   ],
   "source": [
    "header_string"
   ]
  },
  {
   "cell_type": "markdown",
   "id": "b7408a78-e06c-4a61-933a-cdf60681d383",
   "metadata": {},
   "source": [
    "## State Address"
   ]
  },
  {
   "cell_type": "code",
   "execution_count": 554,
   "id": "ac091cfd",
   "metadata": {},
   "outputs": [
    {
     "data": {
      "text/plain": [
       "array(['CA', 'NY', 'PA', ..., 'CA', 'OH', 'IL'], dtype='<U69')"
      ]
     },
     "execution_count": 554,
     "metadata": {},
     "output_type": "execute_result"
    }
   ],
   "source": [
    "loan_data_strings[:,5]"
   ]
  },
  {
   "cell_type": "code",
   "execution_count": 555,
   "id": "cf942e81-48c1-4a81-9137-88ba5ab1fb71",
   "metadata": {},
   "outputs": [
    {
     "data": {
      "text/plain": [
       "array(['', 'AK', 'AL', 'AR', 'AZ', 'CA', 'CO', 'CT', 'DC', 'DE', 'FL', 'GA', 'HI', 'IL', 'IN',\n",
       "       'KS', 'KY', 'LA', 'MA', 'MD', 'ME', 'MI', 'MN', 'MO', 'MS', 'MT', 'NC', 'ND', 'NE', 'NH',\n",
       "       'NJ', 'NM', 'NV', 'NY', 'OH', 'OK', 'OR', 'PA', 'RI', 'SC', 'SD', 'TN', 'TX', 'UT', 'VA',\n",
       "       'VT', 'WA', 'WI', 'WV', 'WY'], dtype='<U69')"
      ]
     },
     "execution_count": 555,
     "metadata": {},
     "output_type": "execute_result"
    }
   ],
   "source": [
    "np.unique(loan_data_strings[:,5])"
   ]
  },
  {
   "cell_type": "code",
   "execution_count": 556,
   "id": "e74241e9",
   "metadata": {},
   "outputs": [
    {
     "data": {
      "text/plain": [
       "50"
      ]
     },
     "execution_count": 556,
     "metadata": {},
     "output_type": "execute_result"
    }
   ],
   "source": [
    "np.unique(loan_data_strings[:,5]).size"
   ]
  },
  {
   "cell_type": "code",
   "execution_count": 557,
   "id": "fcc0ca3b",
   "metadata": {},
   "outputs": [
    {
     "data": {
      "text/plain": [
       "(array(['CA', 'NY', 'TX', 'FL', '', 'IL', 'NJ', 'GA', 'PA', 'OH', 'MI', 'NC', 'VA', 'MD', 'AZ',\n",
       "        'WA', 'MA', 'CO', 'MO', 'MN', 'IN', 'WI', 'CT', 'TN', 'NV', 'AL', 'LA', 'OR', 'SC', 'KY',\n",
       "        'KS', 'OK', 'UT', 'AR', 'MS', 'NH', 'NM', 'WV', 'HI', 'RI', 'MT', 'DE', 'DC', 'WY', 'AK',\n",
       "        'NE', 'SD', 'VT', 'ND', 'ME'], dtype='<U69'),\n",
       " array([1336,  777,  758,  690,  500,  389,  341,  321,  320,  312,  267,  261,  242,  222,  220,\n",
       "         216,  210,  201,  160,  156,  152,  148,  143,  143,  130,  119,  116,  108,  107,   84,\n",
       "          84,   83,   74,   74,   61,   58,   57,   49,   44,   40,   28,   27,   27,   27,   26,\n",
       "          25,   24,   17,   16,   10], dtype=int64))"
      ]
     },
     "execution_count": 557,
     "metadata": {},
     "output_type": "execute_result"
    }
   ],
   "source": [
    "state_names, state_count = np.unique(loan_data_strings[:,5], return_counts=True)\n",
    "states_count_sorted = np.argsort(-state_count)\n",
    "state_names[states_count_sorted], state_count[states_count_sorted]"
   ]
  },
  {
   "cell_type": "code",
   "execution_count": 558,
   "id": "174ebbd5",
   "metadata": {},
   "outputs": [],
   "source": [
    "loan_data_strings[:,5] = np.where(loan_data_strings[:,5] == '', 0, loan_data_strings[:,5])"
   ]
  },
  {
   "cell_type": "code",
   "execution_count": 559,
   "id": "03fe89d7",
   "metadata": {},
   "outputs": [
    {
     "data": {
      "text/plain": [
       "(array(['0', 'AK', 'AL', 'AR', 'AZ', 'CA', 'CO', 'CT', 'DC', 'DE', 'FL', 'GA', 'HI', 'IL', 'IN',\n",
       "        'KS', 'KY', 'LA', 'MA', 'MD', 'ME', 'MI', 'MN', 'MO', 'MS', 'MT', 'NC', 'ND', 'NE', 'NH',\n",
       "        'NJ', 'NM', 'NV', 'NY', 'OH', 'OK', 'OR', 'PA', 'RI', 'SC', 'SD', 'TN', 'TX', 'UT', 'VA',\n",
       "        'VT', 'WA', 'WI', 'WV', 'WY'], dtype='<U69'),\n",
       " array([ 500,   26,  119,   74,  220, 1336,  201,  143,   27,   27,  690,  321,   44,  389,  152,\n",
       "          84,   84,  116,  210,  222,   10,  267,  156,  160,   61,   28,  261,   16,   25,   58,\n",
       "         341,   57,  130,  777,  312,   83,  108,  320,   40,  107,   24,  143,  758,   74,  242,\n",
       "          17,  216,  148,   49,   27], dtype=int64))"
      ]
     },
     "execution_count": 559,
     "metadata": {},
     "output_type": "execute_result"
    }
   ],
   "source": [
    "np.unique(loan_data_strings[:,5],return_counts=True)"
   ]
  },
  {
   "cell_type": "code",
   "execution_count": 560,
   "id": "b3945a04",
   "metadata": {},
   "outputs": [],
   "source": [
    "states_west = np.array(['WA','OR','CA','NV','ID','MT','WY','UT','CO','AZ','NM','HI','AK'])\n",
    "states_south = np.array(['TX','OK','AR','LA','MS','AL','TN','KY','FL','GA','SC','NC','VA','WV','MD','DE','DC'])\n",
    "states_midwest = np.array(['ND','SD','NE','KS','MN','IA','MO','WI','IL','MI','IN','OH'])\n",
    "states_east = np.array(['PA','NY','NJ','CT','MA','VT','NH','ME','RI'])"
   ]
  },
  {
   "cell_type": "code",
   "execution_count": 561,
   "id": "d1fbabb2",
   "metadata": {},
   "outputs": [],
   "source": [
    "loan_data_strings[:,5] = np.where(np.isin(loan_data_strings[:,5], states_west), 1, loan_data_strings[:,5])\n",
    "loan_data_strings[:,5] = np.where(np.isin(loan_data_strings[:,5], states_south), 2, loan_data_strings[:,5])\n",
    "loan_data_strings[:,5] = np.where(np.isin(loan_data_strings[:,5], states_midwest), 3, loan_data_strings[:,5])\n",
    "loan_data_strings[:,5] = np.where(np.isin(loan_data_strings[:,5], states_east), 4, loan_data_strings[:,5])"
   ]
  },
  {
   "cell_type": "code",
   "execution_count": 562,
   "id": "f0e98272",
   "metadata": {},
   "outputs": [
    {
     "data": {
      "text/plain": [
       "array([['0'],\n",
       "       ['1'],\n",
       "       ['2'],\n",
       "       ['3'],\n",
       "       ['4']], dtype='<U69')"
      ]
     },
     "execution_count": 562,
     "metadata": {},
     "output_type": "execute_result"
    }
   ],
   "source": [
    "np.unique(loan_data_strings[:,5])[np.newaxis].T\n",
    "# np.unique(loan_data_strings[:,5], return_counts=True)[np.newaxis].T"
   ]
  },
  {
   "cell_type": "code",
   "execution_count": 563,
   "id": "957dfd31",
   "metadata": {},
   "outputs": [
    {
     "data": {
      "text/plain": [
       "array([['5', '1', '36', '13', '1', '1'],\n",
       "       ['0', '1', '36', '5', '1', '4'],\n",
       "       ['9', '1', '36', '10', '1', '4'],\n",
       "       ...,\n",
       "       ['6', '1', '36', '5', '1', '1'],\n",
       "       ['4', '1', '36', '17', '1', '3'],\n",
       "       ['12', '1', '36', '4', '0', '3']], dtype='<U69')"
      ]
     },
     "execution_count": 563,
     "metadata": {},
     "output_type": "execute_result"
    }
   ],
   "source": [
    "loan_data_strings"
   ]
  },
  {
   "cell_type": "code",
   "execution_count": 564,
   "id": "a8038d31",
   "metadata": {},
   "outputs": [],
   "source": [
    "header_string[5] = 'address state'"
   ]
  },
  {
   "cell_type": "code",
   "execution_count": 565,
   "id": "547b00fa",
   "metadata": {},
   "outputs": [
    {
     "data": {
      "text/plain": [
       "array(['issue_date', 'loan_status', 'term_months', 'sub_grade', 'verification_status',\n",
       "       'address state'], dtype='<U19')"
      ]
     },
     "execution_count": 565,
     "metadata": {},
     "output_type": "execute_result"
    }
   ],
   "source": [
    "header_string"
   ]
  },
  {
   "cell_type": "markdown",
   "id": "c3da2dc6",
   "metadata": {},
   "source": [
    "## Casting Loan Data String to Integer"
   ]
  },
  {
   "cell_type": "code",
   "execution_count": 566,
   "id": "332d5561",
   "metadata": {},
   "outputs": [],
   "source": [
    "loan_data_strings = loan_data_strings.astype(np.int32)"
   ]
  },
  {
   "cell_type": "markdown",
   "id": "2733ca2e",
   "metadata": {},
   "source": [
    "> Change the processed data from string to integer using casting"
   ]
  },
  {
   "cell_type": "code",
   "execution_count": 567,
   "id": "64c516ad",
   "metadata": {},
   "outputs": [
    {
     "data": {
      "text/plain": [
       "array(['issue_date', 'loan_status', 'term_months', 'sub_grade', 'verification_status',\n",
       "       'address state'], dtype='<U19')"
      ]
     },
     "execution_count": 567,
     "metadata": {},
     "output_type": "execute_result"
    }
   ],
   "source": [
    "header_string"
   ]
  },
  {
   "cell_type": "code",
   "execution_count": 568,
   "id": "b9c96e82",
   "metadata": {},
   "outputs": [
    {
     "data": {
      "text/plain": [
       "array([[ 5,  1, 36, 13,  1,  1],\n",
       "       [ 0,  1, 36,  5,  1,  4],\n",
       "       [ 9,  1, 36, 10,  1,  4],\n",
       "       ...,\n",
       "       [ 6,  1, 36,  5,  1,  1],\n",
       "       [ 4,  1, 36, 17,  1,  3],\n",
       "       [12,  1, 36,  4,  0,  3]])"
      ]
     },
     "execution_count": 568,
     "metadata": {},
     "output_type": "execute_result"
    }
   ],
   "source": [
    "loan_data_strings"
   ]
  },
  {
   "cell_type": "code",
   "execution_count": 569,
   "id": "add7a26f",
   "metadata": {},
   "outputs": [],
   "source": [
    "checkpoint_string = checkpoint('Checkpoint-Strings', header_string, loan_data_strings)"
   ]
  },
  {
   "cell_type": "code",
   "execution_count": 570,
   "id": "61c8aeea",
   "metadata": {},
   "outputs": [
    {
     "data": {
      "text/plain": [
       "array(['issue_date', 'loan_status', 'term_months', 'sub_grade', 'verification_status',\n",
       "       'address state'], dtype='<U19')"
      ]
     },
     "execution_count": 570,
     "metadata": {},
     "output_type": "execute_result"
    }
   ],
   "source": [
    "checkpoint_string['header']"
   ]
  },
  {
   "cell_type": "markdown",
   "id": "5f7f5a83",
   "metadata": {},
   "source": [
    "> Making checkpoint for string data manipulation"
   ]
  },
  {
   "cell_type": "code",
   "execution_count": 571,
   "id": "6921764d",
   "metadata": {},
   "outputs": [
    {
     "data": {
      "text/plain": [
       "array([[ 5,  1, 36, 13,  1,  1],\n",
       "       [ 0,  1, 36,  5,  1,  4],\n",
       "       [ 9,  1, 36, 10,  1,  4],\n",
       "       ...,\n",
       "       [ 6,  1, 36,  5,  1,  1],\n",
       "       [ 4,  1, 36, 17,  1,  3],\n",
       "       [12,  1, 36,  4,  0,  3]])"
      ]
     },
     "execution_count": 571,
     "metadata": {},
     "output_type": "execute_result"
    }
   ],
   "source": [
    "checkpoint_string['data']"
   ]
  },
  {
   "cell_type": "code",
   "execution_count": 572,
   "id": "de3d0c12",
   "metadata": {},
   "outputs": [
    {
     "data": {
      "text/plain": [
       "True"
      ]
     },
     "execution_count": 572,
     "metadata": {},
     "output_type": "execute_result"
    }
   ],
   "source": [
    "np.array_equal(header_string, checkpoint_string['header'])\n"
   ]
  },
  {
   "cell_type": "code",
   "execution_count": 573,
   "id": "f9fa17b1",
   "metadata": {},
   "outputs": [
    {
     "data": {
      "text/plain": [
       "True"
      ]
     },
     "execution_count": 573,
     "metadata": {},
     "output_type": "execute_result"
    }
   ],
   "source": [
    "np.array_equal(loan_data_strings, checkpoint_string['data'])"
   ]
  },
  {
   "cell_type": "code",
   "execution_count": 574,
   "id": "14ff38f0",
   "metadata": {},
   "outputs": [
    {
     "data": {
      "text/plain": [
       "68616520.0"
      ]
     },
     "execution_count": 574,
     "metadata": {},
     "output_type": "execute_result"
    }
   ],
   "source": [
    "temp_fill"
   ]
  },
  {
   "cell_type": "code",
   "execution_count": 575,
   "id": "3e41590c",
   "metadata": {},
   "outputs": [
    {
     "data": {
      "text/plain": [
       "array([[  373332.  ,         nan,     1000.  ,         nan,     1000.  ,         nan,        6.  ,\n",
       "              31.42,         nan,         nan,         nan,         nan,         nan,        0.  ],\n",
       "       [54015809.19,         nan,    15273.46,         nan,    15311.04,         nan,       16.62,\n",
       "             440.92,         nan,         nan,         nan,         nan,         nan,     3143.85],\n",
       "       [68616519.  ,         nan,    35000.  ,         nan,    35000.  ,         nan,       28.99,\n",
       "            1372.97,         nan,         nan,         nan,         nan,         nan,    41913.62]])"
      ]
     },
     "execution_count": 575,
     "metadata": {},
     "output_type": "execute_result"
    }
   ],
   "source": [
    "temp_stats"
   ]
  },
  {
   "cell_type": "code",
   "execution_count": 576,
   "id": "0355d05d",
   "metadata": {},
   "outputs": [
    {
     "name": "stdout",
     "output_type": "stream",
     "text": [
      "1000.0\n"
     ]
    }
   ],
   "source": [
    "print(temp_stats[0,col_numeric[2]])"
   ]
  },
  {
   "cell_type": "code",
   "execution_count": 577,
   "id": "4d11d1cd",
   "metadata": {},
   "outputs": [
    {
     "data": {
      "text/plain": [
       "array([54015809.19,         nan,    15273.46,         nan,    15311.04,         nan,       16.62,\n",
       "            440.92,         nan,         nan,         nan,         nan,         nan,     3143.85])"
      ]
     },
     "execution_count": 577,
     "metadata": {},
     "output_type": "execute_result"
    }
   ],
   "source": [
    "temp_mean"
   ]
  },
  {
   "cell_type": "code",
   "execution_count": 578,
   "id": "910167c0",
   "metadata": {},
   "outputs": [
    {
     "data": {
      "text/plain": [
       "array([[  373332.  ,         nan,     1000.  ,         nan,     1000.  ,         nan,        6.  ,\n",
       "              31.42,         nan,         nan,         nan,         nan,         nan,        0.  ],\n",
       "       [54015809.19,         nan,    15273.46,         nan,    15311.04,         nan,       16.62,\n",
       "             440.92,         nan,         nan,         nan,         nan,         nan,     3143.85],\n",
       "       [68616519.  ,         nan,    35000.  ,         nan,    35000.  ,         nan,       28.99,\n",
       "            1372.97,         nan,         nan,         nan,         nan,         nan,    41913.62]])"
      ]
     },
     "execution_count": 578,
     "metadata": {},
     "output_type": "execute_result"
    }
   ],
   "source": [
    "temp_stats"
   ]
  },
  {
   "cell_type": "code",
   "execution_count": 579,
   "id": "07b47b33",
   "metadata": {},
   "outputs": [
    {
     "data": {
      "text/plain": [
       "array([    1000.,     1100.,     1175.,     1200.,     1225.,     1325.,     1400.,     1450.,\n",
       "           1500.,     1600.,     1650.,     1675.,     1725.,     1750.,     1800.,     1875.,\n",
       "           1900.,     1950.,     2000.,     2100.,     2200.,     2250.,     2300.,     2350.,\n",
       "           2400.,     2500.,     2525.,     2600.,     2625.,     2650.,     2675.,     2700.,\n",
       "           2775.,     2800.,     2875.,     2900.,     2950.,     3000.,     3050.,     3075.,\n",
       "           3100.,     3150.,     3200.,     3225.,     3250.,     3275.,     3300.,     3325.,\n",
       "           3350.,     3400.,     3450.,     3475.,     3500.,     3525.,     3550.,     3575.,\n",
       "           3600.,     3650.,     3700.,     3725.,     3750.,     3800.,     3850.,     3875.,\n",
       "           3900.,     3925.,     3950.,     3975.,     4000.,     4025.,     4100.,     4125.,\n",
       "           4150.,     4175.,     4200.,     4225.,     4250.,     4275.,     4300.,     4325.,\n",
       "           4350.,     4375.,     4400.,     4450.,     4475.,     4500.,     4525.,     4550.,\n",
       "           4575.,     4600.,     4625.,     4650.,     4700.,     4725.,     4750.,     4800.,\n",
       "           4825.,     4875.,     4900.,     4925.,     4950.,     4975.,     5000.,     5025.,\n",
       "           5050.,     5075.,     5100.,     5125.,     5150.,     5175.,     5200.,     5225.,\n",
       "           5250.,     5275.,     5300.,     5350.,     5400.,     5425.,     5450.,     5500.,\n",
       "           5525.,     5550.,     5575.,     5600.,     5650.,     5675.,     5700.,     5750.,\n",
       "           5775.,     5800.,     5825.,     5875.,     5900.,     5950.,     5975.,     6000.,\n",
       "           6025.,     6050.,     6075.,     6100.,     6125.,     6150.,     6200.,     6225.,\n",
       "           6250.,     6300.,     6325.,     6350.,     6375.,     6400.,     6425.,     6450.,\n",
       "           6475.,     6500.,     6550.,     6600.,     6650.,     6700.,     6725.,     6750.,\n",
       "           6775.,     6800.,     6825.,     6850.,     6900.,     6925.,     6975.,     7000.,\n",
       "           7025.,     7050.,     7075.,     7100.,     7125.,     7150.,     7175.,     7200.,\n",
       "           7225.,     7250.,     7300.,     7325.,     7350.,     7375.,     7400.,     7425.,\n",
       "           7450.,     7475.,     7500.,     7525.,     7575.,     7600.,     7625.,     7650.,\n",
       "           7675.,     7700.,     7725.,     7750.,     7800.,     7825.,     7850.,     7875.,\n",
       "           7900.,     7925.,     7950.,     7975.,     8000.,     8025.,     8075.,     8100.,\n",
       "           8125.,     8150.,     8200.,     8225.,     8250.,     8275.,     8300.,     8325.,\n",
       "           8350.,     8375.,     8400.,     8425.,     8475.,     8500.,     8525.,     8550.,\n",
       "           8600.,     8625.,     8650.,     8675.,     8700.,     8725.,     8750.,     8775.,\n",
       "           8800.,     8825.,     8850.,     8875.,     8900.,     8925.,     8950.,     8975.,\n",
       "           9000.,     9025.,     9075.,     9100.,     9125.,     9150.,     9175.,     9200.,\n",
       "           9225.,     9250.,     9275.,     9300.,     9350.,     9375.,     9400.,     9425.,\n",
       "           9450.,     9500.,     9525.,     9550.,     9575.,     9600.,     9650.,     9675.,\n",
       "           9700.,     9725.,     9775.,     9800.,     9825.,     9900.,     9925.,     9950.,\n",
       "           9975.,    10000.,    10025.,    10050.,    10075.,    10100.,    10150.,    10175.,\n",
       "          10200.,    10225.,    10250.,    10300.,    10325.,    10350.,    10375.,    10400.,\n",
       "          10425.,    10475.,    10500.,    10525.,    10550.,    10575.,    10600.,    10625.,\n",
       "          10650.,    10700.,    10725.,    10750.,    10775.,    10800.,    10825.,    10850.,\n",
       "          10875.,    10900.,    10925.,    10950.,    10975.,    11000.,    11025.,    11075.,\n",
       "          11100.,    11125.,    11150.,    11175.,    11200.,    11225.,    11250.,    11275.,\n",
       "          11300.,    11325.,    11350.,    11375.,    11400.,    11425.,    11450.,    11500.,\n",
       "          11550.,    11575.,    11600.,    11625.,    11650.,    11675.,    11700.,    11725.,\n",
       "          11750.,    11775.,    11800.,    11825.,    11850.,    11875.,    11900.,    11925.,\n",
       "          11950.,    11975.,    12000.,    12050.,    12075.,    12100.,    12150.,    12175.,\n",
       "          12200.,    12225.,    12250.,    12275.,    12300.,    12325.,    12350.,    12375.,\n",
       "          12400.,    12425.,    12450.,    12500.,    12525.,    12550.,    12575.,    12600.,\n",
       "          12625.,    12675.,    12700.,    12725.,    12750.,    12775.,    12800.,    12825.,\n",
       "          12850.,    12900.,    12925.,    12950.,    12975.,    13000.,    13025.,    13050.,\n",
       "          13075.,    13125.,    13150.,    13175.,    13200.,    13225.,    13250.,    13300.,\n",
       "          13325.,    13350.,    13375.,    13425.,    13450.,    13475.,    13500.,    13525.,\n",
       "          13550.,    13600.,    13625.,    13675.,    13700.,    13750.,    13775.,    13800.,\n",
       "          13825.,    13850.,    13900.,    13925.,    13950.,    13975.,    14000.,    14025.,\n",
       "          14050.,    14075.,    14100.,    14125.,    14175.,    14225.,    14250.,    14275.,\n",
       "          14325.,    14350.,    14375.,    14400.,    14425.,    14450.,    14475.,    14500.,\n",
       "          14525.,    14550.,    14575.,    14600.,    14650.,    14675.,    14700.,    14750.,\n",
       "          14800.,    14825.,    14875.,    14900.,    14950.,    14975.,    15000.,    15025.,\n",
       "          15050.,    15075.,    15100.,    15125.,    15150.,    15175.,    15200.,    15250.,\n",
       "          15275.,    15300.,    15325.,    15400.,    15425.,    15450.,    15475.,    15500.,\n",
       "          15525.,    15550.,    15600.,    15625.,    15700.,    15750.,    15775.,    15800.,\n",
       "          15850.,    15875.,    15925.,    15950.,    16000.,    16025.,    16050.,    16075.,\n",
       "          16100.,    16150.,    16200.,    16225.,    16250.,    16300.,    16325.,    16350.,\n",
       "          16375.,    16400.,    16425.,    16450.,    16500.,    16525.,    16550.,    16575.,\n",
       "          16600.,    16625.,    16675.,    16700.,    16725.,    16750.,    16775.,    16800.,\n",
       "          16850.,    16875.,    16925.,    16950.,    17000.,    17050.,    17100.,    17125.,\n",
       "          17150.,    17200.,    17225.,    17250.,    17275.,    17300.,    17325.,    17350.,\n",
       "          17400.,    17425.,    17475.,    17500.,    17550.,    17600.,    17625.,    17650.,\n",
       "          17675.,    17700.,    17725.,    17775.,    17800.,    17825.,    17850.,    17900.,\n",
       "          17925.,    17950.,    17975.,    18000.,    18025.,    18050.,    18075.,    18100.,\n",
       "          18150.,    18200.,    18225.,    18250.,    18275.,    18300.,    18325.,    18350.,\n",
       "          18375.,    18400.,    18425.,    18450.,    18475.,    18500.,    18600.,    18625.,\n",
       "          18650.,    18675.,    18700.,    18750.,    18800.,    18825.,    18850.,    18900.,\n",
       "          18925.,    18950.,    19000.,    19025.,    19050.,    19075.,    19100.,    19125.,\n",
       "          19150.,    19175.,    19200.,    19225.,    19250.,    19275.,    19325.,    19350.,\n",
       "          19375.,    19400.,    19425.,    19475.,    19500.,    19525.,    19575.,    19600.,\n",
       "          19650.,    19725.,    19750.,    19775.,    19800.,    19825.,    19850.,    19875.,\n",
       "          19925.,    19950.,    20000.,    20025.,    20050.,    20100.,    20125.,    20150.,\n",
       "          20200.,    20225.,    20250.,    20300.,    20325.,    20400.,    20425.,    20450.,\n",
       "          20475.,    20500.,    20550.,    20575.,    20600.,    20625.,    20675.,    20700.,\n",
       "          20725.,    20750.,    20800.,    20850.,    20875.,    20925.,    20950.,    20975.,\n",
       "          21000.,    21050.,    21075.,    21100.,    21125.,    21150.,    21175.,    21200.,\n",
       "          21225.,    21275.,    21300.,    21325.,    21350.,    21400.,    21450.,    21500.,\n",
       "          21550.,    21575.,    21600.,    21625.,    21650.,    21700.,    21750.,    21800.,\n",
       "          21825.,    21850.,    21875.,    21900.,    21925.,    21975.,    22000.,    22025.,\n",
       "          22075.,    22125.,    22150.,    22200.,    22225.,    22250.,    22375.,    22400.,\n",
       "          22425.,    22450.,    22475.,    22500.,    22525.,    22575.,    22600.,    22625.,\n",
       "          22675.,    22700.,    22725.,    22750.,    22775.,    22800.,    22825.,    22850.,\n",
       "          22875.,    22900.,    22925.,    22950.,    23000.,    23050.,    23100.,    23175.,\n",
       "          23200.,    23225.,    23275.,    23350.,    23375.,    23400.,    23425.,    23475.,\n",
       "          23500.,    23525.,    23550.,    23575.,    23600.,    23625.,    23650.,    23700.,\n",
       "          23750.,    23800.,    23825.,    23875.,    23900.,    23925.,    23950.,    23975.,\n",
       "          24000.,    24200.,    24225.,    24300.,    24350.,    24375.,    24425.,    24475.,\n",
       "          24500.,    24525.,    24600.,    24625.,    24650.,    24700.,    24725.,    24750.,\n",
       "          24800.,    24825.,    24850.,    24925.,    24950.,    24975.,    25000.,    25075.,\n",
       "          25125.,    25150.,    25200.,    25250.,    25300.,    25325.,    25375.,    25400.,\n",
       "          25425.,    25450.,    25500.,    25550.,    25600.,    25750.,    25800.,    25850.,\n",
       "          25900.,    25925.,    26000.,    26050.,    26125.,    26200.,    26325.,    26375.,\n",
       "          26400.,    26425.,    26450.,    26500.,    26525.,    26550.,    26575.,    26600.,\n",
       "          26625.,    26650.,    26675.,    26750.,    26800.,    26825.,    26850.,    26950.,\n",
       "          26975.,    27000.,    27050.,    27125.,    27200.,    27225.,    27450.,    27500.,\n",
       "          27525.,    27575.,    27600.,    27625.,    27750.,    27925.,    27975.,    28000.,\n",
       "          28250.,    28275.,    28375.,    28425.,    28450.,    28500.,    28550.,    28575.,\n",
       "          28600.,    28775.,    28800.,    28825.,    28850.,    28875.,    28900.,    28925.,\n",
       "          28975.,    29000.,    29300.,    29400.,    29500.,    29550.,    29600.,    29625.,\n",
       "          29675.,    29700.,    29850.,    29875.,    29900.,    29925.,    29950.,    29975.,\n",
       "          30000.,    30025.,    30400.,    30425.,    30450.,    30500.,    30550.,    30725.,\n",
       "          30750.,    30800.,    31000.,    31025.,    31075.,    31125.,    31150.,    31200.,\n",
       "          31275.,    31300.,    31475.,    31500.,    31625.,    31825.,    31850.,    31950.,\n",
       "          32000.,    32225.,    32425.,    32450.,    32500.,    32525.,    32650.,    32750.,\n",
       "          33000.,    33300.,    33425.,    33450.,    33525.,    33550.,    33600.,    33700.,\n",
       "          33750.,    33975.,    34000.,    34075.,    34100.,    34175.,    34200.,    34375.,\n",
       "          34425.,    34475.,    34500.,    34550.,    34675.,    34725.,    34800.,    34875.,\n",
       "          35000., 68616520.])"
      ]
     },
     "execution_count": 579,
     "metadata": {},
     "output_type": "execute_result"
    }
   ],
   "source": [
    "np.unique(loan_data_numeric[:,2])"
   ]
  },
  {
   "cell_type": "code",
   "execution_count": 580,
   "id": "75457ed2",
   "metadata": {},
   "outputs": [
    {
     "data": {
      "text/plain": [
       "array([35000., 30000., 15000., ..., 10000., 10000., 10000.])"
      ]
     },
     "execution_count": 580,
     "metadata": {},
     "output_type": "execute_result"
    }
   ],
   "source": [
    "loan_data_numeric[:,2] = np.where(loan_data_numeric[:,2] == temp_fill, \n",
    "                                  temp_stats[0,col_numeric[2]], \n",
    "                                  loan_data_numeric[:,2])\n",
    "loan_data_numeric[:,2]"
   ]
  },
  {
   "cell_type": "markdown",
   "id": "1b6adefa",
   "metadata": {},
   "source": [
    "> Filling the funded_data using the `min` of the data \n",
    "<br> \n",
    "> We get the min from the `temp_data` we declare previously"
   ]
  },
  {
   "cell_type": "code",
   "execution_count": 581,
   "id": "20696577",
   "metadata": {},
   "outputs": [
    {
     "data": {
      "text/plain": [
       "0"
      ]
     },
     "execution_count": 581,
     "metadata": {},
     "output_type": "execute_result"
    }
   ],
   "source": [
    "np.isnan(loan_data_numeric[:,2]).sum()"
   ]
  },
  {
   "cell_type": "markdown",
   "id": "8e6452ee",
   "metadata": {},
   "source": [
    "> Check the data, is the nan of the funded data is still exists or not "
   ]
  },
  {
   "cell_type": "code",
   "execution_count": 582,
   "id": "06c08f8b",
   "metadata": {},
   "outputs": [],
   "source": [
    "for i in [1,3,4,5]:\n",
    "    loan_data_numeric[:,i] = np.where(loan_data_numeric[:,i] == temp_fill,\n",
    "                                      temp_stats[2,col_numeric[i]],\n",
    "                                      loan_data_numeric[:,i])"
   ]
  },
  {
   "cell_type": "code",
   "execution_count": 583,
   "id": "9056d0c7",
   "metadata": {},
   "outputs": [
    {
     "data": {
      "text/plain": [
       "array([[48010226.  ,    35000.  ,    35000.  ,       13.33,     1184.86,     9452.96],\n",
       "       [57693261.  ,    30000.  ,    30000.  ,       28.99,      938.57,     4679.7 ],\n",
       "       [59432726.  ,    15000.  ,    15000.  ,       28.99,      494.86,     1969.83],\n",
       "       ...,\n",
       "       [50415990.  ,    10000.  ,    10000.  ,       28.99,     1372.97,     2185.64],\n",
       "       [46154151.  ,    35000.  ,    10000.  ,       16.55,      354.3 ,     3199.4 ],\n",
       "       [66055249.  ,    10000.  ,    10000.  ,       28.99,      309.97,      301.9 ]])"
      ]
     },
     "execution_count": 583,
     "metadata": {},
     "output_type": "execute_result"
    }
   ],
   "source": [
    "loan_data_numeric"
   ]
  },
  {
   "cell_type": "markdown",
   "id": "bd3e2520",
   "metadata": {},
   "source": [
    "## Currency Change\n"
   ]
  },
  {
   "cell_type": "code",
   "execution_count": 584,
   "id": "b325b5cc",
   "metadata": {},
   "outputs": [],
   "source": [
    "EUR_USD = np.genfromtxt('dataset/EUR-USD.csv', delimiter=',', autostrip=True)"
   ]
  },
  {
   "cell_type": "code",
   "execution_count": 585,
   "id": "50f147f8",
   "metadata": {},
   "outputs": [
    {
     "data": {
      "text/plain": [
       "array([[ nan,  nan,  nan,  nan,  nan],\n",
       "       [1.21, 1.21, 1.11, 1.13, 0.  ],\n",
       "       [1.13, 1.15, 1.12, 1.12, 0.  ],\n",
       "       [1.12, 1.12, 1.05, 1.08, 0.  ],\n",
       "       [1.07, 1.12, 1.05, 1.11, 0.  ],\n",
       "       [1.12, 1.15, 1.08, 1.1 , 0.  ],\n",
       "       [1.1 , 1.14, 1.09, 1.12, 0.  ],\n",
       "       [1.11, 1.12, 1.08, 1.09, 0.  ],\n",
       "       [1.1 , 1.17, 1.09, 1.13, 0.  ],\n",
       "       [1.12, 1.15, 1.11, 1.13, 0.  ],\n",
       "       [1.12, 1.15, 1.09, 1.1 , 0.  ],\n",
       "       [1.1 , 1.11, 1.06, 1.06, 0.  ],\n",
       "       [1.06, 1.11, 1.05, 1.09, 0.  ]])"
      ]
     },
     "execution_count": 585,
     "metadata": {},
     "output_type": "execute_result"
    }
   ],
   "source": [
    "EUR_USD"
   ]
  },
  {
   "cell_type": "code",
   "execution_count": 586,
   "id": "d1ea1f43",
   "metadata": {},
   "outputs": [
    {
     "data": {
      "text/plain": [
       "array([['Open', 'High', 'Low', 'Close', 'Volume'],\n",
       "       ['1.2098628282546997', '1.2098628282546997', '1.11055588722229', '1.1287955045700073', '0'],\n",
       "       ['1.1287955045700073', '1.1484194993972778', '1.117680549621582', '1.1205360889434814',\n",
       "        '0'],\n",
       "       ['1.119795799255371', '1.1240400075912476', '1.0460032224655151', '1.0830246210098267',\n",
       "        '0'],\n",
       "       ['1.0741022825241089', '1.1247594356536865', '1.0521597862243652', '1.1114321947097778',\n",
       "        '0'],\n",
       "       ['1.1215037107467651', '1.145304799079895', '1.0821995735168457', '1.0960345268249512',\n",
       "        '0'],\n",
       "       ['1.095902442932129', '1.1428401470184326', '1.0888904333114624', '1.122296690940857', '0'],\n",
       "       ['1.1134989261627197', '1.1219995021820068', '1.081270456314087', '1.0939244031906128',\n",
       "        '0'],\n",
       "       ['1.0969001054763794', '1.1705996990203857', '1.0850305557250977', '1.1340054273605347',\n",
       "        '0'],\n",
       "       ['1.1225990056991577', '1.1460003852844238', '1.1089695692062378', '1.1255937814712524',\n",
       "        '0'],\n",
       "       ['1.1171561479568481', '1.1494200229644775', '1.0910003185272217', '1.100897192955017',\n",
       "        '0'],\n",
       "       ['1.1024993658065796', '1.1060001850128174', '1.056400179862976', '1.0583018064498901',\n",
       "        '0'],\n",
       "       ['1.0572947263717651', '1.107000470161438', '1.0541995763778687', '1.093398094177246', '0']],\n",
       "      dtype='<U18')"
      ]
     },
     "execution_count": 586,
     "metadata": {},
     "output_type": "execute_result"
    }
   ],
   "source": [
    "EUR_USD = np.genfromtxt('dataset/EUR-USD.csv', delimiter=',', autostrip=True, dtype=str)\n",
    "EUR_USD"
   ]
  },
  {
   "cell_type": "markdown",
   "id": "eb87edaf",
   "metadata": {},
   "source": [
    "> We using a data so we skip the header and we use the coloumn of the 3rd index"
   ]
  },
  {
   "cell_type": "code",
   "execution_count": 587,
   "id": "5d916a53",
   "metadata": {},
   "outputs": [
    {
     "data": {
      "text/plain": [
       "array([1.13, 1.12, 1.08, 1.11, 1.1 , 1.12, 1.09, 1.13, 1.13, 1.1 , 1.06, 1.09])"
      ]
     },
     "execution_count": 587,
     "metadata": {},
     "output_type": "execute_result"
    }
   ],
   "source": [
    "EUR_USD = np.genfromtxt('dataset/EUR-USD.csv', delimiter=',', autostrip=True, skip_header=1, usecols=3)\n",
    "EUR_USD"
   ]
  },
  {
   "cell_type": "code",
   "execution_count": 588,
   "id": "970c1230",
   "metadata": {},
   "outputs": [],
   "source": [
    "exchange_rate = loan_data_strings[:,0]\n",
    "for i in range(1,13):\n",
    "    exchange_rate = np.where(exchange_rate == i,\n",
    "                            EUR_USD[i-1],\n",
    "                            exchange_rate)\n",
    "exchange_rate = np.where(exchange_rate == 0,\n",
    "                         np.mean(EUR_USD),\n",
    "                         exchange_rate)"
   ]
  },
  {
   "cell_type": "code",
   "execution_count": 589,
   "id": "4e008f0c",
   "metadata": {},
   "outputs": [
    {
     "data": {
      "text/plain": [
       "array([[1.06],\n",
       "       [1.08],\n",
       "       [1.09],\n",
       "       [1.09],\n",
       "       [1.1 ],\n",
       "       [1.1 ],\n",
       "       [1.11],\n",
       "       [1.11],\n",
       "       [1.12],\n",
       "       [1.12],\n",
       "       [1.13],\n",
       "       [1.13],\n",
       "       [1.13]])"
      ]
     },
     "execution_count": 589,
     "metadata": {},
     "output_type": "execute_result"
    }
   ],
   "source": [
    "np.unique(exchange_rate)[np.newaxis].T"
   ]
  },
  {
   "cell_type": "code",
   "execution_count": 590,
   "id": "ae0fa93a",
   "metadata": {},
   "outputs": [
    {
     "data": {
      "text/plain": [
       "(10000, 6)"
      ]
     },
     "execution_count": 590,
     "metadata": {},
     "output_type": "execute_result"
    }
   ],
   "source": [
    "loan_data_numeric.shape"
   ]
  },
  {
   "cell_type": "code",
   "execution_count": 591,
   "id": "b7c91ec6",
   "metadata": {},
   "outputs": [
    {
     "data": {
      "text/plain": [
       "(10000,)"
      ]
     },
     "execution_count": 591,
     "metadata": {},
     "output_type": "execute_result"
    }
   ],
   "source": [
    "exchange_rate.shape"
   ]
  },
  {
   "cell_type": "code",
   "execution_count": 592,
   "id": "1acd98b1",
   "metadata": {},
   "outputs": [],
   "source": [
    "exchange_rate = np.reshape(exchange_rate, (10000,1))"
   ]
  },
  {
   "cell_type": "code",
   "execution_count": 593,
   "id": "f5344710",
   "metadata": {},
   "outputs": [
    {
     "data": {
      "text/plain": [
       "array([[1.1 ],\n",
       "       [1.11],\n",
       "       [1.13],\n",
       "       ...,\n",
       "       [1.12],\n",
       "       [1.11],\n",
       "       [1.09]])"
      ]
     },
     "execution_count": 593,
     "metadata": {},
     "output_type": "execute_result"
    }
   ],
   "source": [
    "exchange_rate"
   ]
  },
  {
   "cell_type": "code",
   "execution_count": 594,
   "id": "4899ee29",
   "metadata": {},
   "outputs": [
    {
     "data": {
      "text/plain": [
       "array(['id', 'loan_amnt', 'funded_amnt', 'int_rate', 'installment', 'total_pymnt'], dtype='<U19')"
      ]
     },
     "execution_count": 594,
     "metadata": {},
     "output_type": "execute_result"
    }
   ],
   "source": [
    "header_numeric"
   ]
  },
  {
   "cell_type": "code",
   "execution_count": 595,
   "id": "a805bbd5",
   "metadata": {},
   "outputs": [],
   "source": [
    "loan_data_numeric = np.hstack((loan_data_numeric, exchange_rate))"
   ]
  },
  {
   "cell_type": "code",
   "execution_count": 596,
   "id": "3fa29f29",
   "metadata": {},
   "outputs": [],
   "source": [
    "header_numeric = np.concatenate((header_numeric, np.array(['exchange_rate'])))"
   ]
  },
  {
   "cell_type": "markdown",
   "id": "fd77c9fe",
   "metadata": {},
   "source": [
    "> Adding new Header `called exchange_rate`"
   ]
  },
  {
   "cell_type": "code",
   "execution_count": 597,
   "id": "e8effbb9",
   "metadata": {},
   "outputs": [
    {
     "data": {
      "text/plain": [
       "array(['id', 'loan_amnt', 'funded_amnt', 'int_rate', 'installment', 'total_pymnt', 'exchange_rate'],\n",
       "      dtype='<U19')"
      ]
     },
     "execution_count": 597,
     "metadata": {},
     "output_type": "execute_result"
    }
   ],
   "source": [
    "header_numeric"
   ]
  },
  {
   "cell_type": "code",
   "execution_count": 598,
   "id": "ef336595",
   "metadata": {},
   "outputs": [],
   "source": [
    "column_dollar = np.array([1,2,4,5])"
   ]
  },
  {
   "cell_type": "code",
   "execution_count": 599,
   "id": "6196b40c",
   "metadata": {},
   "outputs": [
    {
     "data": {
      "text/plain": [
       "array([[[35000.  , 35000.  ,  1184.86,  9452.96]],\n",
       "\n",
       "       [[30000.  , 30000.  ,   938.57,  4679.7 ]],\n",
       "\n",
       "       [[15000.  , 15000.  ,   494.86,  1969.83]],\n",
       "\n",
       "       ...,\n",
       "\n",
       "       [[10000.  , 10000.  ,  1372.97,  2185.64]],\n",
       "\n",
       "       [[35000.  , 10000.  ,   354.3 ,  3199.4 ]],\n",
       "\n",
       "       [[10000.  , 10000.  ,   309.97,   301.9 ]]])"
      ]
     },
     "execution_count": 599,
     "metadata": {},
     "output_type": "execute_result"
    }
   ],
   "source": [
    "\n",
    "loan_data_numeric[:,[column_dollar]]"
   ]
  },
  {
   "cell_type": "code",
   "execution_count": 600,
   "id": "1ce247e2",
   "metadata": {},
   "outputs": [
    {
     "data": {
      "text/plain": [
       "array([[48010226.  ,    35000.  ,    35000.  , ...,     1184.86,     9452.96,        1.1 ],\n",
       "       [57693261.  ,    30000.  ,    30000.  , ...,      938.57,     4679.7 ,        1.11],\n",
       "       [59432726.  ,    15000.  ,    15000.  , ...,      494.86,     1969.83,        1.13],\n",
       "       ...,\n",
       "       [50415990.  ,    10000.  ,    10000.  , ...,     1372.97,     2185.64,        1.12],\n",
       "       [46154151.  ,    35000.  ,    10000.  , ...,      354.3 ,     3199.4 ,        1.11],\n",
       "       [66055249.  ,    10000.  ,    10000.  , ...,      309.97,      301.9 ,        1.09]])"
      ]
     },
     "execution_count": 600,
     "metadata": {},
     "output_type": "execute_result"
    }
   ],
   "source": [
    "loan_data_numeric"
   ]
  },
  {
   "cell_type": "code",
   "execution_count": 601,
   "id": "58c10eb9",
   "metadata": {},
   "outputs": [],
   "source": [
    "for i in column_dollar:\n",
    "    loan_data_numeric = np.hstack((loan_data_numeric, np.reshape(loan_data_numeric[:,i] / loan_data_numeric[:,6], (10000,1))))"
   ]
  },
  {
   "cell_type": "code",
   "execution_count": 602,
   "id": "ccb19fb7",
   "metadata": {},
   "outputs": [
    {
     "data": {
      "text/plain": [
       "(10000, 11)"
      ]
     },
     "execution_count": 602,
     "metadata": {},
     "output_type": "execute_result"
    }
   ],
   "source": [
    "loan_data_numeric.shape"
   ]
  },
  {
   "cell_type": "code",
   "execution_count": 603,
   "id": "2877bef0",
   "metadata": {},
   "outputs": [
    {
     "data": {
      "text/plain": [
       "array(['id', 'loan_amnt', 'funded_amnt', 'int_rate', 'installment', 'total_pymnt', 'exchange_rate'],\n",
       "      dtype='<U19')"
      ]
     },
     "execution_count": 603,
     "metadata": {},
     "output_type": "execute_result"
    }
   ],
   "source": [
    "header_numeric"
   ]
  },
  {
   "cell_type": "code",
   "execution_count": 604,
   "id": "389a425d",
   "metadata": {},
   "outputs": [],
   "source": [
    "header_additional = np.array([column_name + '_EUR' \n",
    "                              for column_name in header_numeric[column_dollar]])"
   ]
  },
  {
   "cell_type": "code",
   "execution_count": 605,
   "id": "b6320bb6",
   "metadata": {},
   "outputs": [
    {
     "data": {
      "text/plain": [
       "array(['loan_amnt_EUR', 'funded_amnt_EUR', 'installment_EUR', 'total_pymnt_EUR'], dtype='<U15')"
      ]
     },
     "execution_count": 605,
     "metadata": {},
     "output_type": "execute_result"
    }
   ],
   "source": [
    "header_additional"
   ]
  },
  {
   "cell_type": "code",
   "execution_count": 606,
   "id": "f9f591f0",
   "metadata": {},
   "outputs": [],
   "source": [
    "header_numeric = np.concatenate((header_numeric, header_additional))"
   ]
  },
  {
   "cell_type": "code",
   "execution_count": 607,
   "id": "dde681f8",
   "metadata": {},
   "outputs": [
    {
     "data": {
      "text/plain": [
       "array(['id', 'loan_amnt', 'funded_amnt', 'int_rate', 'installment', 'total_pymnt', 'exchange_rate',\n",
       "       'loan_amnt_EUR', 'funded_amnt_EUR', 'installment_EUR', 'total_pymnt_EUR'], dtype='<U19')"
      ]
     },
     "execution_count": 607,
     "metadata": {},
     "output_type": "execute_result"
    }
   ],
   "source": [
    "header_numeric"
   ]
  },
  {
   "cell_type": "code",
   "execution_count": 608,
   "id": "0386d5f5",
   "metadata": {},
   "outputs": [
    {
     "data": {
      "text/plain": [
       "array([['id'],\n",
       "       ['loan_amnt'],\n",
       "       ['funded_amnt'],\n",
       "       ['int_rate'],\n",
       "       ['installment'],\n",
       "       ['total_pymnt'],\n",
       "       ['exchange_rate'],\n",
       "       ['loan_amnt_EUR'],\n",
       "       ['funded_amnt_EUR'],\n",
       "       ['installment_EUR'],\n",
       "       ['total_pymnt_EUR']], dtype='<U19')"
      ]
     },
     "execution_count": 608,
     "metadata": {},
     "output_type": "execute_result"
    }
   ],
   "source": [
    "header_numeric[np.newaxis].T"
   ]
  },
  {
   "cell_type": "code",
   "execution_count": 609,
   "id": "9da732a3",
   "metadata": {},
   "outputs": [],
   "source": [
    "header_numeric[column_dollar] = np.array([column_name + '_USD' \n",
    "                                          for column_name in header_numeric[column_dollar]])"
   ]
  },
  {
   "cell_type": "code",
   "execution_count": 610,
   "id": "7f2fccf4",
   "metadata": {},
   "outputs": [
    {
     "data": {
      "text/plain": [
       "array(['id', 'loan_amnt_USD', 'funded_amnt_USD', 'int_rate', 'installment_USD', 'total_pymnt_USD',\n",
       "       'exchange_rate', 'loan_amnt_EUR', 'funded_amnt_EUR', 'installment_EUR', 'total_pymnt_EUR'],\n",
       "      dtype='<U19')"
      ]
     },
     "execution_count": 610,
     "metadata": {},
     "output_type": "execute_result"
    }
   ],
   "source": [
    "header_numeric"
   ]
  },
  {
   "cell_type": "code",
   "execution_count": 611,
   "id": "3cc9b0c7",
   "metadata": {},
   "outputs": [],
   "source": [
    "column_index_order = [0,1,7,2,8,3,4,9,5,10,6]"
   ]
  },
  {
   "cell_type": "code",
   "execution_count": 612,
   "id": "d3524be5",
   "metadata": {},
   "outputs": [
    {
     "data": {
      "text/plain": [
       "array(['id', 'loan_amnt_USD', 'loan_amnt_EUR', 'funded_amnt_USD', 'funded_amnt_EUR', 'int_rate',\n",
       "       'installment_USD', 'installment_EUR', 'total_pymnt_USD', 'total_pymnt_EUR', 'exchange_rate'],\n",
       "      dtype='<U19')"
      ]
     },
     "execution_count": 612,
     "metadata": {},
     "output_type": "execute_result"
    }
   ],
   "source": [
    "header_numeric[column_index_order]"
   ]
  },
  {
   "cell_type": "code",
   "execution_count": 613,
   "id": "ddda5031",
   "metadata": {},
   "outputs": [
    {
     "data": {
      "text/plain": [
       "array([[48010226.  ,    35000.  ,    35000.  , ...,    31933.3 ,     1081.04,     8624.69],\n",
       "       [57693261.  ,    30000.  ,    30000.  , ...,    27132.46,      848.86,     4232.39],\n",
       "       [59432726.  ,    15000.  ,    15000.  , ...,    13326.3 ,      439.64,     1750.04],\n",
       "       ...,\n",
       "       [50415990.  ,    10000.  ,    10000.  , ...,     8910.3 ,     1223.36,     1947.47],\n",
       "       [46154151.  ,    35000.  ,    10000.  , ...,     8997.4 ,      318.78,     2878.63],\n",
       "       [66055249.  ,    10000.  ,    10000.  , ...,     9145.8 ,      283.49,      276.11]])"
      ]
     },
     "execution_count": 613,
     "metadata": {},
     "output_type": "execute_result"
    }
   ],
   "source": [
    "loan_data_numeric"
   ]
  },
  {
   "cell_type": "code",
   "execution_count": 614,
   "id": "69952d6b",
   "metadata": {},
   "outputs": [],
   "source": [
    "header_numeric = header_numeric[column_index_order]"
   ]
  },
  {
   "cell_type": "code",
   "execution_count": 615,
   "id": "07ec9312",
   "metadata": {},
   "outputs": [],
   "source": [
    "loan_data_numeric = loan_data_numeric[:,column_index_order]"
   ]
  },
  {
   "cell_type": "code",
   "execution_count": 616,
   "id": "fe550da0",
   "metadata": {},
   "outputs": [
    {
     "data": {
      "text/plain": [
       "array(['id', 'loan_amnt_USD', 'loan_amnt_EUR', 'funded_amnt_USD', 'funded_amnt_EUR', 'int_rate',\n",
       "       'installment_USD', 'installment_EUR', 'total_pymnt_USD', 'total_pymnt_EUR', 'exchange_rate'],\n",
       "      dtype='<U19')"
      ]
     },
     "execution_count": 616,
     "metadata": {},
     "output_type": "execute_result"
    }
   ],
   "source": [
    "header_numeric"
   ]
  },
  {
   "cell_type": "code",
   "execution_count": 617,
   "id": "24b5ce45",
   "metadata": {},
   "outputs": [
    {
     "data": {
      "text/plain": [
       "array([[48010226.  ,    35000.  ,    31933.3 , ...,     9452.96,     8624.69,        1.1 ],\n",
       "       [57693261.  ,    30000.  ,    27132.46, ...,     4679.7 ,     4232.39,        1.11],\n",
       "       [59432726.  ,    15000.  ,    13326.3 , ...,     1969.83,     1750.04,        1.13],\n",
       "       ...,\n",
       "       [50415990.  ,    10000.  ,     8910.3 , ...,     2185.64,     1947.47,        1.12],\n",
       "       [46154151.  ,    35000.  ,    31490.9 , ...,     3199.4 ,     2878.63,        1.11],\n",
       "       [66055249.  ,    10000.  ,     9145.8 , ...,      301.9 ,      276.11,        1.09]])"
      ]
     },
     "execution_count": 617,
     "metadata": {},
     "output_type": "execute_result"
    }
   ],
   "source": [
    "loan_data_numeric"
   ]
  },
  {
   "cell_type": "code",
   "execution_count": 618,
   "id": "68625990",
   "metadata": {},
   "outputs": [],
   "source": [
    "loan_data_numeric[:,5] = loan_data_numeric[:,5] / 1000"
   ]
  },
  {
   "cell_type": "code",
   "execution_count": 619,
   "id": "b92df278",
   "metadata": {},
   "outputs": [
    {
     "data": {
      "text/plain": [
       "array([0.01, 0.03, 0.03, ..., 0.03, 0.02, 0.03])"
      ]
     },
     "execution_count": 619,
     "metadata": {},
     "output_type": "execute_result"
    }
   ],
   "source": [
    "loan_data_numeric[:,5]"
   ]
  },
  {
   "cell_type": "code",
   "execution_count": 628,
   "id": "6d13c50c",
   "metadata": {},
   "outputs": [],
   "source": [
    "checkpoint_numeric = checkpoint('Checkpoint-Numeric', header_numeric, loan_data_numeric)"
   ]
  },
  {
   "cell_type": "code",
   "execution_count": 629,
   "id": "b5ecc1a4",
   "metadata": {},
   "outputs": [
    {
     "data": {
      "text/plain": [
       "(array(['id', 'loan_amnt_USD', 'loan_amnt_EUR', 'funded_amnt_USD', 'funded_amnt_EUR', 'int_rate',\n",
       "        'installment_USD', 'installment_EUR', 'total_pymnt_USD', 'total_pymnt_EUR', 'exchange_rate'],\n",
       "       dtype='<U19'),\n",
       " array([[48010226.  ,    35000.  ,    31933.3 , ...,     9452.96,     8624.69,        1.1 ],\n",
       "        [57693261.  ,    30000.  ,    27132.46, ...,     4679.7 ,     4232.39,        1.11],\n",
       "        [59432726.  ,    15000.  ,    13326.3 , ...,     1969.83,     1750.04,        1.13],\n",
       "        ...,\n",
       "        [50415990.  ,    10000.  ,     8910.3 , ...,     2185.64,     1947.47,        1.12],\n",
       "        [46154151.  ,    35000.  ,    31490.9 , ...,     3199.4 ,     2878.63,        1.11],\n",
       "        [66055249.  ,    10000.  ,     9145.8 , ...,      301.9 ,      276.11,        1.09]]))"
      ]
     },
     "execution_count": 629,
     "metadata": {},
     "output_type": "execute_result"
    }
   ],
   "source": [
    "checkpoint_numeric['header'], checkpoint_numeric['data']"
   ]
  },
  {
   "cell_type": "markdown",
   "id": "16251001",
   "metadata": {},
   "source": [
    "## Completing Dataset\n"
   ]
  },
  {
   "cell_type": "code",
   "execution_count": 630,
   "id": "4c8bf71a",
   "metadata": {},
   "outputs": [
    {
     "data": {
      "text/plain": [
       "(10000, 6)"
      ]
     },
     "execution_count": 630,
     "metadata": {},
     "output_type": "execute_result"
    }
   ],
   "source": [
    "checkpoint_string['data'].shape"
   ]
  },
  {
   "cell_type": "code",
   "execution_count": 631,
   "id": "73f898db",
   "metadata": {},
   "outputs": [
    {
     "data": {
      "text/plain": [
       "(10000, 11)"
      ]
     },
     "execution_count": 631,
     "metadata": {},
     "output_type": "execute_result"
    }
   ],
   "source": [
    "checkpoint_numeric['data'].shape"
   ]
  },
  {
   "cell_type": "code",
   "execution_count": 638,
   "id": "3895eb8d",
   "metadata": {},
   "outputs": [],
   "source": [
    "loan_data = np.hstack((checkpoint_numeric['data'], checkpoint_string['data']))"
   ]
  },
  {
   "cell_type": "code",
   "execution_count": 639,
   "id": "e3b7b506",
   "metadata": {},
   "outputs": [
    {
     "data": {
      "text/plain": [
       "(10000, 17)"
      ]
     },
     "execution_count": 639,
     "metadata": {},
     "output_type": "execute_result"
    }
   ],
   "source": [
    "loan_data.shape"
   ]
  },
  {
   "cell_type": "code",
   "execution_count": 640,
   "id": "b2b34382",
   "metadata": {},
   "outputs": [
    {
     "data": {
      "text/plain": [
       "0"
      ]
     },
     "execution_count": 640,
     "metadata": {},
     "output_type": "execute_result"
    }
   ],
   "source": [
    "np.isnan(loan_data).sum()"
   ]
  },
  {
   "cell_type": "code",
   "execution_count": 641,
   "id": "a0b2f576",
   "metadata": {},
   "outputs": [
    {
     "data": {
      "text/plain": [
       "array(['id', 'loan_amnt_USD', 'loan_amnt_EUR', 'funded_amnt_USD', 'funded_amnt_EUR', 'int_rate',\n",
       "       'installment_USD', 'installment_EUR', 'total_pymnt_USD', 'total_pymnt_EUR', 'exchange_rate'],\n",
       "      dtype='<U19')"
      ]
     },
     "execution_count": 641,
     "metadata": {},
     "output_type": "execute_result"
    }
   ],
   "source": [
    "header_numeric"
   ]
  },
  {
   "cell_type": "code",
   "execution_count": 642,
   "id": "74b1377d",
   "metadata": {},
   "outputs": [],
   "source": [
    "header_full = np.hstack((checkpoint_numeric['header'], checkpoint_string['header']))"
   ]
  },
  {
   "cell_type": "code",
   "execution_count": 643,
   "id": "2353ef63",
   "metadata": {},
   "outputs": [
    {
     "data": {
      "text/plain": [
       "array(['id', 'loan_amnt_USD', 'loan_amnt_EUR', 'funded_amnt_USD', 'funded_amnt_EUR', 'int_rate',\n",
       "       'installment_USD', 'installment_EUR', 'total_pymnt_USD', 'total_pymnt_EUR', 'exchange_rate',\n",
       "       'issue_date', 'loan_status', 'term_months', 'sub_grade', 'verification_status',\n",
       "       'address state'], dtype='<U19')"
      ]
     },
     "execution_count": 643,
     "metadata": {},
     "output_type": "execute_result"
    }
   ],
   "source": [
    "header_full"
   ]
  },
  {
   "cell_type": "code",
   "execution_count": 644,
   "id": "bf1777d6",
   "metadata": {},
   "outputs": [
    {
     "data": {
      "text/plain": [
       "array([[  373332.  ,     9950.  ,     9038.08, ...,       21.  ,        0.  ,        1.  ],\n",
       "       [  575239.  ,    12000.  ,    10900.2 , ...,       25.  ,        1.  ,        2.  ],\n",
       "       [  707689.  ,    10000.  ,     8924.3 , ...,       13.  ,        1.  ,        0.  ],\n",
       "       ...,\n",
       "       [68614880.  ,     5600.  ,     5121.65, ...,        8.  ,        1.  ,        1.  ],\n",
       "       [68615915.  ,     4000.  ,     3658.32, ...,       10.  ,        1.  ,        2.  ],\n",
       "       [68616519.  ,    21600.  ,    19754.93, ...,        3.  ,        0.  ,        2.  ]])"
      ]
     },
     "execution_count": 644,
     "metadata": {},
     "output_type": "execute_result"
    }
   ],
   "source": [
    "loan_data[np.argsort(loan_data[:,0])]"
   ]
  },
  {
   "cell_type": "code",
   "execution_count": 645,
   "id": "4ef93611",
   "metadata": {},
   "outputs": [],
   "source": [
    "loan_data = loan_data[np.argsort(loan_data[:,0])]"
   ]
  },
  {
   "cell_type": "code",
   "execution_count": 646,
   "id": "916540ab",
   "metadata": {},
   "outputs": [
    {
     "data": {
      "text/plain": [
       "array([[  373332.  ,     9950.  ,     9038.08, ...,       21.  ,        0.  ,        1.  ],\n",
       "       [  575239.  ,    12000.  ,    10900.2 , ...,       25.  ,        1.  ,        2.  ],\n",
       "       [  707689.  ,    10000.  ,     8924.3 , ...,       13.  ,        1.  ,        0.  ],\n",
       "       ...,\n",
       "       [68614880.  ,     5600.  ,     5121.65, ...,        8.  ,        1.  ,        1.  ],\n",
       "       [68615915.  ,     4000.  ,     3658.32, ...,       10.  ,        1.  ,        2.  ],\n",
       "       [68616519.  ,    21600.  ,    19754.93, ...,        3.  ,        0.  ,        2.  ]])"
      ]
     },
     "execution_count": 646,
     "metadata": {},
     "output_type": "execute_result"
    }
   ],
   "source": [
    "loan_data"
   ]
  },
  {
   "cell_type": "code",
   "execution_count": 647,
   "id": "91991e3d",
   "metadata": {},
   "outputs": [
    {
     "data": {
      "text/plain": [
       "array([   0,    1,    2, ..., 9997, 9998, 9999], dtype=int64)"
      ]
     },
     "execution_count": 647,
     "metadata": {},
     "output_type": "execute_result"
    }
   ],
   "source": [
    "np.argsort(loan_data[:,0])"
   ]
  },
  {
   "cell_type": "code",
   "execution_count": 648,
   "id": "05718615",
   "metadata": {},
   "outputs": [],
   "source": [
    "loan_data = np.vstack((header_full, loan_data))"
   ]
  },
  {
   "cell_type": "code",
   "execution_count": 649,
   "id": "e8be6152",
   "metadata": {},
   "outputs": [
    {
     "data": {
      "text/plain": [
       "array([['id', 'loan_amnt_USD', 'loan_amnt_EUR', ..., 'sub_grade', 'verification_status',\n",
       "        'address state'],\n",
       "       ['373332.0', '9950.0', '9038.082814338286', ..., '21.0', '0.0', '1.0'],\n",
       "       ['575239.0', '12000.0', '10900.20037910145', ..., '25.0', '1.0', '2.0'],\n",
       "       ...,\n",
       "       ['68614880.0', '5600.0', '5121.647851612413', ..., '8.0', '1.0', '1.0'],\n",
       "       ['68615915.0', '4000.0', '3658.319894008867', ..., '10.0', '1.0', '2.0'],\n",
       "       ['68616519.0', '21600.0', '19754.927427647883', ..., '3.0', '0.0', '2.0']], dtype='<U32')"
      ]
     },
     "execution_count": 649,
     "metadata": {},
     "output_type": "execute_result"
    }
   ],
   "source": [
    "loan_data"
   ]
  },
  {
   "cell_type": "code",
   "execution_count": 650,
   "id": "8240d62d",
   "metadata": {},
   "outputs": [],
   "source": [
    "np.savetxt('loan-data-preprocessed.csv', loan_data, fmt='%s', delimiter=';')"
   ]
  },
  {
   "cell_type": "code",
   "execution_count": null,
   "id": "6eacd420",
   "metadata": {},
   "outputs": [],
   "source": []
  }
 ],
 "metadata": {
  "kernelspec": {
   "display_name": "Python 3 (ipykernel)",
   "language": "python",
   "name": "python3"
  },
  "language_info": {
   "codemirror_mode": {
    "name": "ipython",
    "version": 3
   },
   "file_extension": ".py",
   "mimetype": "text/x-python",
   "name": "python",
   "nbconvert_exporter": "python",
   "pygments_lexer": "ipython3",
   "version": "3.12.4"
  }
 },
 "nbformat": 4,
 "nbformat_minor": 5
}
