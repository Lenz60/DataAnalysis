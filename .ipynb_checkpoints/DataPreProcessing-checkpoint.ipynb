{
 "cells": [
  {
   "cell_type": "markdown",
   "id": "f9085f0a-a3aa-4771-a2c8-5a8ddb59ca96",
   "metadata": {},
   "source": [
    "# Preprocessing Data"
   ]
  },
  {
   "cell_type": "markdown",
   "id": "44bd2e80-3463-4c20-ac90-50bbeaf852e6",
   "metadata": {},
   "source": [
    "## Processing a raw data given a rules"
   ]
  },
  {
   "cell_type": "code",
   "execution_count": 3,
   "id": "3b3f3763-0052-4bfc-893a-1fefeea4463b",
   "metadata": {},
   "outputs": [],
   "source": [
    "import numpy as np"
   ]
  },
  {
   "cell_type": "code",
   "execution_count": 4,
   "id": "be2f6e7d-5b57-4bbb-9d05-93d9cf9dc773",
   "metadata": {},
   "outputs": [],
   "source": [
    "np.set_printoptions(suppress=True , linewidth=100, precision=2)"
   ]
  },
  {
   "cell_type": "markdown",
   "id": "b8a594e9-7f70-4d41-b8d9-da28aa5493da",
   "metadata": {},
   "source": [
    "> Suppress is for disable a simplified out of bonds digit like `123e+`\n",
    "<br>\n",
    "> Linewidth is t set a width in a roow to a `100`\n",
    "<br>\n",
    "> Precision is used for a display 2 digit decimalals"
   ]
  },
  {
   "cell_type": "markdown",
   "id": "71ea11e4-42b1-4330-b1d4-a9398e8a8641",
   "metadata": {},
   "source": [
    "### Loading a csv data and generate it using `genfromtxt`"
   ]
  },
  {
   "cell_type": "code",
   "execution_count": 7,
   "id": "337538b9-96da-4b61-813d-451f5e83de03",
   "metadata": {},
   "outputs": [],
   "source": [
    "pre_data = \"dataset/loan-data.csv\""
   ]
  },
  {
   "cell_type": "code",
   "execution_count": 8,
   "id": "5427a108-9159-4c06-abfe-9ea9374b0540",
   "metadata": {},
   "outputs": [
    {
     "data": {
      "text/plain": [
       "array([[        nan,         nan,         nan, ...,         nan,         nan,         nan],\n",
       "       [48010226.  ,         nan,    35000.  , ...,         nan,         nan,     9452.96],\n",
       "       [57693261.  ,         nan,    30000.  , ...,         nan,         nan,     4679.7 ],\n",
       "       ...,\n",
       "       [50415990.  ,         nan,    10000.  , ...,         nan,         nan,     2185.64],\n",
       "       [46154151.  ,         nan,         nan, ...,         nan,         nan,     3199.4 ],\n",
       "       [66055249.  ,         nan,    10000.  , ...,         nan,         nan,      301.9 ]])"
      ]
     },
     "execution_count": 8,
     "metadata": {},
     "output_type": "execute_result"
    }
   ],
   "source": [
    "raw_data = np.genfromtxt(pre_data, delimiter=';')\n",
    "raw_data"
   ]
  },
  {
   "cell_type": "markdown",
   "id": "cbae7de9-fb1d-4bf8-a310-81f1c84d0dcd",
   "metadata": {},
   "source": [
    "### Formatting the data with `skip_header` and `autostrip`"
   ]
  },
  {
   "cell_type": "code",
   "execution_count": 10,
   "id": "0538650b-35b5-4117-9a38-7696f1db41d0",
   "metadata": {},
   "outputs": [
    {
     "data": {
      "text/plain": [
       "array([[48010226.  ,         nan,    35000.  , ...,         nan,         nan,     9452.96],\n",
       "       [57693261.  ,         nan,    30000.  , ...,         nan,         nan,     4679.7 ],\n",
       "       [59432726.  ,         nan,    15000.  , ...,         nan,         nan,     1969.83],\n",
       "       ...,\n",
       "       [50415990.  ,         nan,    10000.  , ...,         nan,         nan,     2185.64],\n",
       "       [46154151.  ,         nan,         nan, ...,         nan,         nan,     3199.4 ],\n",
       "       [66055249.  ,         nan,    10000.  , ...,         nan,         nan,      301.9 ]])"
      ]
     },
     "execution_count": 10,
     "metadata": {},
     "output_type": "execute_result"
    }
   ],
   "source": [
    "raw_data_frmt = np.genfromtxt(pre_data, delimiter=';', skip_header=1, autostrip=True)\n",
    "raw_data_frmt"
   ]
  },
  {
   "cell_type": "markdown",
   "id": "4b885467-3aac-4303-9fc9-d0eb83e370be",
   "metadata": {},
   "source": [
    "> Skip the header of the data and the `autostrip` parameter is used to automatically remove (strip) leading and trailing whitespace from the data fields while reading the input text file."
   ]
  },
  {
   "cell_type": "markdown",
   "id": "783bafc8-ebf7-484e-9b25-e72bd0548935",
   "metadata": {},
   "source": [
    "### Checking a nan in a dataset"
   ]
  },
  {
   "cell_type": "code",
   "execution_count": 13,
   "id": "c4e1aef0-3c2e-45c8-b6be-9b6f0e9ee99f",
   "metadata": {},
   "outputs": [
    {
     "data": {
      "text/plain": [
       "array([[False,  True, False, ...,  True,  True, False],\n",
       "       [False,  True, False, ...,  True,  True, False],\n",
       "       [False,  True, False, ...,  True,  True, False],\n",
       "       ...,\n",
       "       [False,  True, False, ...,  True,  True, False],\n",
       "       [False,  True,  True, ...,  True,  True, False],\n",
       "       [False,  True, False, ...,  True,  True, False]])"
      ]
     },
     "execution_count": 13,
     "metadata": {},
     "output_type": "execute_result"
    }
   ],
   "source": [
    "np.isnan(raw_data_frmt)"
   ]
  },
  {
   "cell_type": "markdown",
   "id": "0fcb1429-b2fe-4948-8315-bb6230fdd7b8",
   "metadata": {},
   "source": [
    "> From the output we know where is the data is nan or not by seeing it as a boolean value"
   ]
  },
  {
   "cell_type": "markdown",
   "id": "952b993a-5725-40ab-8e44-85248c684161",
   "metadata": {},
   "source": [
    "### Checking howw many nan data is "
   ]
  },
  {
   "cell_type": "code",
   "execution_count": 16,
   "id": "e4c49df2-fdbb-42b1-b290-fdc424e145b7",
   "metadata": {},
   "outputs": [
    {
     "data": {
      "text/plain": [
       "88005"
      ]
     },
     "execution_count": 16,
     "metadata": {},
     "output_type": "execute_result"
    }
   ],
   "source": [
    "np.isnan(raw_data_frmt).sum()"
   ]
  },
  {
   "cell_type": "markdown",
   "id": "472ce901-9f8b-4e81-8511-60fe3ab0870f",
   "metadata": {},
   "source": [
    "> From the output we know how many Nan data in a dataset"
   ]
  },
  {
   "cell_type": "code",
   "execution_count": 18,
   "id": "4350e23a-d1fb-4d87-a375-a2ad513a6706",
   "metadata": {},
   "outputs": [
    {
     "name": "stderr",
     "output_type": "stream",
     "text": [
      "C:\\Users\\rafly.wicaksana\\AppData\\Local\\Temp\\ipykernel_17740\\2555478099.py:2: RuntimeWarning: Mean of empty slice\n",
      "  temp_mean = np.nanmean(raw_data_frmt, axis=0)\n"
     ]
    }
   ],
   "source": [
    "temp_fill = np.nanmax(raw_data_frmt) + 1\n",
    "temp_mean = np.nanmean(raw_data_frmt, axis=0)"
   ]
  },
  {
   "cell_type": "code",
   "execution_count": 19,
   "id": "be4db514-6d88-4b0f-b5fe-158cbee69eef",
   "metadata": {},
   "outputs": [
    {
     "data": {
      "text/plain": [
       "array([54015809.19,         nan,    15273.46,         nan,    15311.04,         nan,       16.62,\n",
       "            440.92,         nan,         nan,         nan,         nan,         nan,     3143.85])"
      ]
     },
     "execution_count": 19,
     "metadata": {},
     "output_type": "execute_result"
    }
   ],
   "source": [
    "temp_mean"
   ]
  },
  {
   "cell_type": "markdown",
   "id": "c51012cf-e2e0-4889-bc04-84981fdf2f2d",
   "metadata": {},
   "source": [
    "> From the output we know where is the col/row that contains a nan (all the row/col is not contain a single number)\n",
    "<br>\n",
    "> The output that display a number, it col/row is containing atleast one numbers"
   ]
  },
  {
   "cell_type": "code",
   "execution_count": 21,
   "id": "1a8e0442-723c-453d-b5bc-a49f8028e531",
   "metadata": {},
   "outputs": [],
   "source": [
    "temp_stats = np.array([np.min(raw_data_frmt, axis=0),\n",
    "                        temp_mean,\n",
    "                       np.max(raw_data_frmt, axis=0)])"
   ]
  },
  {
   "cell_type": "code",
   "execution_count": 22,
   "id": "b478cb57-52fe-4894-866f-caced4db8a5a",
   "metadata": {},
   "outputs": [
    {
     "data": {
      "text/plain": [
       "array([[  373332.  ,         nan,         nan,         nan,         nan,         nan,         nan,\n",
       "                nan,         nan,         nan,         nan,         nan,         nan,         nan],\n",
       "       [54015809.19,         nan,    15273.46,         nan,    15311.04,         nan,       16.62,\n",
       "             440.92,         nan,         nan,         nan,         nan,         nan,     3143.85],\n",
       "       [68616519.  ,         nan,         nan,         nan,         nan,         nan,         nan,\n",
       "                nan,         nan,         nan,         nan,         nan,         nan,         nan]])"
      ]
     },
     "execution_count": 22,
     "metadata": {},
     "output_type": "execute_result"
    }
   ],
   "source": [
    "temp_stats"
   ]
  },
  {
   "cell_type": "markdown",
   "id": "33a6dcf4-9b01-4968-a5c2-f5e4cc661837",
   "metadata": {},
   "source": [
    "#### Splitting Dataset"
   ]
  },
  {
   "cell_type": "markdown",
   "id": "6126cd53-7482-4d84-8b85-ebf7bc988f4a",
   "metadata": {},
   "source": [
    "##### Searching where is the nan located"
   ]
  },
  {
   "cell_type": "code",
   "execution_count": 25,
   "id": "bdf132c4-2aa0-4745-8f54-0ac1feb74ba8",
   "metadata": {},
   "outputs": [
    {
     "data": {
      "text/plain": [
       "array([[ 1],\n",
       "       [ 3],\n",
       "       [ 5],\n",
       "       [ 8],\n",
       "       [ 9],\n",
       "       [10],\n",
       "       [11],\n",
       "       [12]], dtype=int64)"
      ]
     },
     "execution_count": 25,
     "metadata": {},
     "output_type": "execute_result"
    }
   ],
   "source": [
    "col_strings = np.argwhere(np.isnan(temp_mean))\n",
    "col_strings\n"
   ]
  },
  {
   "cell_type": "markdown",
   "id": "6334578f-c1ab-4cf3-827b-2faca3bb93b1",
   "metadata": {},
   "source": [
    "> Display the column that contains a string values based on the `temp_mean` type data"
   ]
  },
  {
   "cell_type": "code",
   "execution_count": 27,
   "id": "43a428e3-6c82-4748-956d-4fe0e88af292",
   "metadata": {},
   "outputs": [
    {
     "data": {
      "text/plain": [
       "array([ 1,  3,  5,  8,  9, 10, 11, 12], dtype=int64)"
      ]
     },
     "execution_count": 27,
     "metadata": {},
     "output_type": "execute_result"
    }
   ],
   "source": [
    "col_strings = np.argwhere(np.isnan(temp_mean)).squeeze()\n",
    "col_strings"
   ]
  },
  {
   "cell_type": "markdown",
   "id": "0e322269-a87a-414a-9c06-faa519d14ccd",
   "metadata": {},
   "source": [
    "> Squeeze will a uniform the array shape based on what slicing we use"
   ]
  },
  {
   "cell_type": "code",
   "execution_count": 29,
   "id": "a8c83482-5e29-48c8-b85f-330e391027e4",
   "metadata": {},
   "outputs": [
    {
     "data": {
      "text/plain": [
       "array([ 0,  2,  4,  6,  7, 13], dtype=int64)"
      ]
     },
     "execution_count": 29,
     "metadata": {},
     "output_type": "execute_result"
    }
   ],
   "source": [
    "col_numeric = np.argwhere(np.isnan(temp_mean) == False).squeeze()\n",
    "col_numeric"
   ]
  },
  {
   "cell_type": "markdown",
   "id": "f8c57c6b-82f1-41f5-b7fd-d1c5ae604658",
   "metadata": {},
   "source": [
    "> Display the column that contains a numeric values based on the ! `temp_mean` data"
   ]
  },
  {
   "cell_type": "code",
   "execution_count": 31,
   "id": "f8e1998b-8f67-4bbe-903d-b93dd242c89e",
   "metadata": {},
   "outputs": [
    {
     "data": {
      "text/plain": [
       "array([['May-15', 'Current', '36 months', ..., 'Verified',\n",
       "        'https://www.lendingclub.com/browse/loanDetail.action?loan_id=48010226', 'CA'],\n",
       "       ['', 'Current', '36 months', ..., 'Source Verified',\n",
       "        'https://www.lendingclub.com/browse/loanDetail.action?loan_id=57693261', 'NY'],\n",
       "       ['Sep-15', 'Current', '36 months', ..., 'Verified',\n",
       "        'https://www.lendingclub.com/browse/loanDetail.action?loan_id=59432726', 'PA'],\n",
       "       ...,\n",
       "       ['Jun-15', 'Current', '36 months', ..., 'Source Verified',\n",
       "        'https://www.lendingclub.com/browse/loanDetail.action?loan_id=50415990', 'CA'],\n",
       "       ['Apr-15', 'Current', '36 months', ..., 'Source Verified',\n",
       "        'https://www.lendingclub.com/browse/loanDetail.action?loan_id=46154151', 'OH'],\n",
       "       ['Dec-15', 'Current', '36 months', ..., '',\n",
       "        'https://www.lendingclub.com/browse/loanDetail.action?loan_id=66055249', 'IL']],\n",
       "      dtype='<U69')"
      ]
     },
     "execution_count": 31,
     "metadata": {},
     "output_type": "execute_result"
    }
   ],
   "source": [
    "loan_data_strings = np.genfromtxt(pre_data, delimiter=';', skip_header=1, autostrip=True, usecols=col_strings, dtype=str)\n",
    "loan_data_strings"
   ]
  },
  {
   "cell_type": "code",
   "execution_count": 32,
   "id": "df0360cb-3fcb-4deb-b802-ece4ff1ce2fa",
   "metadata": {},
   "outputs": [
    {
     "data": {
      "text/plain": [
       "array([[48010226.  ,    35000.  ,    35000.  ,       13.33,     1184.86,     9452.96],\n",
       "       [57693261.  ,    30000.  ,    30000.  , 68616520.  ,      938.57,     4679.7 ],\n",
       "       [59432726.  ,    15000.  ,    15000.  , 68616520.  ,      494.86,     1969.83],\n",
       "       ...,\n",
       "       [50415990.  ,    10000.  ,    10000.  , 68616520.  , 68616520.  ,     2185.64],\n",
       "       [46154151.  , 68616520.  ,    10000.  ,       16.55,      354.3 ,     3199.4 ],\n",
       "       [66055249.  ,    10000.  ,    10000.  , 68616520.  ,      309.97,      301.9 ]])"
      ]
     },
     "execution_count": 32,
     "metadata": {},
     "output_type": "execute_result"
    }
   ],
   "source": [
    "loan_data_fill = np.genfromtxt(pre_data, \n",
    "                               delimiter=';', \n",
    "                               skip_header=1, \n",
    "                               autostrip=True, \n",
    "                               usecols=col_numeric,\n",
    "                               filling_values=temp_fill)\n",
    "loan_data_fill"
   ]
  },
  {
   "cell_type": "markdown",
   "id": "e178eaae-fe83-4832-9e15-e3fac76848d9",
   "metadata": {},
   "source": [
    "#### Define the header"
   ]
  },
  {
   "cell_type": "code",
   "execution_count": 34,
   "id": "af551a32-4107-43cf-86fa-6611adda6733",
   "metadata": {},
   "outputs": [
    {
     "data": {
      "text/plain": [
       "array(['id', 'issue_d', 'loan_amnt', 'loan_status', 'funded_amnt', 'term', 'int_rate',\n",
       "       'installment', 'grade', 'sub_grade', 'verification_status', 'url', 'addr_state',\n",
       "       'total_pymnt'], dtype='<U19')"
      ]
     },
     "execution_count": 34,
     "metadata": {},
     "output_type": "execute_result"
    }
   ],
   "source": [
    "header_full = np.genfromtxt(pre_data, \n",
    "                               delimiter=';', \n",
    "                               skip_footer= raw_data_frmt.shape[0],\n",
    "                               autostrip=True, \n",
    "                               dtype=str)\n",
    "header_full"
   ]
  },
  {
   "cell_type": "markdown",
   "id": "7fef2cf5-9cf0-4227-b5b5-4350a7b3d0f0",
   "metadata": {},
   "source": [
    "#### Define the header based on the `col_string` and `col_numeric`"
   ]
  },
  {
   "cell_type": "code",
   "execution_count": 36,
   "id": "282b5b2c-017a-46b9-9c51-e8547526c683",
   "metadata": {},
   "outputs": [
    {
     "data": {
      "text/plain": [
       "array(['issue_d', 'loan_status', 'term', 'grade', 'sub_grade', 'verification_status', 'url',\n",
       "       'addr_state'], dtype='<U19')"
      ]
     },
     "execution_count": 36,
     "metadata": {},
     "output_type": "execute_result"
    }
   ],
   "source": [
    "header_string, header_numeric = header_full[col_strings], header_full[col_numeric]\n",
    "header_string"
   ]
  },
  {
   "cell_type": "code",
   "execution_count": 37,
   "id": "dc80e861-ab78-46ad-91d3-9bba73440e5d",
   "metadata": {},
   "outputs": [
    {
     "data": {
      "text/plain": [
       "array(['id', 'loan_amnt', 'funded_amnt', 'int_rate', 'installment', 'total_pymnt'], dtype='<U19')"
      ]
     },
     "execution_count": 37,
     "metadata": {},
     "output_type": "execute_result"
    }
   ],
   "source": [
    "header_numeric"
   ]
  },
  {
   "cell_type": "code",
   "execution_count": 38,
   "id": "cf0e03b1-7d91-4575-8e1e-145995fbd4a7",
   "metadata": {},
   "outputs": [],
   "source": [
    "def checkpoint(file_name, checkpoint_header, checkpoint_data):\n",
    "    np.savez(file_name, header = checkpoint_header, data = checkpoint_data)\n",
    "    checkpoint_variable = np.load(file_name + '.npz')\n",
    "    return (checkpoint_variable)"
   ]
  },
  {
   "cell_type": "code",
   "execution_count": 39,
   "id": "72a8df64-014e-4e0c-8c0a-f049308293bb",
   "metadata": {},
   "outputs": [],
   "source": [
    "checkpoint_numeric =  checkpoint('checkpointNumeric', header_numeric, loan_data_fill)\n",
    "checkpoint_string = checkpoint('checkpointString', header_string, loan_data_strings)"
   ]
  },
  {
   "cell_type": "code",
   "execution_count": 40,
   "id": "82892ff7-63ea-4f01-8f03-65bbbe319a82",
   "metadata": {},
   "outputs": [
    {
     "data": {
      "text/plain": [
       "True"
      ]
     },
     "execution_count": 40,
     "metadata": {},
     "output_type": "execute_result"
    }
   ],
   "source": [
    "np.array_equal(checkpoint_string['data'], loan_data_strings)"
   ]
  },
  {
   "cell_type": "code",
   "execution_count": 41,
   "id": "a260c3cd-cee7-4dc7-abf6-8d7060a17e53",
   "metadata": {},
   "outputs": [
    {
     "data": {
      "text/plain": [
       "True"
      ]
     },
     "execution_count": 41,
     "metadata": {},
     "output_type": "execute_result"
    }
   ],
   "source": [
    "np.array_equal(checkpoint_numeric['data'], loan_data_fill)"
   ]
  },
  {
   "cell_type": "code",
   "execution_count": 42,
   "id": "09362b97-6a41-4057-9118-0ac03fd4840a",
   "metadata": {},
   "outputs": [],
   "source": [
    "npz_data = 'checkpointData.npz'\n",
    "load_npz = np.load(npz_data)\n",
    "lst = load_npz.files\n",
    "# for item in lst:\n",
    "#     print('this is item',item)\n",
    "#     print(load_npz[item])\n"
   ]
  },
  {
   "cell_type": "markdown",
   "id": "a0e4bae8-a475-4b42-a21c-1ce989570fd4",
   "metadata": {},
   "source": [
    "# Manipulating Data"
   ]
  },
  {
   "cell_type": "markdown",
   "id": "c02bd233-ff05-424b-85bc-2360a95fecaf",
   "metadata": {},
   "source": [
    "## Issue Date "
   ]
  },
  {
   "cell_type": "code",
   "execution_count": 45,
   "id": "3cca1501-fc61-4410-b136-721aee3cbeeb",
   "metadata": {},
   "outputs": [
    {
     "data": {
      "text/plain": [
       "array(['issue_d', 'loan_status', 'term', 'grade', 'sub_grade', 'verification_status', 'url',\n",
       "       'addr_state'], dtype='<U19')"
      ]
     },
     "execution_count": 45,
     "metadata": {},
     "output_type": "execute_result"
    }
   ],
   "source": [
    "header_string"
   ]
  },
  {
   "cell_type": "code",
   "execution_count": 46,
   "id": "9fba7e17-dce7-41af-9ec9-4d7820319d78",
   "metadata": {},
   "outputs": [
    {
     "data": {
      "text/plain": [
       "array(['issue_date', 'loan_status', 'term', 'grade', 'sub_grade', 'verification_status', 'url',\n",
       "       'addr_state'], dtype='<U19')"
      ]
     },
     "execution_count": 46,
     "metadata": {},
     "output_type": "execute_result"
    }
   ],
   "source": [
    "header_string[0] = 'issue_date'\n",
    "header_string"
   ]
  },
  {
   "cell_type": "code",
   "execution_count": 47,
   "id": "2b4afe53-6518-476b-8aa9-d69074cba823",
   "metadata": {},
   "outputs": [
    {
     "data": {
      "text/plain": [
       "array([['May-15', 'Current', '36 months', ..., 'Verified',\n",
       "        'https://www.lendingclub.com/browse/loanDetail.action?loan_id=48010226', 'CA'],\n",
       "       ['', 'Current', '36 months', ..., 'Source Verified',\n",
       "        'https://www.lendingclub.com/browse/loanDetail.action?loan_id=57693261', 'NY'],\n",
       "       ['Sep-15', 'Current', '36 months', ..., 'Verified',\n",
       "        'https://www.lendingclub.com/browse/loanDetail.action?loan_id=59432726', 'PA'],\n",
       "       ...,\n",
       "       ['Jun-15', 'Current', '36 months', ..., 'Source Verified',\n",
       "        'https://www.lendingclub.com/browse/loanDetail.action?loan_id=50415990', 'CA'],\n",
       "       ['Apr-15', 'Current', '36 months', ..., 'Source Verified',\n",
       "        'https://www.lendingclub.com/browse/loanDetail.action?loan_id=46154151', 'OH'],\n",
       "       ['Dec-15', 'Current', '36 months', ..., '',\n",
       "        'https://www.lendingclub.com/browse/loanDetail.action?loan_id=66055249', 'IL']],\n",
       "      dtype='<U69')"
      ]
     },
     "execution_count": 47,
     "metadata": {},
     "output_type": "execute_result"
    }
   ],
   "source": [
    "loan_data_strings"
   ]
  },
  {
   "cell_type": "code",
   "execution_count": 48,
   "id": "d73fdb41-e51d-49d4-9cf6-b4fbf0201f54",
   "metadata": {},
   "outputs": [
    {
     "data": {
      "text/plain": [
       "array(['', 'Apr-15', 'Aug-15', 'Dec-15', 'Feb-15', 'Jan-15', 'Jul-15', 'Jun-15', 'Mar-15',\n",
       "       'May-15', 'Nov-15', 'Oct-15', 'Sep-15'], dtype='<U69')"
      ]
     },
     "execution_count": 48,
     "metadata": {},
     "output_type": "execute_result"
    }
   ],
   "source": [
    "np.unique(loan_data_strings[:,0])"
   ]
  },
  {
   "cell_type": "code",
   "execution_count": 49,
   "id": "b4d3b830-df51-41ae-8913-0312446043f1",
   "metadata": {},
   "outputs": [],
   "source": [
    "stripped_year = np.chararray.strip(loan_data_strings[:,0],'-15')"
   ]
  },
  {
   "cell_type": "code",
   "execution_count": 50,
   "id": "6ebcbb07-8e92-4b88-8e5e-6dd464512092",
   "metadata": {},
   "outputs": [],
   "source": [
    "loan_data_strings[:,0] = stripped_year"
   ]
  },
  {
   "cell_type": "code",
   "execution_count": 51,
   "id": "36eedc30-ea63-4e2c-8ec0-c810ca6cdb8d",
   "metadata": {},
   "outputs": [
    {
     "data": {
      "text/plain": [
       "array(['May', '', 'Sep', ..., 'Jun', 'Apr', 'Dec'], dtype='<U69')"
      ]
     },
     "execution_count": 51,
     "metadata": {},
     "output_type": "execute_result"
    }
   ],
   "source": [
    "loan_data_strings[:,0]"
   ]
  },
  {
   "cell_type": "code",
   "execution_count": 52,
   "id": "d1e83680-38dd-4500-82fa-7408dcb54582",
   "metadata": {},
   "outputs": [],
   "source": [
    "months = np.array(['','Jan','Feb','Mar','Apr','May','Jun','Jul','Aug','Sep','Oct','Nov','Dec'])"
   ]
  },
  {
   "cell_type": "code",
   "execution_count": 53,
   "id": "12ed7586-cf4c-401a-a9ca-66abeaac70f4",
   "metadata": {},
   "outputs": [],
   "source": [
    "for i in range(13):\n",
    "    loan_data_strings[:,0] = np.where(loan_data_strings[:,0] == months[i],\n",
    "                                     i,\n",
    "                                     loan_data_strings[:,0])"
   ]
  },
  {
   "cell_type": "code",
   "execution_count": 54,
   "id": "32671840-ad70-4986-a23f-61d8397bb097",
   "metadata": {},
   "outputs": [
    {
     "name": "stdout",
     "output_type": "stream",
     "text": [
      "[['0']\n",
      " ['1']\n",
      " ['10']\n",
      " ['11']\n",
      " ['12']\n",
      " ['2']\n",
      " ['3']\n",
      " ['4']\n",
      " ['5']\n",
      " ['6']\n",
      " ['7']\n",
      " ['8']\n",
      " ['9']]\n"
     ]
    }
   ],
   "source": [
    "display_T_issued_date = np.unique(loan_data_strings[:,0])\n",
    "print(display_T_issued_date[np.newaxis].T)"
   ]
  },
  {
   "cell_type": "code",
   "execution_count": 55,
   "id": "6721b199-740e-4f25-8ecd-881eabfbe67d",
   "metadata": {},
   "outputs": [
    {
     "data": {
      "text/plain": [
       "array([['5'],\n",
       "       ['0'],\n",
       "       ['9'],\n",
       "       ...,\n",
       "       ['6'],\n",
       "       ['4'],\n",
       "       ['12']], dtype='<U69')"
      ]
     },
     "execution_count": 55,
     "metadata": {},
     "output_type": "execute_result"
    }
   ],
   "source": [
    "np.transpose(loan_data_strings[:,0][np.newaxis])"
   ]
  },
  {
   "cell_type": "code",
   "execution_count": 56,
   "id": "1222319c-77bb-4e35-b1fc-94eb97a14b69",
   "metadata": {},
   "outputs": [
    {
     "name": "stdout",
     "output_type": "stream",
     "text": [
      "[['0']\n",
      " ['1']\n",
      " ['10']\n",
      " ['11']\n",
      " ['12']\n",
      " ['2']\n",
      " ['3']\n",
      " ['4']\n",
      " ['5']\n",
      " ['6']\n",
      " ['7']\n",
      " ['8']\n",
      " ['9']]\n"
     ]
    }
   ],
   "source": [
    "manipulated_T_issued_date = np.unique(loan_data_strings[:,0])\n",
    "print(manipulated_T_issued_date[np.newaxis].T)"
   ]
  },
  {
   "cell_type": "code",
   "execution_count": 57,
   "id": "80cf94c8-de47-4b2b-b467-33bda204a6e8",
   "metadata": {},
   "outputs": [
    {
     "data": {
      "text/plain": [
       "array(['0', '1', '10', '11', '12', '2', '3', '4', '5', '6', '7', '8', '9'], dtype='<U69')"
      ]
     },
     "execution_count": 57,
     "metadata": {},
     "output_type": "execute_result"
    }
   ],
   "source": [
    "np.unique(loan_data_strings[:,0])"
   ]
  },
  {
   "cell_type": "markdown",
   "id": "89ddd44c-55a1-4226-bc3c-f6fd884f605b",
   "metadata": {},
   "source": [
    "## Loan Status"
   ]
  },
  {
   "cell_type": "code",
   "execution_count": 59,
   "id": "903dae13-d3d4-48c6-a5d6-f17ff5febe2f",
   "metadata": {},
   "outputs": [
    {
     "name": "stdout",
     "output_type": "stream",
     "text": [
      "[['']\n",
      " ['Charged Off']\n",
      " ['Current']\n",
      " ['Default']\n",
      " ['Fully Paid']\n",
      " ['In Grace Period']\n",
      " ['Issued']\n",
      " ['Late (16-30 days)']\n",
      " ['Late (31-120 days)']]\n"
     ]
    }
   ],
   "source": [
    "display_T_loan_status =  np.unique(loan_data_strings[:,1])\n",
    "print(display_T_loan_status[np.newaxis].T)"
   ]
  },
  {
   "cell_type": "code",
   "execution_count": 60,
   "id": "164491a3-d173-403c-bfa3-212c3843db04",
   "metadata": {},
   "outputs": [],
   "source": [
    "status_bad = np.array(['','Charged Off','Default','Late (31-120 days)'])"
   ]
  },
  {
   "cell_type": "code",
   "execution_count": 61,
   "id": "28b64562-a663-499c-926f-1ef7c626abac",
   "metadata": {},
   "outputs": [],
   "source": [
    "loan_data_strings[:,1] = np.where(np.isin(loan_data_strings[:,1], status_bad),\n",
    "                                  0,1)"
   ]
  },
  {
   "cell_type": "code",
   "execution_count": 62,
   "id": "7cc7761b-d4bc-443c-b82b-9bfcc2d9eb21",
   "metadata": {},
   "outputs": [
    {
     "data": {
      "text/plain": [
       "array(['0', '1'], dtype='<U69')"
      ]
     },
     "execution_count": 62,
     "metadata": {},
     "output_type": "execute_result"
    }
   ],
   "source": [
    "np.unique(loan_data_strings[:,1])"
   ]
  },
  {
   "cell_type": "code",
   "execution_count": 63,
   "id": "0e94cd8b-6281-40b7-abde-2f5823ce1dbd",
   "metadata": {},
   "outputs": [
    {
     "name": "stdout",
     "output_type": "stream",
     "text": [
      "[['0']\n",
      " ['1']]\n"
     ]
    }
   ],
   "source": [
    "manipulated_T_loan_status =  np.unique(loan_data_strings[:,1])\n",
    "print(manipulated_T_loan_status[np.newaxis].T)"
   ]
  },
  {
   "cell_type": "markdown",
   "id": "dd67265d-923d-4737-ad21-61259a448c01",
   "metadata": {},
   "source": [
    "## Term Months"
   ]
  },
  {
   "cell_type": "code",
   "execution_count": 65,
   "id": "64052018-6bcd-4b1e-9da5-d98ed56f7ff6",
   "metadata": {},
   "outputs": [
    {
     "data": {
      "text/plain": [
       "array(['issue_date', 'loan_status', 'term_months', 'grade', 'sub_grade', 'verification_status',\n",
       "       'url', 'addr_state'], dtype='<U19')"
      ]
     },
     "execution_count": 65,
     "metadata": {},
     "output_type": "execute_result"
    }
   ],
   "source": [
    "header_string[2] = 'term_months'\n",
    "header_string"
   ]
  },
  {
   "cell_type": "code",
   "execution_count": 66,
   "id": "9d1610aa-5983-46da-b899-61094a55c6ec",
   "metadata": {},
   "outputs": [
    {
     "name": "stdout",
     "output_type": "stream",
     "text": [
      "['36 months' '36 months' '36 months' ... '36 months' '36 months' '36 months']\n",
      "[['']\n",
      " ['36 months']\n",
      " ['60 months']]\n"
     ]
    }
   ],
   "source": [
    "display_T_terms = np.unique(loan_data_strings[:,2])\n",
    "print(loan_data_strings[:,2])\n",
    "print(display_T_terms[np.newaxis].T)"
   ]
  },
  {
   "cell_type": "code",
   "execution_count": 67,
   "id": "5c6d457f-e285-430b-a835-517aaa9a0e5c",
   "metadata": {},
   "outputs": [],
   "source": [
    "stripped_month = np.chararray.strip(loan_data_strings[:,2],' months')\n",
    "loan_data_strings[:,2] = stripped_month"
   ]
  },
  {
   "cell_type": "code",
   "execution_count": 68,
   "id": "bc3fd51e-cfbb-4c5c-b646-beda927aa750",
   "metadata": {},
   "outputs": [],
   "source": [
    "loan_data_strings[:,2] = np.where(loan_data_strings[:,2] == '',\n",
    "                                 '60',\n",
    "                                 loan_data_strings[:,2])"
   ]
  },
  {
   "cell_type": "code",
   "execution_count": 69,
   "id": "7982cf4d-a0b9-4e1c-b730-76e8eb8510f0",
   "metadata": {},
   "outputs": [
    {
     "name": "stdout",
     "output_type": "stream",
     "text": [
      "['36' '36' '36' ... '36' '36' '36']\n",
      "[['36']\n",
      " ['60']]\n"
     ]
    }
   ],
   "source": [
    "manipulated_T_terms = np.unique(loan_data_strings[:,2])\n",
    "print(loan_data_strings[:,2])\n",
    "print(manipulated_T_terms[np.newaxis].T)"
   ]
  },
  {
   "cell_type": "markdown",
   "id": "a1857d3f-96a1-4851-bb3d-c1a4518be2a9",
   "metadata": {},
   "source": [
    "## Grade"
   ]
  },
  {
   "cell_type": "code",
   "execution_count": 71,
   "id": "4e262261-5afb-49e5-a885-23bf334db813",
   "metadata": {},
   "outputs": [
    {
     "data": {
      "text/plain": [
       "array(['issue_date', 'loan_status', 'term_months', 'grade', 'sub_grade', 'verification_status',\n",
       "       'url', 'addr_state'], dtype='<U19')"
      ]
     },
     "execution_count": 71,
     "metadata": {},
     "output_type": "execute_result"
    }
   ],
   "source": [
    "header_string"
   ]
  },
  {
   "cell_type": "code",
   "execution_count": 72,
   "id": "5330feff-f1ba-4a08-b6b9-8920fbfacc2d",
   "metadata": {},
   "outputs": [
    {
     "name": "stdout",
     "output_type": "stream",
     "text": [
      "['C' 'A' 'B' ... 'A' 'D' 'A']\n",
      "['' 'A' 'B' 'C' 'D' 'E' 'F' 'G']\n"
     ]
    }
   ],
   "source": [
    "print(loan_data_strings[:,3])\n",
    "print(np.unique(loan_data_strings[:,3]))"
   ]
  },
  {
   "cell_type": "code",
   "execution_count": 73,
   "id": "686b4164-f748-449a-9a1c-1c075a44d53b",
   "metadata": {},
   "outputs": [],
   "source": [
    "for i in np.unique(loan_data_strings[:,3])[1:]:\n",
    "    loan_data_strings[:,4] = np.where((loan_data_strings[:,4] == '') & (loan_data_strings[:,3] == i),\n",
    "                                      i+'5',\n",
    "                                      loan_data_strings[:,4])"
   ]
  },
  {
   "cell_type": "markdown",
   "id": "b03762e5-e7d1-4c71-a9ee-3388ad7b4d3e",
   "metadata": {},
   "source": [
    "> Changing the lowest data of subgrade from `''` to readable data like `[grade]5`"
   ]
  },
  {
   "cell_type": "code",
   "execution_count": 75,
   "id": "595fa6f0-1c54-4a2e-934b-160c3b0a8123",
   "metadata": {},
   "outputs": [
    {
     "name": "stdout",
     "output_type": "stream",
     "text": [
      "[['' '515']\n",
      " ['A' '1632']\n",
      " ['B' '2606']\n",
      " ['C' '2766']\n",
      " ['D' '1389']\n",
      " ['E' '816']\n",
      " ['F' '236']\n",
      " ['G' '40']]\n",
      "[['' '9']\n",
      " ['A1' '285']\n",
      " ['A2' '278']\n",
      " ['A3' '239']\n",
      " ['A4' '323']\n",
      " ['A5' '592']\n",
      " ['B1' '509']\n",
      " ['B2' '517']\n",
      " ['B3' '530']\n",
      " ['B4' '553']\n",
      " ['B5' '633']\n",
      " ['C1' '629']\n",
      " ['C2' '567']\n",
      " ['C3' '586']\n",
      " ['C4' '564']\n",
      " ['C5' '577']\n",
      " ['D1' '391']\n",
      " ['D2' '267']\n",
      " ['D3' '250']\n",
      " ['D4' '255']\n",
      " ['D5' '288']\n",
      " ['E1' '235']\n",
      " ['E2' '162']\n",
      " ['E3' '171']\n",
      " ['E4' '139']\n",
      " ['E5' '160']\n",
      " ['F1' '94']\n",
      " ['F2' '52']\n",
      " ['F3' '34']\n",
      " ['F4' '43']\n",
      " ['F5' '24']\n",
      " ['G1' '19']\n",
      " ['G2' '10']\n",
      " ['G3' '3']\n",
      " ['G4' '7']\n",
      " ['G5' '5']]\n"
     ]
    }
   ],
   "source": [
    "gr = np.unique(loan_data_strings[:,3], return_counts=True)\n",
    "sb_gr = np.unique(loan_data_strings[:,4], return_counts=True)\n",
    "grade_transpose = np.concatenate((gr[0][:, np.newaxis], gr[1][:, np.newaxis]), axis=1)\n",
    "sub_grade_transpose = np.concatenate((sb_gr[0][:,np.newaxis], sb_gr[1][:,np.newaxis]), axis=1)\n",
    "print(grade_transpose)\n",
    "print(sub_grade_transpose)"
   ]
  },
  {
   "cell_type": "code",
   "execution_count": 76,
   "id": "ca7ab993-a171-4ba6-8e96-68c53fc46caf",
   "metadata": {},
   "outputs": [],
   "source": [
    "loan_data_strings[:,4] = np.where(loan_data_strings[:,4] == '',\n",
    "                                  'H1',\n",
    "                                 loan_data_strings[:,4])"
   ]
  },
  {
   "cell_type": "code",
   "execution_count": 77,
   "id": "214b5a3c-d1d2-4100-b6af-4fdb455974bb",
   "metadata": {},
   "outputs": [
    {
     "name": "stdout",
     "output_type": "stream",
     "text": [
      "[['' '515']\n",
      " ['A' '1632']\n",
      " ['B' '2606']\n",
      " ['C' '2766']\n",
      " ['D' '1389']\n",
      " ['E' '816']\n",
      " ['F' '236']\n",
      " ['G' '40']]\n",
      "[['A1' '285']\n",
      " ['A2' '278']\n",
      " ['A3' '239']\n",
      " ['A4' '323']\n",
      " ['A5' '592']\n",
      " ['B1' '509']\n",
      " ['B2' '517']\n",
      " ['B3' '530']\n",
      " ['B4' '553']\n",
      " ['B5' '633']\n",
      " ['C1' '629']\n",
      " ['C2' '567']\n",
      " ['C3' '586']\n",
      " ['C4' '564']\n",
      " ['C5' '577']\n",
      " ['D1' '391']\n",
      " ['D2' '267']\n",
      " ['D3' '250']\n",
      " ['D4' '255']\n",
      " ['D5' '288']\n",
      " ['E1' '235']\n",
      " ['E2' '162']\n",
      " ['E3' '171']\n",
      " ['E4' '139']\n",
      " ['E5' '160']\n",
      " ['F1' '94']\n",
      " ['F2' '52']\n",
      " ['F3' '34']\n",
      " ['F4' '43']\n",
      " ['F5' '24']\n",
      " ['G1' '19']\n",
      " ['G2' '10']\n",
      " ['G3' '3']\n",
      " ['G4' '7']\n",
      " ['G5' '5']\n",
      " ['H1' '9']]\n"
     ]
    }
   ],
   "source": [
    "gr = np.unique(loan_data_strings[:,3], return_counts=True)\n",
    "sb_gr = np.unique(loan_data_strings[:,4], return_counts=True)\n",
    "grade_transpose = np.concatenate((gr[0][:, np.newaxis], gr[1][:, np.newaxis]), axis=1)\n",
    "sub_grade_transpose = np.concatenate((sb_gr[0][:,np.newaxis], sb_gr[1][:,np.newaxis]), axis=1)\n",
    "print(grade_transpose)\n",
    "print(sub_grade_transpose)"
   ]
  },
  {
   "cell_type": "markdown",
   "id": "6d7aac03-d6cb-4bb7-8145-3cb0f2a6f258",
   "metadata": {},
   "source": [
    "> Displaying data as transpose data "
   ]
  },
  {
   "cell_type": "code",
   "execution_count": 79,
   "id": "b53e3c6e-2a33-463c-9e7c-89cbbaaa4fc6",
   "metadata": {},
   "outputs": [],
   "source": [
    "loan_data_strings = np.delete(loan_data_strings, 3, axis=1)"
   ]
  },
  {
   "cell_type": "code",
   "execution_count": 80,
   "id": "defd32c4-d45e-45cf-b030-d2059b48e515",
   "metadata": {},
   "outputs": [
    {
     "data": {
      "text/plain": [
       "array(['C3', 'A5', 'B5', ..., 'A5', 'D2', 'A4'], dtype='<U69')"
      ]
     },
     "execution_count": 80,
     "metadata": {},
     "output_type": "execute_result"
    }
   ],
   "source": [
    "loan_data_strings[:,3]"
   ]
  },
  {
   "cell_type": "markdown",
   "id": "31ac5e85-67af-4a60-8ced-0bb25f9e050f",
   "metadata": {},
   "source": [
    "> Deleting the unused **Grade** data"
   ]
  },
  {
   "cell_type": "code",
   "execution_count": 82,
   "id": "b53c48e9-0ea2-447c-8c28-3232712a6dba",
   "metadata": {},
   "outputs": [],
   "source": [
    "header_string = np.delete(header_string, 3)"
   ]
  },
  {
   "cell_type": "code",
   "execution_count": 83,
   "id": "fff14f65-0635-4bc9-8fc1-d97d86c78ab5",
   "metadata": {},
   "outputs": [
    {
     "data": {
      "text/plain": [
       "array(['issue_date', 'loan_status', 'term_months', 'sub_grade', 'verification_status', 'url',\n",
       "       'addr_state'], dtype='<U19')"
      ]
     },
     "execution_count": 83,
     "metadata": {},
     "output_type": "execute_result"
    }
   ],
   "source": [
    "header_string"
   ]
  },
  {
   "cell_type": "markdown",
   "id": "7633125d-362d-4f39-9f53-03a44d3f5430",
   "metadata": {},
   "source": [
    "> Deleting the unused header of the **Grade**"
   ]
  },
  {
   "cell_type": "markdown",
   "id": "4caf75db-b765-4b9b-9928-1d33ef949be3",
   "metadata": {},
   "source": [
    "> After deleting the data of grade and the header of grade, now the array index of 3 is now consisting of `sub_grade`"
   ]
  },
  {
   "cell_type": "code",
   "execution_count": 86,
   "id": "bf2bc0de-44a3-4466-8ade-7c8abb8f3a63",
   "metadata": {},
   "outputs": [
    {
     "name": "stdout",
     "output_type": "stream",
     "text": [
      "[['A1' '285']\n",
      " ['A2' '278']\n",
      " ['A3' '239']\n",
      " ['A4' '323']\n",
      " ['A5' '592']\n",
      " ['B1' '509']\n",
      " ['B2' '517']\n",
      " ['B3' '530']\n",
      " ['B4' '553']\n",
      " ['B5' '633']\n",
      " ['C1' '629']\n",
      " ['C2' '567']\n",
      " ['C3' '586']\n",
      " ['C4' '564']\n",
      " ['C5' '577']\n",
      " ['D1' '391']\n",
      " ['D2' '267']\n",
      " ['D3' '250']\n",
      " ['D4' '255']\n",
      " ['D5' '288']\n",
      " ['E1' '235']\n",
      " ['E2' '162']\n",
      " ['E3' '171']\n",
      " ['E4' '139']\n",
      " ['E5' '160']\n",
      " ['F1' '94']\n",
      " ['F2' '52']\n",
      " ['F3' '34']\n",
      " ['F4' '43']\n",
      " ['F5' '24']\n",
      " ['G1' '19']\n",
      " ['G2' '10']\n",
      " ['G3' '3']\n",
      " ['G4' '7']\n",
      " ['G5' '5']\n",
      " ['H1' '9']]\n"
     ]
    }
   ],
   "source": [
    "sb_gr_after = np.unique(loan_data_strings[:,3], return_counts=True)\n",
    "sub_grade_aftertranspose = np.concatenate((sb_gr_after[0][:,np.newaxis], sb_gr_after[1][:,np.newaxis]), axis=1)\n",
    "print(sub_grade_transpose)"
   ]
  },
  {
   "cell_type": "markdown",
   "id": "6a42e414-f72b-4da2-973e-dc7421349197",
   "metadata": {},
   "source": [
    "> Displaying the data of the array index of 3 that previously **Grade**, that now is **sub_grade**"
   ]
  },
  {
   "cell_type": "markdown",
   "id": "497b0a3a-a0ad-43b9-b997-58dad05cb2b3",
   "metadata": {},
   "source": [
    "temp_mean"
   ]
  },
  {
   "cell_type": "markdown",
   "id": "adbfee57-aaf2-4805-bf06-c3e3e218ab1a",
   "metadata": {},
   "source": [
    "#### Converting the sub_grade to an integer using a dictionary"
   ]
  },
  {
   "cell_type": "code",
   "execution_count": 90,
   "id": "f7a60b3b-c0a8-4612-88fa-fef74387e7ff",
   "metadata": {},
   "outputs": [],
   "source": [
    "keys = list(np.unique(loan_data_strings[:,3]))\n",
    "values = list(range(1, np.unique(loan_data_strings[:,3]).shape[0]+1))"
   ]
  },
  {
   "cell_type": "code",
   "execution_count": 91,
   "id": "198cad8d-5715-479b-a61e-88df65488537",
   "metadata": {},
   "outputs": [],
   "source": [
    "dict_sub_grade = dict(zip(keys,values))"
   ]
  },
  {
   "cell_type": "code",
   "execution_count": 92,
   "id": "a074c1f1-b4c9-4e4f-bc8c-99f46f1c5ff5",
   "metadata": {},
   "outputs": [
    {
     "data": {
      "text/plain": [
       "{'A1': 1,\n",
       " 'A2': 2,\n",
       " 'A3': 3,\n",
       " 'A4': 4,\n",
       " 'A5': 5,\n",
       " 'B1': 6,\n",
       " 'B2': 7,\n",
       " 'B3': 8,\n",
       " 'B4': 9,\n",
       " 'B5': 10,\n",
       " 'C1': 11,\n",
       " 'C2': 12,\n",
       " 'C3': 13,\n",
       " 'C4': 14,\n",
       " 'C5': 15,\n",
       " 'D1': 16,\n",
       " 'D2': 17,\n",
       " 'D3': 18,\n",
       " 'D4': 19,\n",
       " 'D5': 20,\n",
       " 'E1': 21,\n",
       " 'E2': 22,\n",
       " 'E3': 23,\n",
       " 'E4': 24,\n",
       " 'E5': 25,\n",
       " 'F1': 26,\n",
       " 'F2': 27,\n",
       " 'F3': 28,\n",
       " 'F4': 29,\n",
       " 'F5': 30,\n",
       " 'G1': 31,\n",
       " 'G2': 32,\n",
       " 'G3': 33,\n",
       " 'G4': 34,\n",
       " 'G5': 35,\n",
       " 'H1': 36}"
      ]
     },
     "execution_count": 92,
     "metadata": {},
     "output_type": "execute_result"
    }
   ],
   "source": [
    "dict_sub_grade"
   ]
  },
  {
   "cell_type": "markdown",
   "id": "366cc90e-d07c-4109-8cef-5d23b4fb85d2",
   "metadata": {},
   "source": [
    "> The dictionary is defined by\n",
    "> <br>\n",
    "> 1. Keys = list of the Grade value (A1,A2, etc)\n",
    "> 2. Values = list of the range/length of Grade value "
   ]
  },
  {
   "cell_type": "code",
   "execution_count": 94,
   "id": "188132db-834a-4f21-8d6e-2ad3c5d7e12f",
   "metadata": {},
   "outputs": [],
   "source": [
    "for i in np.unique(loan_data_strings[:,3]):\n",
    "    loan_data_strings[:,3] = np.where(loan_data_strings[:,3] == i, \n",
    "                                      dict_sub_grade[i],\n",
    "                                     loan_data_strings[:,3])"
   ]
  },
  {
   "cell_type": "code",
   "execution_count": 95,
   "id": "5e6458f0-fa25-4d6c-b00c-f8fa0b4e5e62",
   "metadata": {},
   "outputs": [
    {
     "data": {
      "text/plain": [
       "array([['1'],\n",
       "       ['10'],\n",
       "       ['11'],\n",
       "       ['12'],\n",
       "       ['13'],\n",
       "       ['14'],\n",
       "       ['15'],\n",
       "       ['16'],\n",
       "       ['17'],\n",
       "       ['18'],\n",
       "       ['19'],\n",
       "       ['2'],\n",
       "       ['20'],\n",
       "       ['21'],\n",
       "       ['22'],\n",
       "       ['23'],\n",
       "       ['24'],\n",
       "       ['25'],\n",
       "       ['26'],\n",
       "       ['27'],\n",
       "       ['28'],\n",
       "       ['29'],\n",
       "       ['3'],\n",
       "       ['30'],\n",
       "       ['31'],\n",
       "       ['32'],\n",
       "       ['33'],\n",
       "       ['34'],\n",
       "       ['35'],\n",
       "       ['36'],\n",
       "       ['4'],\n",
       "       ['5'],\n",
       "       ['6'],\n",
       "       ['7'],\n",
       "       ['8'],\n",
       "       ['9']], dtype='<U69')"
      ]
     },
     "execution_count": 95,
     "metadata": {},
     "output_type": "execute_result"
    }
   ],
   "source": [
    "np.unique(loan_data_strings[:,3])[np.newaxis].T"
   ]
  },
  {
   "cell_type": "code",
   "execution_count": null,
   "id": "48cbdd3f",
   "metadata": {},
   "outputs": [],
   "source": []
  },
  {
   "cell_type": "markdown",
   "id": "40a162d5-fa51-4ec9-8627-c028f376cc15",
   "metadata": {},
   "source": [
    "> Dictionary is applied to the `sub_grade` value, then displaying as a transpose"
   ]
  },
  {
   "cell_type": "markdown",
   "id": "f287f63d-33ce-4b07-b0b5-e77b713f6e06",
   "metadata": {},
   "source": [
    "## Verification Status"
   ]
  },
  {
   "cell_type": "code",
   "execution_count": 98,
   "id": "94e06b6d",
   "metadata": {},
   "outputs": [
    {
     "data": {
      "text/plain": [
       "array(['issue_date', 'loan_status', 'term_months', 'sub_grade', 'verification_status', 'url',\n",
       "       'addr_state'], dtype='<U19')"
      ]
     },
     "execution_count": 98,
     "metadata": {},
     "output_type": "execute_result"
    }
   ],
   "source": [
    "header_string"
   ]
  },
  {
   "cell_type": "code",
   "execution_count": 166,
   "id": "238e5070",
   "metadata": {},
   "outputs": [
    {
     "data": {
      "text/plain": [
       "array(['Verified', 'Source Verified', 'Verified', ..., 'Source Verified', 'Source Verified', ''],\n",
       "      dtype='<U69')"
      ]
     },
     "execution_count": 166,
     "metadata": {},
     "output_type": "execute_result"
    }
   ],
   "source": [
    "loan_data_strings[:,4]"
   ]
  },
  {
   "cell_type": "code",
   "execution_count": 168,
   "id": "78f25bee",
   "metadata": {},
   "outputs": [
    {
     "data": {
      "text/plain": [
       "array(['', 'Not Verified', 'Source Verified', 'Verified'], dtype='<U69')"
      ]
     },
     "execution_count": 168,
     "metadata": {},
     "output_type": "execute_result"
    }
   ],
   "source": [
    "np.unique(loan_data_strings[:,4])"
   ]
  },
  {
   "cell_type": "code",
   "execution_count": 174,
   "id": "5f2a6faf-2fe6-4edf-ae40-ca305b9b538b",
   "metadata": {},
   "outputs": [],
   "source": [
    "loan_data_strings[:,4] = np.where((loan_data_strings[:,4] == 'Source Verified') | (loan_data_strings[:,4] == 'Verified'),1,0\n",
    "                                  )"
   ]
  },
  {
   "cell_type": "code",
   "execution_count": 176,
   "id": "61537093-7006-468f-94bd-99627352880c",
   "metadata": {},
   "outputs": [
    {
     "data": {
      "text/plain": [
       "array(['1', '1', '1', ..., '1', '1', '0'], dtype='<U69')"
      ]
     },
     "execution_count": 176,
     "metadata": {},
     "output_type": "execute_result"
    }
   ],
   "source": [
    "loan_data_strings[:,4]"
   ]
  },
  {
   "cell_type": "code",
   "execution_count": 178,
   "id": "217564b8-85da-4daf-bf16-107a93aee57c",
   "metadata": {},
   "outputs": [
    {
     "data": {
      "text/plain": [
       "array(['0', '1'], dtype='<U69')"
      ]
     },
     "execution_count": 178,
     "metadata": {},
     "output_type": "execute_result"
    }
   ],
   "source": [
    "np.unique(loan_data_strings[:,4])"
   ]
  },
  {
   "cell_type": "markdown",
   "id": "513578d3-4419-4f95-9eca-32ac5462ba23",
   "metadata": {},
   "source": [
    "## URL"
   ]
  },
  {
   "cell_type": "code",
   "execution_count": 181,
   "id": "496d2bb9-851e-44d6-a983-0255b272a7ea",
   "metadata": {},
   "outputs": [
    {
     "data": {
      "text/plain": [
       "array(['https://www.lendingclub.com/browse/loanDetail.action?loan_id=48010226',\n",
       "       'https://www.lendingclub.com/browse/loanDetail.action?loan_id=57693261',\n",
       "       'https://www.lendingclub.com/browse/loanDetail.action?loan_id=59432726', ...,\n",
       "       'https://www.lendingclub.com/browse/loanDetail.action?loan_id=50415990',\n",
       "       'https://www.lendingclub.com/browse/loanDetail.action?loan_id=46154151',\n",
       "       'https://www.lendingclub.com/browse/loanDetail.action?loan_id=66055249'], dtype='<U69')"
      ]
     },
     "execution_count": 181,
     "metadata": {},
     "output_type": "execute_result"
    }
   ],
   "source": [
    "loan_data_strings[:,5]"
   ]
  },
  {
   "cell_type": "code",
   "execution_count": 187,
   "id": "9219c032-8e96-4346-a548-79f9d6d9b1f2",
   "metadata": {},
   "outputs": [
    {
     "data": {
      "text/plain": [
       "chararray(['48010226', '57693261', '59432726', ..., '50415990', '46154151', '66055249'],\n",
       "          dtype='<U69')"
      ]
     },
     "execution_count": 187,
     "metadata": {},
     "output_type": "execute_result"
    }
   ],
   "source": [
    "np.chararray.strip(loan_data_strings[:,5], 'https://www.lendingclub.com/browse/loanDetail.action?loan_id=')"
   ]
  },
  {
   "cell_type": "code",
   "execution_count": 189,
   "id": "2a97b696-9fd3-4d4a-a33a-e34bb374d498",
   "metadata": {},
   "outputs": [],
   "source": [
    "loan_data_strings[:,5] = np.chararray.strip(loan_data_strings[:,5], 'https://www.lendingclub.com/browse/loanDetail.action?loan_id=')"
   ]
  },
  {
   "cell_type": "code",
   "execution_count": 193,
   "id": "67e75f56-8edc-4053-be2c-d7930cf0fe26",
   "metadata": {},
   "outputs": [
    {
     "data": {
      "text/plain": [
       "array(['48010226', '57693261', '59432726', ..., '50415990', '46154151', '66055249'], dtype='<U69')"
      ]
     },
     "execution_count": 193,
     "metadata": {},
     "output_type": "execute_result"
    }
   ],
   "source": [
    "loan_data_strings[:,5]"
   ]
  },
  {
   "cell_type": "code",
   "execution_count": 195,
   "id": "1bdc6251-d611-49b7-8fd8-de9caae12265",
   "metadata": {},
   "outputs": [
    {
     "data": {
      "text/plain": [
       "array(['id', 'loan_amnt', 'funded_amnt', 'int_rate', 'installment', 'total_pymnt'], dtype='<U19')"
      ]
     },
     "execution_count": 195,
     "metadata": {},
     "output_type": "execute_result"
    }
   ],
   "source": [
    "header_numeric"
   ]
  },
  {
   "cell_type": "code",
   "execution_count": 199,
   "id": "20af47e9-0daf-4ef5-9bfe-7c766913fea7",
   "metadata": {},
   "outputs": [
    {
     "data": {
      "text/plain": [
       "array([48010226., 57693261., 59432726., ..., 50415990., 46154151., 66055249.])"
      ]
     },
     "execution_count": 199,
     "metadata": {},
     "output_type": "execute_result"
    }
   ],
   "source": [
    "loan_data_fill[:,0]"
   ]
  },
  {
   "cell_type": "code",
   "execution_count": 201,
   "id": "202c003e-910b-44f0-a741-a3430b0d8100",
   "metadata": {},
   "outputs": [],
   "source": [
    "loan_data_strings = np.delete(loan_data_strings, 5, axis = 1)\n",
    "header_string = np.delete(header_string, 5)"
   ]
  },
  {
   "cell_type": "code",
   "execution_count": 203,
   "id": "4826e206-240f-49d1-b30e-1e484f365887",
   "metadata": {},
   "outputs": [
    {
     "data": {
      "text/plain": [
       "array(['issue_date', 'loan_status', 'term_months', 'sub_grade', 'verification_status',\n",
       "       'addr_state'], dtype='<U19')"
      ]
     },
     "execution_count": 203,
     "metadata": {},
     "output_type": "execute_result"
    }
   ],
   "source": [
    "header_string"
   ]
  },
  {
   "cell_type": "markdown",
   "id": "b7408a78-e06c-4a61-933a-cdf60681d383",
   "metadata": {},
   "source": [
    "## State Address"
   ]
  },
  {
   "cell_type": "code",
   "execution_count": null,
   "id": "cf942e81-48c1-4a81-9137-88ba5ab1fb71",
   "metadata": {},
   "outputs": [],
   "source": []
  }
 ],
 "metadata": {
  "kernelspec": {
   "display_name": "Python 3 (ipykernel)",
   "language": "python",
   "name": "python3"
  },
  "language_info": {
   "codemirror_mode": {
    "name": "ipython",
    "version": 3
   },
   "file_extension": ".py",
   "mimetype": "text/x-python",
   "name": "python",
   "nbconvert_exporter": "python",
   "pygments_lexer": "ipython3",
   "version": "3.12.4"
  }
 },
 "nbformat": 4,
 "nbformat_minor": 5
}
