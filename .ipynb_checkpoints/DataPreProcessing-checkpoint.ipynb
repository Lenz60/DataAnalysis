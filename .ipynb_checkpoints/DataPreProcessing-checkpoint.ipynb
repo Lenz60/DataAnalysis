{
 "cells": [
  {
   "cell_type": "markdown",
   "id": "f9085f0a-a3aa-4771-a2c8-5a8ddb59ca96",
   "metadata": {},
   "source": [
    "# Preprocessing Data"
   ]
  },
  {
   "cell_type": "markdown",
   "id": "44bd2e80-3463-4c20-ac90-50bbeaf852e6",
   "metadata": {},
   "source": [
    "## Processing a raw data given a rules"
   ]
  },
  {
   "cell_type": "code",
   "execution_count": 85,
   "id": "3b3f3763-0052-4bfc-893a-1fefeea4463b",
   "metadata": {},
   "outputs": [],
   "source": [
    "import numpy as np"
   ]
  },
  {
   "cell_type": "code",
   "execution_count": 113,
   "id": "be2f6e7d-5b57-4bbb-9d05-93d9cf9dc773",
   "metadata": {},
   "outputs": [],
   "source": [
    "np.set_printoptions(suppress=True , linewidth=100, precision=2)"
   ]
  },
  {
   "cell_type": "markdown",
   "id": "b8a594e9-7f70-4d41-b8d9-da28aa5493da",
   "metadata": {},
   "source": [
    "> Suppress is for disable a simplified out of bonds digit like `123e+`\n",
    "<br>\n",
    "> Linewidth is t set a width in a roow to a `100`\n",
    "<br>\n",
    "> Precision is used for a display 2 digit decimalals"
   ]
  },
  {
   "cell_type": "markdown",
   "id": "71ea11e4-42b1-4330-b1d4-a9398e8a8641",
   "metadata": {},
   "source": [
    "### Loading a csv data and generate it using `genfromtxt`"
   ]
  },
  {
   "cell_type": "code",
   "execution_count": 119,
   "id": "337538b9-96da-4b61-813d-451f5e83de03",
   "metadata": {},
   "outputs": [],
   "source": [
    "pre_data = \"dataset/loan-data.csv\""
   ]
  },
  {
   "cell_type": "code",
   "execution_count": 121,
   "id": "5427a108-9159-4c06-abfe-9ea9374b0540",
   "metadata": {},
   "outputs": [
    {
     "data": {
      "text/plain": [
       "array([[        nan,         nan,         nan, ...,         nan,         nan,         nan],\n",
       "       [48010226.  ,         nan,    35000.  , ...,         nan,         nan,     9452.96],\n",
       "       [57693261.  ,         nan,    30000.  , ...,         nan,         nan,     4679.7 ],\n",
       "       ...,\n",
       "       [50415990.  ,         nan,    10000.  , ...,         nan,         nan,     2185.64],\n",
       "       [46154151.  ,         nan,         nan, ...,         nan,         nan,     3199.4 ],\n",
       "       [66055249.  ,         nan,    10000.  , ...,         nan,         nan,      301.9 ]])"
      ]
     },
     "execution_count": 121,
     "metadata": {},
     "output_type": "execute_result"
    }
   ],
   "source": [
    "raw_data = np.genfromtxt(pre_data, delimiter=';')\n",
    "raw_data"
   ]
  },
  {
   "cell_type": "markdown",
   "id": "cbae7de9-fb1d-4bf8-a310-81f1c84d0dcd",
   "metadata": {},
   "source": [
    "### Formatting the data with `skip_header` and `autostrip`"
   ]
  },
  {
   "cell_type": "code",
   "execution_count": 124,
   "id": "0538650b-35b5-4117-9a38-7696f1db41d0",
   "metadata": {},
   "outputs": [
    {
     "data": {
      "text/plain": [
       "array([[48010226.  ,         nan,    35000.  , ...,         nan,         nan,     9452.96],\n",
       "       [57693261.  ,         nan,    30000.  , ...,         nan,         nan,     4679.7 ],\n",
       "       [59432726.  ,         nan,    15000.  , ...,         nan,         nan,     1969.83],\n",
       "       ...,\n",
       "       [50415990.  ,         nan,    10000.  , ...,         nan,         nan,     2185.64],\n",
       "       [46154151.  ,         nan,         nan, ...,         nan,         nan,     3199.4 ],\n",
       "       [66055249.  ,         nan,    10000.  , ...,         nan,         nan,      301.9 ]])"
      ]
     },
     "execution_count": 124,
     "metadata": {},
     "output_type": "execute_result"
    }
   ],
   "source": [
    "raw_data_frmt = np.genfromtxt(pre_data, delimiter=';', skip_header=1, autostrip=True)\n",
    "raw_data_frmt"
   ]
  },
  {
   "cell_type": "markdown",
   "id": "4b885467-3aac-4303-9fc9-d0eb83e370be",
   "metadata": {},
   "source": [
    "> Skip the header of the data and the `autostrip` parameter is used to automatically remove (strip) leading and trailing whitespace from the data fields while reading the input text file."
   ]
  },
  {
   "cell_type": "markdown",
   "id": "783bafc8-ebf7-484e-9b25-e72bd0548935",
   "metadata": {},
   "source": [
    "### Checking a nan in a dataset"
   ]
  },
  {
   "cell_type": "code",
   "execution_count": 127,
   "id": "c4e1aef0-3c2e-45c8-b6be-9b6f0e9ee99f",
   "metadata": {},
   "outputs": [
    {
     "data": {
      "text/plain": [
       "array([[False,  True, False, ...,  True,  True, False],\n",
       "       [False,  True, False, ...,  True,  True, False],\n",
       "       [False,  True, False, ...,  True,  True, False],\n",
       "       ...,\n",
       "       [False,  True, False, ...,  True,  True, False],\n",
       "       [False,  True,  True, ...,  True,  True, False],\n",
       "       [False,  True, False, ...,  True,  True, False]])"
      ]
     },
     "execution_count": 127,
     "metadata": {},
     "output_type": "execute_result"
    }
   ],
   "source": [
    "np.isnan(raw_data_frmt)"
   ]
  },
  {
   "cell_type": "markdown",
   "id": "0fcb1429-b2fe-4948-8315-bb6230fdd7b8",
   "metadata": {},
   "source": [
    "> From the output we know where is the data is nan or not by seeing it as a boolean value"
   ]
  },
  {
   "cell_type": "markdown",
   "id": "952b993a-5725-40ab-8e44-85248c684161",
   "metadata": {},
   "source": [
    "### Checking howw many nan data is "
   ]
  },
  {
   "cell_type": "code",
   "execution_count": 134,
   "id": "e4c49df2-fdbb-42b1-b290-fdc424e145b7",
   "metadata": {},
   "outputs": [
    {
     "data": {
      "text/plain": [
       "88005"
      ]
     },
     "execution_count": 134,
     "metadata": {},
     "output_type": "execute_result"
    }
   ],
   "source": [
    "np.isnan(raw_data_frmt).sum()"
   ]
  },
  {
   "cell_type": "markdown",
   "id": "472ce901-9f8b-4e81-8511-60fe3ab0870f",
   "metadata": {},
   "source": [
    "> From the output we know how many Nan data in a dataset"
   ]
  },
  {
   "cell_type": "code",
   "execution_count": 143,
   "id": "4350e23a-d1fb-4d87-a375-a2ad513a6706",
   "metadata": {},
   "outputs": [
    {
     "name": "stderr",
     "output_type": "stream",
     "text": [
      "C:\\Users\\rafly.wicaksana\\AppData\\Local\\Temp\\ipykernel_20568\\2555478099.py:2: RuntimeWarning: Mean of empty slice\n",
      "  temp_mean = np.nanmean(raw_data_frmt, axis=0)\n"
     ]
    }
   ],
   "source": [
    "temp_fill = np.nanmax(raw_data_frmt) + 1\n",
    "temp_mean = np.nanmean(raw_data_frmt, axis=0)"
   ]
  },
  {
   "cell_type": "code",
   "execution_count": 145,
   "id": "be4db514-6d88-4b0f-b5fe-158cbee69eef",
   "metadata": {},
   "outputs": [
    {
     "data": {
      "text/plain": [
       "array([54015809.19,         nan,    15273.46,         nan,    15311.04,         nan,       16.62,\n",
       "            440.92,         nan,         nan,         nan,         nan,         nan,     3143.85])"
      ]
     },
     "execution_count": 145,
     "metadata": {},
     "output_type": "execute_result"
    }
   ],
   "source": [
    "temp_mean"
   ]
  },
  {
   "cell_type": "markdown",
   "id": "c51012cf-e2e0-4889-bc04-84981fdf2f2d",
   "metadata": {},
   "source": [
    "> From the output we know where is the col/row that contains a nan (all the row/col is not contain a single number)\n",
    "<br>\n",
    "> The output that display a number, it col/row is containing atleast one numbers"
   ]
  },
  {
   "cell_type": "code",
   "execution_count": 104,
   "id": "1a8e0442-723c-453d-b5bc-a49f8028e531",
   "metadata": {},
   "outputs": [],
   "source": [
    "temp_stats = np.array([np.min(raw_data_frmt, axis=0),\n",
    "                        temp_mean,\n",
    "                       np.max(raw_data_frmt, axis=0)])"
   ]
  },
  {
   "cell_type": "code",
   "execution_count": 106,
   "id": "b478cb57-52fe-4894-866f-caced4db8a5a",
   "metadata": {},
   "outputs": [
    {
     "data": {
      "text/plain": [
       "array([[  373332.  ,         nan,         nan,         nan,         nan,         nan,         nan,\n",
       "                nan,         nan,         nan,         nan,         nan,         nan,         nan],\n",
       "       [54015809.19,         nan,    15273.46,         nan,    15311.04,         nan,       16.62,\n",
       "             440.92,         nan,         nan,         nan,         nan,         nan,     3143.85],\n",
       "       [68616519.  ,         nan,         nan,         nan,         nan,         nan,         nan,\n",
       "                nan,         nan,         nan,         nan,         nan,         nan,         nan]])"
      ]
     },
     "execution_count": 106,
     "metadata": {},
     "output_type": "execute_result"
    }
   ],
   "source": [
    "temp_stats"
   ]
  },
  {
   "cell_type": "markdown",
   "id": "33a6dcf4-9b01-4968-a5c2-f5e4cc661837",
   "metadata": {},
   "source": [
    "#### Splitting Dataset"
   ]
  },
  {
   "cell_type": "markdown",
   "id": "6126cd53-7482-4d84-8b85-ebf7bc988f4a",
   "metadata": {},
   "source": [
    "##### Searching where is the nan located"
   ]
  },
  {
   "cell_type": "code",
   "execution_count": 198,
   "id": "bdf132c4-2aa0-4745-8f54-0ac1feb74ba8",
   "metadata": {},
   "outputs": [
    {
     "data": {
      "text/plain": [
       "array([[ 1],\n",
       "       [ 3],\n",
       "       [ 5],\n",
       "       [ 8],\n",
       "       [ 9],\n",
       "       [10],\n",
       "       [11],\n",
       "       [12]], dtype=int64)"
      ]
     },
     "execution_count": 198,
     "metadata": {},
     "output_type": "execute_result"
    }
   ],
   "source": [
    "col_strings = np.argwhere(np.isnan(temp_mean))\n",
    "col_strings\n"
   ]
  },
  {
   "cell_type": "markdown",
   "id": "6334578f-c1ab-4cf3-827b-2faca3bb93b1",
   "metadata": {},
   "source": [
    "> Display the column that contains a string values based on the `temp_mean` type data"
   ]
  },
  {
   "cell_type": "code",
   "execution_count": 240,
   "id": "43a428e3-6c82-4748-956d-4fe0e88af292",
   "metadata": {},
   "outputs": [
    {
     "data": {
      "text/plain": [
       "array([ 1,  3,  5,  8,  9, 10, 11, 12], dtype=int64)"
      ]
     },
     "execution_count": 240,
     "metadata": {},
     "output_type": "execute_result"
    }
   ],
   "source": [
    "col_strings = np.argwhere(np.isnan(temp_mean)).squeeze()\n",
    "col_strings"
   ]
  },
  {
   "cell_type": "markdown",
   "id": "0e322269-a87a-414a-9c06-faa519d14ccd",
   "metadata": {},
   "source": [
    "> Squeeze will a uniform the array shape based on what slicing we use"
   ]
  },
  {
   "cell_type": "code",
   "execution_count": 243,
   "id": "a8c83482-5e29-48c8-b85f-330e391027e4",
   "metadata": {},
   "outputs": [
    {
     "data": {
      "text/plain": [
       "array([ 0,  2,  4,  6,  7, 13], dtype=int64)"
      ]
     },
     "execution_count": 243,
     "metadata": {},
     "output_type": "execute_result"
    }
   ],
   "source": [
    "col_numeric = np.argwhere(np.isnan(temp_mean) == False).squeeze()\n",
    "col_numeric"
   ]
  },
  {
   "cell_type": "markdown",
   "id": "f8c57c6b-82f1-41f5-b7fd-d1c5ae604658",
   "metadata": {},
   "source": [
    "> Display the column that contains a numeric values based on the ! `temp_mean` data"
   ]
  },
  {
   "cell_type": "code",
   "execution_count": 221,
   "id": "f8e1998b-8f67-4bbe-903d-b93dd242c89e",
   "metadata": {},
   "outputs": [
    {
     "data": {
      "text/plain": [
       "array([['May-15', 'Current', '36 months', ..., 'Verified',\n",
       "        'https://www.lendingclub.com/browse/loanDetail.action?loan_id=48010226', 'CA'],\n",
       "       ['', 'Current', '36 months', ..., 'Source Verified',\n",
       "        'https://www.lendingclub.com/browse/loanDetail.action?loan_id=57693261', 'NY'],\n",
       "       ['Sep-15', 'Current', '36 months', ..., 'Verified',\n",
       "        'https://www.lendingclub.com/browse/loanDetail.action?loan_id=59432726', 'PA'],\n",
       "       ...,\n",
       "       ['Jun-15', 'Current', '36 months', ..., 'Source Verified',\n",
       "        'https://www.lendingclub.com/browse/loanDetail.action?loan_id=50415990', 'CA'],\n",
       "       ['Apr-15', 'Current', '36 months', ..., 'Source Verified',\n",
       "        'https://www.lendingclub.com/browse/loanDetail.action?loan_id=46154151', 'OH'],\n",
       "       ['Dec-15', 'Current', '36 months', ..., '',\n",
       "        'https://www.lendingclub.com/browse/loanDetail.action?loan_id=66055249', 'IL']],\n",
       "      dtype='<U69')"
      ]
     },
     "execution_count": 221,
     "metadata": {},
     "output_type": "execute_result"
    }
   ],
   "source": [
    "loan_data_strings = np.genfromtxt(pre_data, delimiter=';', skip_header=1, autostrip=True, usecols=col_strings, dtype=str)\n",
    "loan_data_strings"
   ]
  },
  {
   "cell_type": "code",
   "execution_count": 229,
   "id": "df0360cb-3fcb-4deb-b802-ece4ff1ce2fa",
   "metadata": {},
   "outputs": [
    {
     "data": {
      "text/plain": [
       "array([[48010226.  ,    35000.  ,    35000.  ,       13.33,     1184.86,     9452.96],\n",
       "       [57693261.  ,    30000.  ,    30000.  , 68616520.  ,      938.57,     4679.7 ],\n",
       "       [59432726.  ,    15000.  ,    15000.  , 68616520.  ,      494.86,     1969.83],\n",
       "       ...,\n",
       "       [50415990.  ,    10000.  ,    10000.  , 68616520.  , 68616520.  ,     2185.64],\n",
       "       [46154151.  , 68616520.  ,    10000.  ,       16.55,      354.3 ,     3199.4 ],\n",
       "       [66055249.  ,    10000.  ,    10000.  , 68616520.  ,      309.97,      301.9 ]])"
      ]
     },
     "execution_count": 229,
     "metadata": {},
     "output_type": "execute_result"
    }
   ],
   "source": [
    "loan_data_fill = np.genfromtxt(pre_data, \n",
    "                               delimiter=';', \n",
    "                               skip_header=1, \n",
    "                               autostrip=True, \n",
    "                               usecols=col_numeric,\n",
    "                               filling_values=temp_fill)\n",
    "loan_data_fill"
   ]
  },
  {
   "cell_type": "code",
   "execution_count": 233,
   "id": "af551a32-4107-43cf-86fa-6611adda6733",
   "metadata": {},
   "outputs": [
    {
     "data": {
      "text/plain": [
       "array(['id', 'issue_d', 'loan_amnt', 'loan_status', 'funded_amnt', 'term', 'int_rate',\n",
       "       'installment', 'grade', 'sub_grade', 'verification_status', 'url', 'addr_state',\n",
       "       'total_pymnt'], dtype='<U19')"
      ]
     },
     "execution_count": 233,
     "metadata": {},
     "output_type": "execute_result"
    }
   ],
   "source": [
    "header_full = np.genfromtxt(pre_data, \n",
    "                               delimiter=';', \n",
    "                               skip_footer= raw_data_frmt.shape[0],\n",
    "                               autostrip=True, \n",
    "                               dtype=str)\n",
    "header_full"
   ]
  },
  {
   "cell_type": "code",
   "execution_count": 235,
   "id": "282b5b2c-017a-46b9-9c51-e8547526c683",
   "metadata": {},
   "outputs": [
    {
     "data": {
      "text/plain": [
       "array(['issue_d', 'loan_status', 'term', 'grade', 'sub_grade', 'verification_status', 'url',\n",
       "       'addr_state'], dtype='<U19')"
      ]
     },
     "execution_count": 235,
     "metadata": {},
     "output_type": "execute_result"
    }
   ],
   "source": [
    "header_string, header_numeric = header_full[col_strings], header_full[col_numeric]\n",
    "header_string"
   ]
  },
  {
   "cell_type": "code",
   "execution_count": 237,
   "id": "dc80e861-ab78-46ad-91d3-9bba73440e5d",
   "metadata": {},
   "outputs": [
    {
     "data": {
      "text/plain": [
       "array(['id', 'loan_amnt', 'funded_amnt', 'int_rate', 'installment', 'total_pymnt'], dtype='<U19')"
      ]
     },
     "execution_count": 237,
     "metadata": {},
     "output_type": "execute_result"
    }
   ],
   "source": [
    "header_numeric"
   ]
  },
  {
   "cell_type": "code",
   "execution_count": null,
   "id": "cf0e03b1-7d91-4575-8e1e-145995fbd4a7",
   "metadata": {},
   "outputs": [],
   "source": []
  }
 ],
 "metadata": {
  "kernelspec": {
   "display_name": "Python 3 (ipykernel)",
   "language": "python",
   "name": "python3"
  },
  "language_info": {
   "codemirror_mode": {
    "name": "ipython",
    "version": 3
   },
   "file_extension": ".py",
   "mimetype": "text/x-python",
   "name": "python",
   "nbconvert_exporter": "python",
   "pygments_lexer": "ipython3",
   "version": "3.12.4"
  }
 },
 "nbformat": 4,
 "nbformat_minor": 5
}
