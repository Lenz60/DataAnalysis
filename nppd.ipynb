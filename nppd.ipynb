{
 "cells": [
  {
   "cell_type": "markdown",
   "id": "260e7756-1327-4708-ba99-f4c4e0bf308f",
   "metadata": {},
   "source": [
    "# Data Analysis"
   ]
  },
  {
   "cell_type": "code",
   "execution_count": 8,
   "id": "8976d5a6-ad72-47b6-a3c5-16f983ec963a",
   "metadata": {},
   "outputs": [],
   "source": [
    "import numpy as np\n",
    "import pandas as pd\n",
    "import random"
   ]
  },
  {
   "cell_type": "code",
   "execution_count": null,
   "id": "b392a41b-8f19-4fbf-8d10-bbf944712e3c",
   "metadata": {},
   "outputs": [],
   "source": [
    "a = np.array([4,3,12])"
   ]
  },
  {
   "cell_type": "code",
   "execution_count": null,
   "id": "597b92c6-ee1f-43c8-b90b-4dd7ca4b82ec",
   "metadata": {},
   "outputs": [],
   "source": [
    "v = np.array([4,3,2])\n",
    "v"
   ]
  },
  {
   "cell_type": "code",
   "execution_count": null,
   "id": "acafab5c-f729-4147-87ef-88b134375dfa",
   "metadata": {},
   "outputs": [],
   "source": [
    "x = np.array([[1,2,3],[4,5,6]])\n",
    "x"
   ]
  },
  {
   "cell_type": "code",
   "execution_count": null,
   "id": "df448485-335b-4efa-b77d-afc7be4bd3d3",
   "metadata": {},
   "outputs": [],
   "source": [
    "v.shape"
   ]
  },
  {
   "cell_type": "code",
   "execution_count": null,
   "id": "1e05ee81-e981-47af-841e-d00e7afe6c3a",
   "metadata": {},
   "outputs": [],
   "source": [
    "v.reshape(3,1)"
   ]
  },
  {
   "cell_type": "code",
   "execution_count": null,
   "id": "321f1993-6a9c-42d2-9ac4-92d1fa9dea3f",
   "metadata": {},
   "outputs": [],
   "source": [
    "v.T"
   ]
  },
  {
   "cell_type": "code",
   "execution_count": null,
   "id": "1184942c-369a-4071-91bb-6533ac7633f1",
   "metadata": {},
   "outputs": [],
   "source": [
    "a*v"
   ]
  },
  {
   "cell_type": "code",
   "execution_count": null,
   "id": "b1adee3a-9ec8-4bd1-b2a5-fc8e100c009b",
   "metadata": {},
   "outputs": [],
   "source": [
    "a = np.array([[4,3,12],[3,4,1]])\n",
    "a"
   ]
  },
  {
   "cell_type": "code",
   "execution_count": null,
   "id": "2b349378-a002-4519-8843-850cee45495e",
   "metadata": {},
   "outputs": [],
   "source": [
    "b = np.array([[4,3,2],[5,2,1]])\n",
    "b"
   ]
  },
  {
   "cell_type": "code",
   "execution_count": null,
   "id": "221f827e-2dbe-486b-a427-79f7d8e020e8",
   "metadata": {},
   "outputs": [],
   "source": [
    "products = ['A','B','C','D']\n",
    "products"
   ]
  },
  {
   "cell_type": "code",
   "execution_count": null,
   "id": "5e41cc3f-658d-4a51-8569-504f3a52d802",
   "metadata": {},
   "outputs": [],
   "source": [
    "product_categories = pd.Series(products, index=range(1, len(products) + 1))\n",
    "product_categories"
   ]
  },
  {
   "cell_type": "code",
   "execution_count": null,
   "id": "aa1ffd1c-a092-4e45-b8bb-8f8109f54cca",
   "metadata": {},
   "outputs": [],
   "source": [
    "v_series = pd.Series(v)\n",
    "v_series"
   ]
  },
  {
   "cell_type": "code",
   "execution_count": null,
   "id": "4b693024-8f9c-4811-8d19-4b422bc4caaf",
   "metadata": {},
   "outputs": [],
   "source": [
    "# idx = [random.random() for _ in range(len(v))]\n",
    "idx = [1,2,3,]"
   ]
  },
  {
   "cell_type": "code",
   "execution_count": null,
   "id": "cd2a455b-5e3b-4524-94d4-fddfea73f511",
   "metadata": {},
   "outputs": [],
   "source": [
    "v_series = pd.Series(v, index=idx)\n",
    "v_series"
   ]
  },
  {
   "cell_type": "code",
   "execution_count": null,
   "id": "2064e16f-7cc7-47b2-a3a9-1cf10b23a745",
   "metadata": {},
   "outputs": [],
   "source": [
    "print(v_series[1:3])\n",
    "print(f\"{'+'*5}\")\n",
    "print(v_series.iloc[1])\n",
    "print(f\"{'+'*5}\")\n",
    "print(v_series.loc[[1,3]])"
   ]
  },
  {
   "cell_type": "code",
   "execution_count": null,
   "id": "83818cff-2e9f-4482-b55a-3663b3b20bba",
   "metadata": {},
   "outputs": [],
   "source": [
    "prices_per_category = {'Product A' :1000, 'Product B': 2000, 'Product C': 9000}\n",
    "prices_per_category"
   ]
  },
  {
   "cell_type": "code",
   "execution_count": null,
   "id": "f92413e6-c60a-46ac-908c-ecdee143dac0",
   "metadata": {},
   "outputs": [],
   "source": [
    "v_series.max()"
   ]
  },
  {
   "cell_type": "code",
   "execution_count": null,
   "id": "414e2731-5ea2-4a53-891d-4bccaa2f096b",
   "metadata": {},
   "outputs": [],
   "source": [
    "v_series.idxmax()"
   ]
  },
  {
   "cell_type": "code",
   "execution_count": 26,
   "id": "809baca4-d2b2-4375-bab3-7a0bf578f182",
   "metadata": {},
   "outputs": [
    {
     "ename": "NameError",
     "evalue": "name 'v_series' is not defined",
     "output_type": "error",
     "traceback": [
      "\u001b[1;31m---------------------------------------------------------------------------\u001b[0m",
      "\u001b[1;31mNameError\u001b[0m                                 Traceback (most recent call last)",
      "Cell \u001b[1;32mIn[26], line 1\u001b[0m\n\u001b[1;32m----> 1\u001b[0m v_series\u001b[38;5;241m.\u001b[39mhead(\u001b[38;5;241m2\u001b[39m)\n",
      "\u001b[1;31mNameError\u001b[0m: name 'v_series' is not defined"
     ]
    }
   ],
   "source": [
    "v_series.head(2)"
   ]
  },
  {
   "cell_type": "code",
   "execution_count": 30,
   "id": "855fd81b-dbb1-4924-94f3-116a60f99379",
   "metadata": {},
   "outputs": [],
   "source": [
    "data = {'Product Name':\n",
    "            [\n",
    "                'Product A',\n",
    "                'Product B',\n",
    "                'Product C'\n",
    "            ],\n",
    "        'Product Price': \n",
    "            [\n",
    "                25000,\n",
    "                25300,\n",
    "                22100\n",
    "            ],\n",
    "       }"
   ]
  },
  {
   "cell_type": "code",
   "execution_count": 32,
   "id": "1f6877f2-5887-40b8-9fa3-d8149b72af19",
   "metadata": {},
   "outputs": [
    {
     "data": {
      "text/html": [
       "<div>\n",
       "<style scoped>\n",
       "    .dataframe tbody tr th:only-of-type {\n",
       "        vertical-align: middle;\n",
       "    }\n",
       "\n",
       "    .dataframe tbody tr th {\n",
       "        vertical-align: top;\n",
       "    }\n",
       "\n",
       "    .dataframe thead th {\n",
       "        text-align: right;\n",
       "    }\n",
       "</style>\n",
       "<table border=\"1\" class=\"dataframe\">\n",
       "  <thead>\n",
       "    <tr style=\"text-align: right;\">\n",
       "      <th></th>\n",
       "      <th>index</th>\n",
       "      <th>Product Name</th>\n",
       "      <th>Product Price</th>\n",
       "    </tr>\n",
       "  </thead>\n",
       "  <tbody>\n",
       "    <tr>\n",
       "      <th>0</th>\n",
       "      <td></td>\n",
       "      <td>Product A</td>\n",
       "      <td>25000</td>\n",
       "    </tr>\n",
       "    <tr>\n",
       "      <th>1</th>\n",
       "      <td></td>\n",
       "      <td>Product B</td>\n",
       "      <td>25300</td>\n",
       "    </tr>\n",
       "    <tr>\n",
       "      <th>2</th>\n",
       "      <td></td>\n",
       "      <td>Product C</td>\n",
       "      <td>22100</td>\n",
       "    </tr>\n",
       "  </tbody>\n",
       "</table>\n",
       "</div>"
      ],
      "text/plain": [
       "  index Product Name  Product Price\n",
       "0          Product A          25000\n",
       "1          Product B          25300\n",
       "2          Product C          22100"
      ]
     },
     "execution_count": 32,
     "metadata": {},
     "output_type": "execute_result"
    }
   ],
   "source": [
    "df = pd.DataFrame(data)\n",
    "df"
   ]
  },
  {
   "cell_type": "code",
   "execution_count": 16,
   "id": "2ce7e94e-81fc-46a8-9581-8074c7a5dfa3",
   "metadata": {},
   "outputs": [
    {
     "data": {
      "text/html": [
       "<div>\n",
       "<style scoped>\n",
       "    .dataframe tbody tr th:only-of-type {\n",
       "        vertical-align: middle;\n",
       "    }\n",
       "\n",
       "    .dataframe tbody tr th {\n",
       "        vertical-align: top;\n",
       "    }\n",
       "\n",
       "    .dataframe thead th {\n",
       "        text-align: right;\n",
       "    }\n",
       "</style>\n",
       "<table border=\"1\" class=\"dataframe\">\n",
       "  <thead>\n",
       "    <tr style=\"text-align: right;\">\n",
       "      <th></th>\n",
       "      <th>Product Name</th>\n",
       "      <th>Product Price</th>\n",
       "    </tr>\n",
       "  </thead>\n",
       "  <tbody>\n",
       "    <tr>\n",
       "      <th>A</th>\n",
       "      <td>Product A</td>\n",
       "      <td>25000</td>\n",
       "    </tr>\n",
       "    <tr>\n",
       "      <th>B</th>\n",
       "      <td>Product B</td>\n",
       "      <td>25300</td>\n",
       "    </tr>\n",
       "    <tr>\n",
       "      <th>C</th>\n",
       "      <td>Product C</td>\n",
       "      <td>22100</td>\n",
       "    </tr>\n",
       "  </tbody>\n",
       "</table>\n",
       "</div>"
      ],
      "text/plain": [
       "  Product Name  Product Price\n",
       "A    Product A          25000\n",
       "B    Product B          25300\n",
       "C    Product C          22100"
      ]
     },
     "execution_count": 16,
     "metadata": {},
     "output_type": "execute_result"
    }
   ],
   "source": [
    "index = [\"A\",\"B\",\"C\"]\n",
    "df = pd.DataFrame(data, index=index)\n",
    "df"
   ]
  },
  {
   "cell_type": "code",
   "execution_count": null,
   "id": "4effb98a-e7f0-410b-ac18-ff2e14e698ac",
   "metadata": {},
   "outputs": [],
   "source": [
    "data = {'Product Name':\n",
    "            [\n",
    "                'Product A',\n",
    "                'Product B',\n",
    "                'Product C'\n",
    "            ],\n",
    "        'Product Price': \n",
    "            [\n",
    "                25000,\n",
    "                25300,\n",
    "                22100\n",
    "            ],\n",
    "       }"
   ]
  },
  {
   "cell_type": "code",
   "execution_count": 10,
   "id": "7412b54a-bf11-42aa-abfb-3bb295779d4b",
   "metadata": {},
   "outputs": [
    {
     "data": {
      "text/html": [
       "<div>\n",
       "<style scoped>\n",
       "    .dataframe tbody tr th:only-of-type {\n",
       "        vertical-align: middle;\n",
       "    }\n",
       "\n",
       "    .dataframe tbody tr th {\n",
       "        vertical-align: top;\n",
       "    }\n",
       "\n",
       "    .dataframe thead tr th {\n",
       "        text-align: left;\n",
       "    }\n",
       "</style>\n",
       "<table border=\"1\" class=\"dataframe\">\n",
       "  <thead>\n",
       "    <tr>\n",
       "      <th></th>\n",
       "      <th>Product Name</th>\n",
       "      <th>Product Price</th>\n",
       "      <th>A</th>\n",
       "    </tr>\n",
       "  </thead>\n",
       "  <tbody>\n",
       "    <tr>\n",
       "      <th>A</th>\n",
       "      <td>Product A</td>\n",
       "      <td>3000</td>\n",
       "      <td>11</td>\n",
       "    </tr>\n",
       "    <tr>\n",
       "      <th>B</th>\n",
       "      <td>Product B</td>\n",
       "      <td>4000</td>\n",
       "      <td>12</td>\n",
       "    </tr>\n",
       "    <tr>\n",
       "      <th>C</th>\n",
       "      <td>Product C</td>\n",
       "      <td>4500</td>\n",
       "      <td>12</td>\n",
       "    </tr>\n",
       "  </tbody>\n",
       "</table>\n",
       "</div>"
      ],
      "text/plain": [
       "  Product Name Product Price   A\n",
       "A    Product A          3000  11\n",
       "B    Product B          4000  12\n",
       "C    Product C          4500  12"
      ]
     },
     "execution_count": 10,
     "metadata": {},
     "output_type": "execute_result"
    }
   ],
   "source": [
    "df = pd.DataFrame(\n",
    "    data = [\n",
    "        [\"Product A\", 3000,11],\n",
    "        [\"Product B\", 4000,12],\n",
    "        [\"Product C\", 4500,12],\n",
    "    ],\n",
    "    columns = [\n",
    "        [\"Product Name\" , \"Product Price\", \"A\"],\n",
    "        \n",
    "    ],\n",
    "    index = [\n",
    "        [\"A\",\"B\",\"C\"]\n",
    "    ]\n",
    ")\n",
    "df"
   ]
  },
  {
   "cell_type": "code",
   "execution_count": null,
   "id": "a433ce73-a562-408d-9078-e0684c9a950c",
   "metadata": {},
   "outputs": [],
   "source": []
  }
 ],
 "metadata": {
  "kernelspec": {
   "display_name": "Python 3 (ipykernel)",
   "language": "python",
   "name": "python3"
  },
  "language_info": {
   "codemirror_mode": {
    "name": "ipython",
    "version": 3
   },
   "file_extension": ".py",
   "mimetype": "text/x-python",
   "name": "python",
   "nbconvert_exporter": "python",
   "pygments_lexer": "ipython3",
   "version": "3.12.4"
  }
 },
 "nbformat": 4,
 "nbformat_minor": 5
}
